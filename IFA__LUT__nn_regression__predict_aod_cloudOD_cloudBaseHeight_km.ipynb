{
  "nbformat": 4,
  "nbformat_minor": 0,
  "metadata": {
    "colab": {
      "name": "IFA__LUT__nn_regression__predict--aod-cloudOD-cloudBaseHeight_km.ipynb",
      "version": "0.3.2",
      "provenance": [],
      "collapsed_sections": [],
      "include_colab_link": true
    },
    "kernelspec": {
      "name": "python3",
      "display_name": "Python 3"
    }
  },
  "cells": [
    {
      "cell_type": "markdown",
      "metadata": {
        "id": "view-in-github",
        "colab_type": "text"
      },
      "source": [
        "<a href=\"https://colab.research.google.com/github/haalogen/ifa-cloud-nnregressor/blob/master/IFA__LUT__nn_regression__predict_aod_cloudOD_cloudBaseHeight_km.ipynb\" target=\"_parent\"><img src=\"https://colab.research.google.com/assets/colab-badge.svg\" alt=\"Open In Colab\"/></a>"
      ]
    },
    {
      "metadata": {
        "id": "TArV4GDv_G6U",
        "colab_type": "code",
        "colab": {}
      },
      "cell_type": "code",
      "source": [
        "# @created 2018-12-25\n",
        "# @author Stanislav Nikitin\n",
        "# @descr Нейросеть-регрессор для данных LUT (Look Up Table, таблица насчитанных результатов) из ИФА.\n",
        "# Основана на ноутбуке-шаблоне Tensorflow Basic Regression"
      ],
      "execution_count": 0,
      "outputs": []
    },
    {
      "metadata": {
        "id": "xSyXuhXbAuJV",
        "colab_type": "text"
      },
      "cell_type": "markdown",
      "source": [
        "* 21/02/2018  Боровский А.Н. \n",
        "* Получено с использованием MC C++.\n",
        "* Таблица связи измеряемых и неизвестных величин в контексте определения параметров облачности из спектральных измерений.\n",
        "* К измеряемым величинам относятся: интенсивность излучения, индекс цветности, наклонная толща О4, значение линейного члена DOAS-анализа.\n",
        "* Все они измеряются в видимой и УФ области спектра.\n",
        "* К неизвестным величинам относятся:  оптические толщины облачности и аэрозоля, нижняя граница облачности, физическая толщина облачности, концентрация частиц в облаке.\n",
        "* Здесь представлены результаты модельных расчетов, проведенных с различными сценариями облачности и аэрозоля.\n",
        "* Сценарий облачности: \n",
        "*      задавалась нижняя граница облачности, физическая толщина облака и относительная концентрация частиц в облаке.\n",
        "* Модельное значение интенсивности получено осреднением области +/-5 нм справочного спектра, поправленного с использованием коэффициентов, которые получены в результате расчетов MC C++.\n",
        "* Хотя здесь приведено по 4 значения наклонных толщ О4 по данным моделирования в видимой и УФ областях спектра, использовать нужно одну из УФ диапазона, и одну из видимого.\n",
        "*\n",
        "* 12/02/2019  Боровский А.Н. \n",
        "* \n",
        "* Отличие от версии 180221:\n",
        "*    1) в конец таблицы добавлены столбцы значений коэффициентов F (см. описание ниже)\n",
        "*    2) до 1% уменьшена ошибка значений, соответствующих некоторым (но не всем) сценариям с АОТ=0.12 и большой (12 и выше) оптической толще облачности\n",
        "* \n",
        "* Получено с использованием MC C++.\n",
        "* \n",
        "* Таблица связи измеряемых и неизвестных величин в контексте определения \n",
        "*    1) параметров облачности из спектральных измерений;\n",
        "*    2) коэффициентов пересчёта F: V=S×F, V - содержание примеси в вертикальном столбе, S - измеряемое содержание примеси в наклонном столбе.\n",
        "* К измеряемым величинам относятся: интенсивность излучения, индекс цветности, наклонная толща О4, значение линейного члена DOAS-анализа.\n",
        "* Все они измеряются в видимой и УФ области спектра.\n",
        "* К неизвестным величинам относятся: оптические толщины облачности и аэрозоля, нижняя граница облачности, физическая толщина облачности, концентрация частиц в облаке, коэффициенты F.\n",
        "* Здесь представлены результаты модельных расчетов, проведенных с различными сценариями облачности и аэрозоля.\n",
        "* Коэффициенты F получены для двух сценариев формы вертикального распределения примеси: \n",
        "*     1) Winter: 90% примеси равномерно перемешано в пограничном слое атмосферы, высота которого 400 м. Выше 400 м концентрация примеси экпоненциально убывает.\n",
        "*     2) Summer: 90% примеси равномерно перемешано в пограничном слое атмосферы, высота которого 1000 м. Выше 1000 м концентрация примеси экпоненциально убывает.\n",
        "* Сценарии облачности: \n",
        "*      задавалась нижняя граница облачности, физическая толщина облака и относительная концентрация частиц в облаке.\n",
        "* Модельное значение интенсивности получено осреднением справочного спектра в области +/-5 нм от интересуемой длины волны. Справочный спектр поправлялся с использованием коэффициентов, которые получены в результате расчетов MC C++.\n",
        "* Хотя здесь приведено по 4 значения наклонных толщ О4 по данным моделирования в видимой и УФ областях спектра, использовать нужно одну из УФ диапазона, и одну из видимого.\n",
        "*\n",
        "**********************************************\n",
        "* albedo - альбедо подстилающей поверхности\n",
        "* sza_deg - зенитный угол Солнца, градусы\n",
        "* intensity_345nm - интенсивность солнечного излучения на длине волны 345 нм (Вт×(нм×м2×ср)-1)\n",
        "* intensity_374nm - интенсивность солнечного излучения на длине волны 374 нм (Вт×(нм×м2×ср)-1)\n",
        "* intensity_430nm  - интенсивность солнечного излучения на длине волны 430 нм (Вт×(нм×м2×ср)-1)\n",
        "* intensity_480nm  - интенсивность солнечного излучения на длине волны 480 нм (Вт×(нм×м2×ср)-1)\n",
        "* intensityError_340nm - ошибка расчетов интенсивности MC C++ 340 нм (левая граница осреднения для получения интенсивности на длине волны 345 нм) (%)\n",
        "* intensityError_350nm - ошибка расчетов интенсивности MC C++ 350 нм (правая граница осреднения для получения интенсивности на длине волны 345 нм) (%)\n",
        "* intensityError_369nm - ошибка расчетов интенсивности MC C++ 369 нм (левая граница осреднения для получения интенсивности на длине волны 374 нм) (%)\n",
        "* intensityError_379nm - ошибка расчетов интенсивности MC C++ 379 нм (правая граница осреднения для получения интенсивности на длине волны 374 нм) (%)\n",
        "* intensityError_425nm - ошибка расчетов интенсивности MC C++ 425 нм (левая граница осреднения для получения интенсивности на длине волны 430 нм) (%)\n",
        "* intensityError_435nm - ошибка расчетов интенсивности MC C++ 425 нм (правая граница осреднения для получения интенсивности на длине волны 430 нм) (%)\n",
        "* intensityError_475nm - ошибка расчетов интенсивности MC C++ 480 нм (левая граница осреднения для получения интенсивности на длине волны 475 нм) (%)\n",
        "* intensityError_485nm - ошибка расчетов интенсивности MC C++ 485 нм (правая граница осреднения для получения интенсивности на длине волны 475 нм) (%)\n",
        "* O4SCD_340nm - наклонная толща О4 на длине волны 340 нм (размерность?)\n",
        "* O4SCD_350nm - наклонная толща О4 на длине волны 350 нм (размерность?)\n",
        "* O4SCD_369nm - наклонная толща О4 на длине волны 369 нм (размерность?)\n",
        "* O4SCD_379nm - наклонная толща О4 на длине волны 379 нм (размерность?)\n",
        "* O4SCD_425nm - наклонная толща О4 на длине волны 425 нм (размерность?)\n",
        "* O4SCD_435nm - наклонная толща О4 на длине волны 435 нм (размерность?)\n",
        "* O4SCD_475nm - наклонная толща О4 на длине волны 475 нм (размерность?)\n",
        "* O4SCD_485nm - наклонная толща О4 на длине волны 485 нм (размерность?)\n",
        "* ci_uv - индекс цветности УФ диапазона (intensity_374nm / intensity_345nm) (безразмерный)\n",
        "* ci_vis - индекс цветности видимого диапазона (intensity_480nm / intensity_430nm) (безразмерный)\n",
        "* pc_uv - линейный член DOAS-анализа в УФ области ( (intensity_374nm - intensity_345nm) / (374nm - 345nm)   )   (Вт×(нм2×м2×ср)-1)\n",
        "* pc_vis - линейный член DOAS-анализа в видимой области ( (intensity_480nm - intensity_430nm) / (480nm - 430nm)   )   (Вт×(нм2×м2×ср)-1)\n",
        "* aod - оптическая толщина аэрозоля (безразмерная)\n",
        "* cloudOD - оптическая толщина облачности (безразмерная)\n",
        "* cloudBaseHeight_km - высота нижней границы облачности (км)\n",
        "* cloudThick_km - толщина облака (км)\n",
        "* relativeCloudConc - относительная концентрация частиц в облаке (безразмерная)\n",
        "* FSummer_340 - коэффициент F на длине волны 340 нм для Summer-cценария\n",
        "* FWinter_340 - коэффициент F на длине волны 340 нм для Winter-cценария\n",
        "* FSummer_350 - коэффициент F на длине волны 350 нм для Summer-cценария\n",
        "* FWinter_350 - коэффициент F на длине волны 350 нм для Winter-cценария\n",
        "* FSummer_369 - коэффициент F на длине волны 369 нм для Summer-cценария\n",
        "* FWinter_369 - коэффициент F на длине волны 369 нм для Winter-cценария\n",
        "* FSummer_379 - коэффициент F на длине волны 379 нм для Summer-cценария\n",
        "* FWinter_379 - коэффициент F на длине волны 379 нм для Summer-cценария\n",
        "* FSummer_425 - коэффициент F на длине волны 425 нм для Winter-cценария\n",
        "* FWinter_425 - коэффициент F на длине волны 425 нм для Summer-cценария\n",
        "* FSummer_435 - коэффициент F на длине волны 435 нм для Winter-cценария\n",
        "* FWinter_435 - коэффициент F на длине волны 435 нм для Summer-cценария\n",
        "* FSummer_475 - коэффициент F на длине волны 475 нм для Winter-cценария\n",
        "* FWinter_475 - коэффициент F на длине волны 475 нм для Summer-cценария\n",
        "* FSummer_485 - коэффициент F на длине волны 485 нм для Summer-cценария\n",
        "* FWinter_485 - коэффициент F на длине волны 485 нм для Winter-cценария"
      ]
    },
    {
      "metadata": {
        "colab_type": "text",
        "id": "EIdT9iu_Z4Rb"
      },
      "cell_type": "markdown",
      "source": [
        "# Regression: predict fuel efficiency"
      ]
    },
    {
      "metadata": {
        "colab_type": "text",
        "id": "bBIlTPscrIT9"
      },
      "cell_type": "markdown",
      "source": [
        "<table class=\"tfo-notebook-buttons\" align=\"left\">\n",
        "  <td>\n",
        "    <a target=\"_blank\" href=\"https://www.tensorflow.org/tutorials/keras/basic_regression\"><img src=\"https://www.tensorflow.org/images/tf_logo_32px.png\" />View on TensorFlow.org</a>\n",
        "  </td>\n",
        "  <td>\n",
        "    <a target=\"_blank\" href=\"https://colab.research.google.com/github/tensorflow/docs/blob/master/site/en/tutorials/keras/basic_regression.ipynb\"><img src=\"https://www.tensorflow.org/images/colab_logo_32px.png\" />Run in Google Colab</a>\n",
        "  </td>\n",
        "  <td>\n",
        "    <a target=\"_blank\" href=\"https://github.com/tensorflow/docs/blob/master/site/en/tutorials/keras/basic_regression.ipynb\"><img src=\"https://www.tensorflow.org/images/GitHub-Mark-32px.png\" />View source on GitHub</a>\n",
        "  </td>\n",
        "</table>"
      ]
    },
    {
      "metadata": {
        "colab_type": "text",
        "id": "AHp3M9ZmrIxj"
      },
      "cell_type": "markdown",
      "source": [
        "In a *regression* problem, we aim to predict the output of a continuous value, like a price or a probability. Contrast this with a *classification* problem, where we aim to select a class from a list of classes (for example, where a picture contains an apple or an orange, recognizing which fruit is in the picture).\n",
        "\n",
        "This notebook uses the classic [Auto MPG](https://archive.ics.uci.edu/ml/datasets/auto+mpg) Dataset and builds a model to predict the fuel efficiency of late-1970s and early 1980s automobiles. To do this, we'll provide the model with a description of many automobiles from that time period. This description includes attributes like: cylinders, displacement, horsepower, and weight.\n",
        "\n",
        "This example uses the `tf.keras` API, see [this guide](https://www.tensorflow.org/guide/keras) for details."
      ]
    },
    {
      "metadata": {
        "colab_type": "code",
        "id": "moB4tpEHxKB3",
        "outputId": "e0626dc9-db8a-4ebb-e4d5-b393d31be409",
        "colab": {
          "base_uri": "https://localhost:8080/",
          "height": 34
        }
      },
      "cell_type": "code",
      "source": [
        "# Use seaborn for pairplot\n",
        "!pip install seaborn"
      ],
      "execution_count": 56,
      "outputs": [
        {
          "output_type": "stream",
          "text": [
            "Requirement already satisfied: seaborn in /usr/local/lib/python3.6/dist-packages (0.7.1)\n"
          ],
          "name": "stdout"
        }
      ]
    },
    {
      "metadata": {
        "colab_type": "code",
        "id": "1rRo8oNqZ-Rj",
        "outputId": "6b9f44e9-6504-48fc-bd29-cf32aac2592e",
        "colab": {
          "base_uri": "https://localhost:8080/",
          "height": 34
        }
      },
      "cell_type": "code",
      "source": [
        "from __future__ import absolute_import, division, print_function\n",
        "\n",
        "import pathlib\n",
        "\n",
        "import pandas as pd\n",
        "import seaborn as sns\n",
        "\n",
        "import tensorflow as tf\n",
        "from tensorflow import keras\n",
        "from tensorflow.keras import layers\n",
        "\n",
        "pd.set_option('display.max_columns', 500)\n",
        "tf.random.set_random_seed(12345678)\n",
        "print(tf.__version__)"
      ],
      "execution_count": 57,
      "outputs": [
        {
          "output_type": "stream",
          "text": [
            "1.13.0-rc1\n"
          ],
          "name": "stdout"
        }
      ]
    },
    {
      "metadata": {
        "colab_type": "text",
        "id": "F_72b0LCNbjx"
      },
      "cell_type": "markdown",
      "source": [
        "## The Auto MPG dataset\n",
        "\n",
        "The dataset is available from the [UCI Machine Learning Repository](https://archive.ics.uci.edu/).\n",
        "\n"
      ]
    },
    {
      "metadata": {
        "colab_type": "text",
        "id": "gFh9ne3FZ-On"
      },
      "cell_type": "markdown",
      "source": [
        "### Get the data\n",
        "First download the dataset."
      ]
    },
    {
      "metadata": {
        "colab_type": "code",
        "id": "p9kxxgzvzlyz",
        "colab": {}
      },
      "cell_type": "code",
      "source": [
        "# Скачиваем данные\n",
        "data_url_v180221 = 'https://gist.githubusercontent.com/haalogen/0ec5e1b7ae515391484d7883ecb9313c/raw/2fafa96369d496214f2b231966bcd2f82f691658/180221_lutData.tsv'\n",
        "data_url_v190212 = 'https://gist.githubusercontent.com/haalogen/c53f1a2ea432bbe251dbe50c73437d00/raw/32976b13283b5b2f9b68e96c3c766781b5f8b355/190212_lutData.tsv'\n",
        "raw_dataset = pd.read_csv(data_url_v190212, sep='\\t')"
      ],
      "execution_count": 0,
      "outputs": []
    },
    {
      "metadata": {
        "colab_type": "text",
        "id": "nslsRLh7Zss4"
      },
      "cell_type": "markdown",
      "source": [
        "Import it using pandas"
      ]
    },
    {
      "metadata": {
        "colab_type": "code",
        "id": "CiX2FI4gZtTt",
        "outputId": "599a0a7c-7034-4bc3-c9ac-ca0870a1c8c1",
        "colab": {
          "base_uri": "https://localhost:8080/",
          "height": 445
        }
      },
      "cell_type": "code",
      "source": [
        "column_names = raw_dataset.columns\n",
        "print(column_names)\n",
        "\n",
        "dataset = raw_dataset.copy()\n",
        "\n",
        "# Выкинем ненужные данные\n",
        "dropped_columns = [\n",
        "  'cloudThick_km', \n",
        "  'relativeCloudConc', \n",
        "  'intensityError_340nm',\n",
        "  'intensityError_350nm',\n",
        "  'intensityError_369nm',\n",
        "  'intensityError_379nm',\n",
        "  'intensityError_425nm',\n",
        "  'intensityError_435nm',\n",
        "  'intensityError_475nm',\n",
        "  'intensityError_485nm'\n",
        "]\n",
        "dataset = dataset.drop(columns=dropped_columns)\n",
        "dataset.tail()"
      ],
      "execution_count": 59,
      "outputs": [
        {
          "output_type": "stream",
          "text": [
            "Index(['albedo', 'sza_deg', 'intensity_345nm', 'intensity_374nm',\n",
            "       'intensity_430nm', 'intensity_480nm', 'intensityError_340nm',\n",
            "       'intensityError_350nm', 'intensityError_369nm', 'intensityError_379nm',\n",
            "       'intensityError_425nm', 'intensityError_435nm', 'intensityError_475nm',\n",
            "       'intensityError_485nm', 'O4SCD_340nm', 'O4SCD_350nm', 'O4SCD_369nm',\n",
            "       'O4SCD_379nm', 'O4SCD_425nm', 'O4SCD_435nm', 'O4SCD_475nm',\n",
            "       'O4SCD_485nm', 'ci_uv', 'ci_vis', 'pc_uv', 'pc_vis', 'aod', 'cloudOD',\n",
            "       'cloudBaseHeight_km', 'cloudThick_km', 'relativeCloudConc',\n",
            "       'FSummer_340', 'FWinter_340', 'FSummer_350', 'FWinter_350',\n",
            "       'FSummer_369', 'FWinter_369', 'FSummer_379', 'FWinter_379',\n",
            "       'FSummer_425', 'FWinter_425', 'FSummer_435', 'FWinter_435',\n",
            "       'FSummer_475', 'FWinter_475', 'FSummer_485', 'FWinter_485'],\n",
            "      dtype='object')\n"
          ],
          "name": "stdout"
        },
        {
          "output_type": "execute_result",
          "data": {
            "text/html": [
              "<div>\n",
              "<style scoped>\n",
              "    .dataframe tbody tr th:only-of-type {\n",
              "        vertical-align: middle;\n",
              "    }\n",
              "\n",
              "    .dataframe tbody tr th {\n",
              "        vertical-align: top;\n",
              "    }\n",
              "\n",
              "    .dataframe thead th {\n",
              "        text-align: right;\n",
              "    }\n",
              "</style>\n",
              "<table border=\"1\" class=\"dataframe\">\n",
              "  <thead>\n",
              "    <tr style=\"text-align: right;\">\n",
              "      <th></th>\n",
              "      <th>albedo</th>\n",
              "      <th>sza_deg</th>\n",
              "      <th>intensity_345nm</th>\n",
              "      <th>intensity_374nm</th>\n",
              "      <th>intensity_430nm</th>\n",
              "      <th>intensity_480nm</th>\n",
              "      <th>O4SCD_340nm</th>\n",
              "      <th>O4SCD_350nm</th>\n",
              "      <th>O4SCD_369nm</th>\n",
              "      <th>O4SCD_379nm</th>\n",
              "      <th>O4SCD_425nm</th>\n",
              "      <th>O4SCD_435nm</th>\n",
              "      <th>O4SCD_475nm</th>\n",
              "      <th>O4SCD_485nm</th>\n",
              "      <th>ci_uv</th>\n",
              "      <th>ci_vis</th>\n",
              "      <th>pc_uv</th>\n",
              "      <th>pc_vis</th>\n",
              "      <th>aod</th>\n",
              "      <th>cloudOD</th>\n",
              "      <th>cloudBaseHeight_km</th>\n",
              "      <th>FSummer_340</th>\n",
              "      <th>FWinter_340</th>\n",
              "      <th>FSummer_350</th>\n",
              "      <th>FWinter_350</th>\n",
              "      <th>FSummer_369</th>\n",
              "      <th>FWinter_369</th>\n",
              "      <th>FSummer_379</th>\n",
              "      <th>FWinter_379</th>\n",
              "      <th>FSummer_425</th>\n",
              "      <th>FWinter_425</th>\n",
              "      <th>FSummer_435</th>\n",
              "      <th>FWinter_435</th>\n",
              "      <th>FSummer_475</th>\n",
              "      <th>FWinter_475</th>\n",
              "      <th>FSummer_485</th>\n",
              "      <th>FWinter_485</th>\n",
              "    </tr>\n",
              "  </thead>\n",
              "  <tbody>\n",
              "    <tr>\n",
              "      <th>2725</th>\n",
              "      <td>0.34</td>\n",
              "      <td>84</td>\n",
              "      <td>0.076304</td>\n",
              "      <td>0.105087</td>\n",
              "      <td>0.170608</td>\n",
              "      <td>0.231962</td>\n",
              "      <td>2.960000e+24</td>\n",
              "      <td>3.030000e+24</td>\n",
              "      <td>3.130000e+24</td>\n",
              "      <td>3.180000e+24</td>\n",
              "      <td>3.500000e+24</td>\n",
              "      <td>3.560000e+24</td>\n",
              "      <td>3.910000e+24</td>\n",
              "      <td>3.940000e+24</td>\n",
              "      <td>1.377205</td>\n",
              "      <td>1.359621</td>\n",
              "      <td>0.000992</td>\n",
              "      <td>0.001227</td>\n",
              "      <td>1.07</td>\n",
              "      <td>25.6</td>\n",
              "      <td>3.2</td>\n",
              "      <td>0.150491</td>\n",
              "      <td>0.150491</td>\n",
              "      <td>0.151428</td>\n",
              "      <td>0.151428</td>\n",
              "      <td>0.150126</td>\n",
              "      <td>0.150126</td>\n",
              "      <td>0.150930</td>\n",
              "      <td>0.150930</td>\n",
              "      <td>0.142893</td>\n",
              "      <td>0.142893</td>\n",
              "      <td>0.142300</td>\n",
              "      <td>0.142300</td>\n",
              "      <td>0.133084</td>\n",
              "      <td>0.133084</td>\n",
              "      <td>0.133534</td>\n",
              "      <td>0.133534</td>\n",
              "    </tr>\n",
              "    <tr>\n",
              "      <th>2726</th>\n",
              "      <td>0.34</td>\n",
              "      <td>84</td>\n",
              "      <td>0.011126</td>\n",
              "      <td>0.018397</td>\n",
              "      <td>0.035423</td>\n",
              "      <td>0.046985</td>\n",
              "      <td>3.770000e+24</td>\n",
              "      <td>4.000000e+24</td>\n",
              "      <td>4.080000e+24</td>\n",
              "      <td>4.130000e+24</td>\n",
              "      <td>4.060000e+24</td>\n",
              "      <td>4.180000e+24</td>\n",
              "      <td>4.470000e+24</td>\n",
              "      <td>4.490000e+24</td>\n",
              "      <td>1.653473</td>\n",
              "      <td>1.326414</td>\n",
              "      <td>0.000251</td>\n",
              "      <td>0.000231</td>\n",
              "      <td>1.07</td>\n",
              "      <td>51.2</td>\n",
              "      <td>0.4</td>\n",
              "      <td>0.107817</td>\n",
              "      <td>0.107817</td>\n",
              "      <td>0.110748</td>\n",
              "      <td>0.110748</td>\n",
              "      <td>0.113075</td>\n",
              "      <td>0.113075</td>\n",
              "      <td>0.116472</td>\n",
              "      <td>0.116472</td>\n",
              "      <td>0.115144</td>\n",
              "      <td>0.115144</td>\n",
              "      <td>0.112117</td>\n",
              "      <td>0.112117</td>\n",
              "      <td>0.106114</td>\n",
              "      <td>0.106114</td>\n",
              "      <td>0.104316</td>\n",
              "      <td>0.104316</td>\n",
              "    </tr>\n",
              "    <tr>\n",
              "      <th>2727</th>\n",
              "      <td>0.34</td>\n",
              "      <td>84</td>\n",
              "      <td>0.015148</td>\n",
              "      <td>0.023393</td>\n",
              "      <td>0.034444</td>\n",
              "      <td>0.042046</td>\n",
              "      <td>3.560000e+24</td>\n",
              "      <td>3.650000e+24</td>\n",
              "      <td>3.680000e+24</td>\n",
              "      <td>3.730000e+24</td>\n",
              "      <td>4.200000e+24</td>\n",
              "      <td>4.270000e+24</td>\n",
              "      <td>4.570000e+24</td>\n",
              "      <td>4.620000e+24</td>\n",
              "      <td>1.544299</td>\n",
              "      <td>1.220702</td>\n",
              "      <td>0.000284</td>\n",
              "      <td>0.000152</td>\n",
              "      <td>1.07</td>\n",
              "      <td>51.2</td>\n",
              "      <td>0.8</td>\n",
              "      <td>0.132382</td>\n",
              "      <td>0.132382</td>\n",
              "      <td>0.135068</td>\n",
              "      <td>0.135068</td>\n",
              "      <td>0.131413</td>\n",
              "      <td>0.131413</td>\n",
              "      <td>0.133111</td>\n",
              "      <td>0.133111</td>\n",
              "      <td>0.120569</td>\n",
              "      <td>0.120569</td>\n",
              "      <td>0.118135</td>\n",
              "      <td>0.118135</td>\n",
              "      <td>0.112108</td>\n",
              "      <td>0.112108</td>\n",
              "      <td>0.112628</td>\n",
              "      <td>0.112628</td>\n",
              "    </tr>\n",
              "    <tr>\n",
              "      <th>2728</th>\n",
              "      <td>0.34</td>\n",
              "      <td>84</td>\n",
              "      <td>0.020639</td>\n",
              "      <td>0.025644</td>\n",
              "      <td>0.034916</td>\n",
              "      <td>0.041120</td>\n",
              "      <td>3.480000e+24</td>\n",
              "      <td>3.530000e+24</td>\n",
              "      <td>3.550000e+24</td>\n",
              "      <td>3.590000e+24</td>\n",
              "      <td>4.080000e+24</td>\n",
              "      <td>4.120000e+24</td>\n",
              "      <td>4.370000e+24</td>\n",
              "      <td>4.400000e+24</td>\n",
              "      <td>1.242480</td>\n",
              "      <td>1.177680</td>\n",
              "      <td>0.000173</td>\n",
              "      <td>0.000124</td>\n",
              "      <td>1.07</td>\n",
              "      <td>51.2</td>\n",
              "      <td>1.6</td>\n",
              "      <td>0.152002</td>\n",
              "      <td>0.152002</td>\n",
              "      <td>0.151934</td>\n",
              "      <td>0.151934</td>\n",
              "      <td>0.149699</td>\n",
              "      <td>0.149699</td>\n",
              "      <td>0.147884</td>\n",
              "      <td>0.147884</td>\n",
              "      <td>0.123310</td>\n",
              "      <td>0.123310</td>\n",
              "      <td>0.124783</td>\n",
              "      <td>0.124783</td>\n",
              "      <td>0.124182</td>\n",
              "      <td>0.124182</td>\n",
              "      <td>0.122586</td>\n",
              "      <td>0.122586</td>\n",
              "    </tr>\n",
              "    <tr>\n",
              "      <th>2729</th>\n",
              "      <td>0.34</td>\n",
              "      <td>84</td>\n",
              "      <td>0.023082</td>\n",
              "      <td>0.033262</td>\n",
              "      <td>0.051372</td>\n",
              "      <td>0.066525</td>\n",
              "      <td>3.240000e+24</td>\n",
              "      <td>3.280000e+24</td>\n",
              "      <td>3.290000e+24</td>\n",
              "      <td>3.290000e+24</td>\n",
              "      <td>3.540000e+24</td>\n",
              "      <td>3.590000e+24</td>\n",
              "      <td>3.790000e+24</td>\n",
              "      <td>3.860000e+24</td>\n",
              "      <td>1.441040</td>\n",
              "      <td>1.294958</td>\n",
              "      <td>0.000351</td>\n",
              "      <td>0.000303</td>\n",
              "      <td>1.07</td>\n",
              "      <td>51.2</td>\n",
              "      <td>3.2</td>\n",
              "      <td>0.157644</td>\n",
              "      <td>0.157644</td>\n",
              "      <td>0.158217</td>\n",
              "      <td>0.158217</td>\n",
              "      <td>0.157332</td>\n",
              "      <td>0.157332</td>\n",
              "      <td>0.156157</td>\n",
              "      <td>0.156157</td>\n",
              "      <td>0.148914</td>\n",
              "      <td>0.148914</td>\n",
              "      <td>0.148285</td>\n",
              "      <td>0.148285</td>\n",
              "      <td>0.144840</td>\n",
              "      <td>0.144840</td>\n",
              "      <td>0.143726</td>\n",
              "      <td>0.143726</td>\n",
              "    </tr>\n",
              "  </tbody>\n",
              "</table>\n",
              "</div>"
            ],
            "text/plain": [
              "      albedo  sza_deg  intensity_345nm  intensity_374nm  intensity_430nm  \\\n",
              "2725    0.34       84         0.076304         0.105087         0.170608   \n",
              "2726    0.34       84         0.011126         0.018397         0.035423   \n",
              "2727    0.34       84         0.015148         0.023393         0.034444   \n",
              "2728    0.34       84         0.020639         0.025644         0.034916   \n",
              "2729    0.34       84         0.023082         0.033262         0.051372   \n",
              "\n",
              "      intensity_480nm   O4SCD_340nm   O4SCD_350nm   O4SCD_369nm   O4SCD_379nm  \\\n",
              "2725         0.231962  2.960000e+24  3.030000e+24  3.130000e+24  3.180000e+24   \n",
              "2726         0.046985  3.770000e+24  4.000000e+24  4.080000e+24  4.130000e+24   \n",
              "2727         0.042046  3.560000e+24  3.650000e+24  3.680000e+24  3.730000e+24   \n",
              "2728         0.041120  3.480000e+24  3.530000e+24  3.550000e+24  3.590000e+24   \n",
              "2729         0.066525  3.240000e+24  3.280000e+24  3.290000e+24  3.290000e+24   \n",
              "\n",
              "       O4SCD_425nm   O4SCD_435nm   O4SCD_475nm   O4SCD_485nm     ci_uv  \\\n",
              "2725  3.500000e+24  3.560000e+24  3.910000e+24  3.940000e+24  1.377205   \n",
              "2726  4.060000e+24  4.180000e+24  4.470000e+24  4.490000e+24  1.653473   \n",
              "2727  4.200000e+24  4.270000e+24  4.570000e+24  4.620000e+24  1.544299   \n",
              "2728  4.080000e+24  4.120000e+24  4.370000e+24  4.400000e+24  1.242480   \n",
              "2729  3.540000e+24  3.590000e+24  3.790000e+24  3.860000e+24  1.441040   \n",
              "\n",
              "        ci_vis     pc_uv    pc_vis   aod  cloudOD  cloudBaseHeight_km  \\\n",
              "2725  1.359621  0.000992  0.001227  1.07     25.6                 3.2   \n",
              "2726  1.326414  0.000251  0.000231  1.07     51.2                 0.4   \n",
              "2727  1.220702  0.000284  0.000152  1.07     51.2                 0.8   \n",
              "2728  1.177680  0.000173  0.000124  1.07     51.2                 1.6   \n",
              "2729  1.294958  0.000351  0.000303  1.07     51.2                 3.2   \n",
              "\n",
              "      FSummer_340  FWinter_340  FSummer_350  FWinter_350  FSummer_369  \\\n",
              "2725     0.150491     0.150491     0.151428     0.151428     0.150126   \n",
              "2726     0.107817     0.107817     0.110748     0.110748     0.113075   \n",
              "2727     0.132382     0.132382     0.135068     0.135068     0.131413   \n",
              "2728     0.152002     0.152002     0.151934     0.151934     0.149699   \n",
              "2729     0.157644     0.157644     0.158217     0.158217     0.157332   \n",
              "\n",
              "      FWinter_369  FSummer_379  FWinter_379  FSummer_425  FWinter_425  \\\n",
              "2725     0.150126     0.150930     0.150930     0.142893     0.142893   \n",
              "2726     0.113075     0.116472     0.116472     0.115144     0.115144   \n",
              "2727     0.131413     0.133111     0.133111     0.120569     0.120569   \n",
              "2728     0.149699     0.147884     0.147884     0.123310     0.123310   \n",
              "2729     0.157332     0.156157     0.156157     0.148914     0.148914   \n",
              "\n",
              "      FSummer_435  FWinter_435  FSummer_475  FWinter_475  FSummer_485  \\\n",
              "2725     0.142300     0.142300     0.133084     0.133084     0.133534   \n",
              "2726     0.112117     0.112117     0.106114     0.106114     0.104316   \n",
              "2727     0.118135     0.118135     0.112108     0.112108     0.112628   \n",
              "2728     0.124783     0.124783     0.124182     0.124182     0.122586   \n",
              "2729     0.148285     0.148285     0.144840     0.144840     0.143726   \n",
              "\n",
              "      FWinter_485  \n",
              "2725     0.133534  \n",
              "2726     0.104316  \n",
              "2727     0.112628  \n",
              "2728     0.122586  \n",
              "2729     0.143726  "
            ]
          },
          "metadata": {
            "tags": []
          },
          "execution_count": 59
        }
      ]
    },
    {
      "metadata": {
        "colab_type": "text",
        "id": "3MWuJTKEDM-f"
      },
      "cell_type": "markdown",
      "source": [
        "### Clean the data\n",
        "\n",
        "The dataset contains a few unknown values. "
      ]
    },
    {
      "metadata": {
        "id": "hd3rxu5aR1fw",
        "colab_type": "code",
        "colab": {}
      },
      "cell_type": "code",
      "source": [
        "# dataset.isna?"
      ],
      "execution_count": 0,
      "outputs": []
    },
    {
      "metadata": {
        "colab_type": "code",
        "id": "JEJHhN65a2VV",
        "outputId": "d2ab0c9d-5028-4e8d-f71e-ac424caca4a2",
        "colab": {
          "base_uri": "https://localhost:8080/",
          "height": 663
        }
      },
      "cell_type": "code",
      "source": [
        "dataset.isna().sum()"
      ],
      "execution_count": 61,
      "outputs": [
        {
          "output_type": "execute_result",
          "data": {
            "text/plain": [
              "albedo                 0\n",
              "sza_deg                0\n",
              "intensity_345nm        0\n",
              "intensity_374nm        0\n",
              "intensity_430nm        0\n",
              "intensity_480nm        0\n",
              "O4SCD_340nm            0\n",
              "O4SCD_350nm            0\n",
              "O4SCD_369nm            0\n",
              "O4SCD_379nm            0\n",
              "O4SCD_425nm            0\n",
              "O4SCD_435nm            0\n",
              "O4SCD_475nm            0\n",
              "O4SCD_485nm            0\n",
              "ci_uv                  0\n",
              "ci_vis                 0\n",
              "pc_uv                  0\n",
              "pc_vis                 0\n",
              "aod                    0\n",
              "cloudOD               42\n",
              "cloudBaseHeight_km    42\n",
              "FSummer_340            0\n",
              "FWinter_340            0\n",
              "FSummer_350            0\n",
              "FWinter_350            0\n",
              "FSummer_369            0\n",
              "FWinter_369            0\n",
              "FSummer_379            0\n",
              "FWinter_379            0\n",
              "FSummer_425            0\n",
              "FWinter_425            0\n",
              "FSummer_435            0\n",
              "FWinter_435            0\n",
              "FSummer_475            0\n",
              "FWinter_475            0\n",
              "FSummer_485            0\n",
              "FWinter_485            0\n",
              "dtype: int64"
            ]
          },
          "metadata": {
            "tags": []
          },
          "execution_count": 61
        }
      ]
    },
    {
      "metadata": {
        "colab_type": "text",
        "id": "9UPN0KBHa_WI"
      },
      "cell_type": "markdown",
      "source": [
        "To keep this initial tutorial simple drop those rows. "
      ]
    },
    {
      "metadata": {
        "colab_type": "code",
        "id": "4ZUDosChC1UN",
        "colab": {}
      },
      "cell_type": "code",
      "source": [
        "dataset = dataset.dropna()"
      ],
      "execution_count": 0,
      "outputs": []
    },
    {
      "metadata": {
        "colab_type": "text",
        "id": "8XKitwaH4v8h"
      },
      "cell_type": "markdown",
      "source": [
        "The `\"Origin\"` column is really categorical, not numeric. So convert that to a one-hot:"
      ]
    },
    {
      "metadata": {
        "colab_type": "code",
        "id": "gWNTD2QjBWFJ",
        "colab": {}
      },
      "cell_type": "code",
      "source": [
        "# origin = dataset.pop('Origin')"
      ],
      "execution_count": 0,
      "outputs": []
    },
    {
      "metadata": {
        "colab_type": "code",
        "id": "ulXz4J7PAUzk",
        "colab": {}
      },
      "cell_type": "code",
      "source": [
        "# dataset['USA'] = (origin == 1)*1.0\n",
        "# dataset['Europe'] = (origin == 2)*1.0\n",
        "# dataset['Japan'] = (origin == 3)*1.0\n",
        "# dataset.tail()"
      ],
      "execution_count": 0,
      "outputs": []
    },
    {
      "metadata": {
        "id": "MwiL2k6iSqjY",
        "colab_type": "code",
        "colab": {}
      },
      "cell_type": "code",
      "source": [
        "# dataset.drop?"
      ],
      "execution_count": 0,
      "outputs": []
    },
    {
      "metadata": {
        "colab_type": "text",
        "id": "Cuym4yvk76vU"
      },
      "cell_type": "markdown",
      "source": [
        "### Split the data into train and test\n",
        "\n",
        "Now split the dataset into a training set and a test set.\n",
        "\n",
        "We will use the test set in the final evaluation of our model."
      ]
    },
    {
      "metadata": {
        "id": "pWaIwKLYTQCW",
        "colab_type": "code",
        "colab": {}
      },
      "cell_type": "code",
      "source": [
        "# dataset.sample?"
      ],
      "execution_count": 0,
      "outputs": []
    },
    {
      "metadata": {
        "id": "EwUNkWrbTGYv",
        "colab_type": "code",
        "colab": {}
      },
      "cell_type": "code",
      "source": [
        "train_dataset = dataset.sample(frac=0.8,random_state=0)\n",
        "test_dataset = dataset.drop(train_dataset.index)"
      ],
      "execution_count": 0,
      "outputs": []
    },
    {
      "metadata": {
        "colab_type": "text",
        "id": "J4ubs136WLNp"
      },
      "cell_type": "markdown",
      "source": [
        "### Inspect the data\n",
        "\n",
        "Have a quick look at the joint distribution of a few pairs of columns from the training set."
      ]
    },
    {
      "metadata": {
        "id": "pxou57rKT5pY",
        "colab_type": "code",
        "colab": {}
      },
      "cell_type": "code",
      "source": [
        "# sns.pairplot?"
      ],
      "execution_count": 0,
      "outputs": []
    },
    {
      "metadata": {
        "id": "J6EfNIU6DGno",
        "colab_type": "code",
        "outputId": "9cd4037a-226f-4aa7-e74f-5e6fa77676e1",
        "colab": {
          "base_uri": "https://localhost:8080/",
          "height": 238
        }
      },
      "cell_type": "code",
      "source": [
        "column_names"
      ],
      "execution_count": 69,
      "outputs": [
        {
          "output_type": "execute_result",
          "data": {
            "text/plain": [
              "Index(['albedo', 'sza_deg', 'intensity_345nm', 'intensity_374nm',\n",
              "       'intensity_430nm', 'intensity_480nm', 'intensityError_340nm',\n",
              "       'intensityError_350nm', 'intensityError_369nm', 'intensityError_379nm',\n",
              "       'intensityError_425nm', 'intensityError_435nm', 'intensityError_475nm',\n",
              "       'intensityError_485nm', 'O4SCD_340nm', 'O4SCD_350nm', 'O4SCD_369nm',\n",
              "       'O4SCD_379nm', 'O4SCD_425nm', 'O4SCD_435nm', 'O4SCD_475nm',\n",
              "       'O4SCD_485nm', 'ci_uv', 'ci_vis', 'pc_uv', 'pc_vis', 'aod', 'cloudOD',\n",
              "       'cloudBaseHeight_km', 'cloudThick_km', 'relativeCloudConc',\n",
              "       'FSummer_340', 'FWinter_340', 'FSummer_350', 'FWinter_350',\n",
              "       'FSummer_369', 'FWinter_369', 'FSummer_379', 'FWinter_379',\n",
              "       'FSummer_425', 'FWinter_425', 'FSummer_435', 'FWinter_435',\n",
              "       'FSummer_475', 'FWinter_475', 'FSummer_485', 'FWinter_485'],\n",
              "      dtype='object')"
            ]
          },
          "metadata": {
            "tags": []
          },
          "execution_count": 69
        }
      ]
    },
    {
      "metadata": {
        "colab_type": "code",
        "id": "oRKO_x8gWKv-",
        "outputId": "8f72d01f-cbb6-4b31-eb99-359cf4314ccf",
        "colab": {
          "base_uri": "https://localhost:8080/",
          "height": 738
        }
      },
      "cell_type": "code",
      "source": [
        "sns.pairplot(train_dataset[[\"intensity_345nm\", \"O4SCD_340nm\", \"aod\", \"cloudBaseHeight_km\"]], diag_kind=\"kde\")"
      ],
      "execution_count": 70,
      "outputs": [
        {
          "output_type": "execute_result",
          "data": {
            "text/plain": [
              "<seaborn.axisgrid.PairGrid at 0x7f2486554c50>"
            ]
          },
          "metadata": {
            "tags": []
          },
          "execution_count": 70
        },
        {
          "output_type": "display_data",
          "data": {
            "image/png": "[encoded data removed]",
            "text/plain": [
              "<Figure size 720x720 with 20 Axes>"
            ]
          },
          "metadata": {
            "tags": []
          }
        }
      ]
    },
    {
      "metadata": {
        "colab_type": "text",
        "id": "gavKO_6DWRMP"
      },
      "cell_type": "markdown",
      "source": [
        "Also look at the overall statistics:"
      ]
    },
    {
      "metadata": {
        "colab_type": "code",
        "id": "yi2FzC3T21jR",
        "outputId": "74390684-f6a2-4b91-acfc-f9c991c0d76a",
        "colab": {
          "base_uri": "https://localhost:8080/",
          "height": 1103
        }
      },
      "cell_type": "code",
      "source": [
        "train_stats = train_dataset.describe()\n",
        "train_stats.pop(\"aod\")\n",
        "train_stats.pop(\"cloudOD\")\n",
        "train_stats.pop(\"cloudBaseHeight_km\")\n",
        "train_stats = train_stats.transpose()\n",
        "train_stats"
      ],
      "execution_count": 71,
      "outputs": [
        {
          "output_type": "execute_result",
          "data": {
            "text/html": [
              "<div>\n",
              "<style scoped>\n",
              "    .dataframe tbody tr th:only-of-type {\n",
              "        vertical-align: middle;\n",
              "    }\n",
              "\n",
              "    .dataframe tbody tr th {\n",
              "        vertical-align: top;\n",
              "    }\n",
              "\n",
              "    .dataframe thead th {\n",
              "        text-align: right;\n",
              "    }\n",
              "</style>\n",
              "<table border=\"1\" class=\"dataframe\">\n",
              "  <thead>\n",
              "    <tr style=\"text-align: right;\">\n",
              "      <th></th>\n",
              "      <th>count</th>\n",
              "      <th>mean</th>\n",
              "      <th>std</th>\n",
              "      <th>min</th>\n",
              "      <th>25%</th>\n",
              "      <th>50%</th>\n",
              "      <th>75%</th>\n",
              "      <th>max</th>\n",
              "    </tr>\n",
              "  </thead>\n",
              "  <tbody>\n",
              "    <tr>\n",
              "      <th>albedo</th>\n",
              "      <td>2150.0</td>\n",
              "      <td>1.956744e-01</td>\n",
              "      <td>1.450322e-01</td>\n",
              "      <td>5.000000e-02</td>\n",
              "      <td>5.000000e-02</td>\n",
              "      <td>3.400000e-01</td>\n",
              "      <td>3.400000e-01</td>\n",
              "      <td>3.400000e-01</td>\n",
              "    </tr>\n",
              "    <tr>\n",
              "      <th>sza_deg</th>\n",
              "      <td>2150.0</td>\n",
              "      <td>5.902791e+01</td>\n",
              "      <td>1.891309e+01</td>\n",
              "      <td>3.000000e+01</td>\n",
              "      <td>4.000000e+01</td>\n",
              "      <td>6.000000e+01</td>\n",
              "      <td>8.000000e+01</td>\n",
              "      <td>8.400000e+01</td>\n",
              "    </tr>\n",
              "    <tr>\n",
              "      <th>intensity_345nm</th>\n",
              "      <td>2150.0</td>\n",
              "      <td>2.757267e+00</td>\n",
              "      <td>3.017219e+00</td>\n",
              "      <td>6.610553e-03</td>\n",
              "      <td>4.935814e-01</td>\n",
              "      <td>1.523821e+00</td>\n",
              "      <td>4.118631e+00</td>\n",
              "      <td>1.481136e+01</td>\n",
              "    </tr>\n",
              "    <tr>\n",
              "      <th>intensity_374nm</th>\n",
              "      <td>2150.0</td>\n",
              "      <td>3.643770e+00</td>\n",
              "      <td>3.900458e+00</td>\n",
              "      <td>1.019668e-02</td>\n",
              "      <td>6.733787e-01</td>\n",
              "      <td>2.131377e+00</td>\n",
              "      <td>5.577072e+00</td>\n",
              "      <td>1.916173e+01</td>\n",
              "    </tr>\n",
              "    <tr>\n",
              "      <th>intensity_430nm</th>\n",
              "      <td>2150.0</td>\n",
              "      <td>5.556622e+00</td>\n",
              "      <td>5.844760e+00</td>\n",
              "      <td>1.654152e-02</td>\n",
              "      <td>1.034177e+00</td>\n",
              "      <td>3.344984e+00</td>\n",
              "      <td>8.686756e+00</td>\n",
              "      <td>2.852181e+01</td>\n",
              "    </tr>\n",
              "    <tr>\n",
              "      <th>intensity_480nm</th>\n",
              "      <td>2150.0</td>\n",
              "      <td>7.351100e+00</td>\n",
              "      <td>7.689352e+00</td>\n",
              "      <td>2.028251e-02</td>\n",
              "      <td>1.336998e+00</td>\n",
              "      <td>4.514697e+00</td>\n",
              "      <td>1.156099e+01</td>\n",
              "      <td>3.725046e+01</td>\n",
              "    </tr>\n",
              "    <tr>\n",
              "      <th>O4SCD_340nm</th>\n",
              "      <td>2150.0</td>\n",
              "      <td>2.957177e+24</td>\n",
              "      <td>7.583534e+23</td>\n",
              "      <td>1.650000e+24</td>\n",
              "      <td>2.410000e+24</td>\n",
              "      <td>2.840000e+24</td>\n",
              "      <td>3.390000e+24</td>\n",
              "      <td>5.960000e+24</td>\n",
              "    </tr>\n",
              "    <tr>\n",
              "      <th>O4SCD_350nm</th>\n",
              "      <td>2150.0</td>\n",
              "      <td>2.967944e+24</td>\n",
              "      <td>7.828176e+23</td>\n",
              "      <td>1.640000e+24</td>\n",
              "      <td>2.400000e+24</td>\n",
              "      <td>2.845000e+24</td>\n",
              "      <td>3.420000e+24</td>\n",
              "      <td>6.060000e+24</td>\n",
              "    </tr>\n",
              "    <tr>\n",
              "      <th>O4SCD_369nm</th>\n",
              "      <td>2150.0</td>\n",
              "      <td>2.969447e+24</td>\n",
              "      <td>8.201404e+23</td>\n",
              "      <td>1.610000e+24</td>\n",
              "      <td>2.350000e+24</td>\n",
              "      <td>2.850000e+24</td>\n",
              "      <td>3.460000e+24</td>\n",
              "      <td>6.240000e+24</td>\n",
              "    </tr>\n",
              "    <tr>\n",
              "      <th>O4SCD_379nm</th>\n",
              "      <td>2150.0</td>\n",
              "      <td>2.980600e+24</td>\n",
              "      <td>8.474522e+23</td>\n",
              "      <td>1.600000e+24</td>\n",
              "      <td>2.330000e+24</td>\n",
              "      <td>2.860000e+24</td>\n",
              "      <td>3.510000e+24</td>\n",
              "      <td>6.350000e+24</td>\n",
              "    </tr>\n",
              "    <tr>\n",
              "      <th>O4SCD_425nm</th>\n",
              "      <td>2150.0</td>\n",
              "      <td>3.036344e+24</td>\n",
              "      <td>9.813394e+23</td>\n",
              "      <td>1.550000e+24</td>\n",
              "      <td>2.240000e+24</td>\n",
              "      <td>2.890000e+24</td>\n",
              "      <td>3.650000e+24</td>\n",
              "      <td>6.880000e+24</td>\n",
              "    </tr>\n",
              "    <tr>\n",
              "      <th>O4SCD_435nm</th>\n",
              "      <td>2150.0</td>\n",
              "      <td>3.046707e+24</td>\n",
              "      <td>1.008692e+24</td>\n",
              "      <td>1.550000e+24</td>\n",
              "      <td>2.220000e+24</td>\n",
              "      <td>2.890000e+24</td>\n",
              "      <td>3.670000e+24</td>\n",
              "      <td>7.010000e+24</td>\n",
              "    </tr>\n",
              "    <tr>\n",
              "      <th>O4SCD_475nm</th>\n",
              "      <td>2150.0</td>\n",
              "      <td>3.105363e+24</td>\n",
              "      <td>1.129242e+24</td>\n",
              "      <td>1.510000e+24</td>\n",
              "      <td>2.170000e+24</td>\n",
              "      <td>2.890000e+24</td>\n",
              "      <td>3.790000e+24</td>\n",
              "      <td>7.400000e+24</td>\n",
              "    </tr>\n",
              "    <tr>\n",
              "      <th>O4SCD_485nm</th>\n",
              "      <td>2150.0</td>\n",
              "      <td>3.116121e+24</td>\n",
              "      <td>1.156952e+24</td>\n",
              "      <td>1.500000e+24</td>\n",
              "      <td>2.160000e+24</td>\n",
              "      <td>2.870000e+24</td>\n",
              "      <td>3.820000e+24</td>\n",
              "      <td>7.480000e+24</td>\n",
              "    </tr>\n",
              "    <tr>\n",
              "      <th>ci_uv</th>\n",
              "      <td>2150.0</td>\n",
              "      <td>1.356463e+00</td>\n",
              "      <td>7.828137e-02</td>\n",
              "      <td>1.137028e+00</td>\n",
              "      <td>1.296289e+00</td>\n",
              "      <td>1.353222e+00</td>\n",
              "      <td>1.419795e+00</td>\n",
              "      <td>2.184775e+00</td>\n",
              "    </tr>\n",
              "    <tr>\n",
              "      <th>ci_vis</th>\n",
              "      <td>2150.0</td>\n",
              "      <td>1.313270e+00</td>\n",
              "      <td>9.318360e-02</td>\n",
              "      <td>9.109991e-01</td>\n",
              "      <td>1.255896e+00</td>\n",
              "      <td>1.304915e+00</td>\n",
              "      <td>1.365632e+00</td>\n",
              "      <td>1.734167e+00</td>\n",
              "    </tr>\n",
              "    <tr>\n",
              "      <th>pc_uv</th>\n",
              "      <td>2150.0</td>\n",
              "      <td>3.056905e-02</td>\n",
              "      <td>3.126382e-02</td>\n",
              "      <td>1.109060e-04</td>\n",
              "      <td>6.238885e-03</td>\n",
              "      <td>1.926697e-02</td>\n",
              "      <td>4.683861e-02</td>\n",
              "      <td>1.508344e-01</td>\n",
              "    </tr>\n",
              "    <tr>\n",
              "      <th>pc_vis</th>\n",
              "      <td>2150.0</td>\n",
              "      <td>3.588956e-02</td>\n",
              "      <td>3.775426e-02</td>\n",
              "      <td>-6.739230e-04</td>\n",
              "      <td>5.387103e-03</td>\n",
              "      <td>2.194834e-02</td>\n",
              "      <td>5.729888e-02</td>\n",
              "      <td>1.745728e-01</td>\n",
              "    </tr>\n",
              "    <tr>\n",
              "      <th>FSummer_340</th>\n",
              "      <td>2150.0</td>\n",
              "      <td>1.458491e-01</td>\n",
              "      <td>2.526443e-02</td>\n",
              "      <td>8.480406e-02</td>\n",
              "      <td>1.270868e-01</td>\n",
              "      <td>1.574125e-01</td>\n",
              "      <td>1.671759e-01</td>\n",
              "      <td>1.733277e-01</td>\n",
              "    </tr>\n",
              "    <tr>\n",
              "      <th>FWinter_340</th>\n",
              "      <td>2150.0</td>\n",
              "      <td>1.458491e-01</td>\n",
              "      <td>2.526443e-02</td>\n",
              "      <td>8.480406e-02</td>\n",
              "      <td>1.270868e-01</td>\n",
              "      <td>1.574125e-01</td>\n",
              "      <td>1.671759e-01</td>\n",
              "      <td>1.733277e-01</td>\n",
              "    </tr>\n",
              "    <tr>\n",
              "      <th>FSummer_350</th>\n",
              "      <td>2150.0</td>\n",
              "      <td>1.457749e-01</td>\n",
              "      <td>2.533923e-02</td>\n",
              "      <td>8.400711e-02</td>\n",
              "      <td>1.265916e-01</td>\n",
              "      <td>1.573535e-01</td>\n",
              "      <td>1.672385e-01</td>\n",
              "      <td>1.733623e-01</td>\n",
              "    </tr>\n",
              "    <tr>\n",
              "      <th>FWinter_350</th>\n",
              "      <td>2150.0</td>\n",
              "      <td>1.457749e-01</td>\n",
              "      <td>2.533923e-02</td>\n",
              "      <td>8.400711e-02</td>\n",
              "      <td>1.265916e-01</td>\n",
              "      <td>1.573535e-01</td>\n",
              "      <td>1.672385e-01</td>\n",
              "      <td>1.733623e-01</td>\n",
              "    </tr>\n",
              "    <tr>\n",
              "      <th>FSummer_369</th>\n",
              "      <td>2150.0</td>\n",
              "      <td>1.456126e-01</td>\n",
              "      <td>2.540260e-02</td>\n",
              "      <td>8.304180e-02</td>\n",
              "      <td>1.256413e-01</td>\n",
              "      <td>1.558322e-01</td>\n",
              "      <td>1.673674e-01</td>\n",
              "      <td>1.733758e-01</td>\n",
              "    </tr>\n",
              "    <tr>\n",
              "      <th>FWinter_369</th>\n",
              "      <td>2150.0</td>\n",
              "      <td>1.456126e-01</td>\n",
              "      <td>2.540260e-02</td>\n",
              "      <td>8.304180e-02</td>\n",
              "      <td>1.256413e-01</td>\n",
              "      <td>1.558322e-01</td>\n",
              "      <td>1.673674e-01</td>\n",
              "      <td>1.733758e-01</td>\n",
              "    </tr>\n",
              "    <tr>\n",
              "      <th>FSummer_379</th>\n",
              "      <td>2150.0</td>\n",
              "      <td>1.454809e-01</td>\n",
              "      <td>2.547407e-02</td>\n",
              "      <td>8.226374e-02</td>\n",
              "      <td>1.250607e-01</td>\n",
              "      <td>1.553539e-01</td>\n",
              "      <td>1.673732e-01</td>\n",
              "      <td>1.734056e-01</td>\n",
              "    </tr>\n",
              "    <tr>\n",
              "      <th>FWinter_379</th>\n",
              "      <td>2150.0</td>\n",
              "      <td>1.454809e-01</td>\n",
              "      <td>2.547407e-02</td>\n",
              "      <td>8.226374e-02</td>\n",
              "      <td>1.250607e-01</td>\n",
              "      <td>1.553539e-01</td>\n",
              "      <td>1.673732e-01</td>\n",
              "      <td>1.734056e-01</td>\n",
              "    </tr>\n",
              "    <tr>\n",
              "      <th>FSummer_425</th>\n",
              "      <td>2150.0</td>\n",
              "      <td>1.445540e-01</td>\n",
              "      <td>2.604751e-02</td>\n",
              "      <td>8.266173e-02</td>\n",
              "      <td>1.228564e-01</td>\n",
              "      <td>1.533755e-01</td>\n",
              "      <td>1.673302e-01</td>\n",
              "      <td>1.733767e-01</td>\n",
              "    </tr>\n",
              "    <tr>\n",
              "      <th>FWinter_425</th>\n",
              "      <td>2150.0</td>\n",
              "      <td>1.445540e-01</td>\n",
              "      <td>2.604751e-02</td>\n",
              "      <td>8.266173e-02</td>\n",
              "      <td>1.228564e-01</td>\n",
              "      <td>1.533755e-01</td>\n",
              "      <td>1.673302e-01</td>\n",
              "      <td>1.733767e-01</td>\n",
              "    </tr>\n",
              "    <tr>\n",
              "      <th>FSummer_435</th>\n",
              "      <td>2150.0</td>\n",
              "      <td>1.444306e-01</td>\n",
              "      <td>2.610941e-02</td>\n",
              "      <td>8.260815e-02</td>\n",
              "      <td>1.223505e-01</td>\n",
              "      <td>1.535477e-01</td>\n",
              "      <td>1.673479e-01</td>\n",
              "      <td>1.735778e-01</td>\n",
              "    </tr>\n",
              "    <tr>\n",
              "      <th>FWinter_435</th>\n",
              "      <td>2150.0</td>\n",
              "      <td>1.444306e-01</td>\n",
              "      <td>2.610941e-02</td>\n",
              "      <td>8.260815e-02</td>\n",
              "      <td>1.223505e-01</td>\n",
              "      <td>1.535477e-01</td>\n",
              "      <td>1.673479e-01</td>\n",
              "      <td>1.735778e-01</td>\n",
              "    </tr>\n",
              "    <tr>\n",
              "      <th>FSummer_475</th>\n",
              "      <td>2150.0</td>\n",
              "      <td>1.435626e-01</td>\n",
              "      <td>2.662961e-02</td>\n",
              "      <td>7.349614e-02</td>\n",
              "      <td>1.207808e-01</td>\n",
              "      <td>1.521347e-01</td>\n",
              "      <td>1.672749e-01</td>\n",
              "      <td>1.734506e-01</td>\n",
              "    </tr>\n",
              "    <tr>\n",
              "      <th>FWinter_475</th>\n",
              "      <td>2150.0</td>\n",
              "      <td>1.435626e-01</td>\n",
              "      <td>2.662961e-02</td>\n",
              "      <td>7.349614e-02</td>\n",
              "      <td>1.207808e-01</td>\n",
              "      <td>1.521347e-01</td>\n",
              "      <td>1.672749e-01</td>\n",
              "      <td>1.734506e-01</td>\n",
              "    </tr>\n",
              "    <tr>\n",
              "      <th>FSummer_485</th>\n",
              "      <td>2150.0</td>\n",
              "      <td>1.434200e-01</td>\n",
              "      <td>2.673277e-02</td>\n",
              "      <td>7.181787e-02</td>\n",
              "      <td>1.204943e-01</td>\n",
              "      <td>1.520215e-01</td>\n",
              "      <td>1.673006e-01</td>\n",
              "      <td>1.732619e-01</td>\n",
              "    </tr>\n",
              "    <tr>\n",
              "      <th>FWinter_485</th>\n",
              "      <td>2150.0</td>\n",
              "      <td>1.434200e-01</td>\n",
              "      <td>2.673277e-02</td>\n",
              "      <td>7.181787e-02</td>\n",
              "      <td>1.204943e-01</td>\n",
              "      <td>1.520215e-01</td>\n",
              "      <td>1.673006e-01</td>\n",
              "      <td>1.732619e-01</td>\n",
              "    </tr>\n",
              "  </tbody>\n",
              "</table>\n",
              "</div>"
            ],
            "text/plain": [
              "                  count          mean           std           min  \\\n",
              "albedo           2150.0  1.956744e-01  1.450322e-01  5.000000e-02   \n",
              "sza_deg          2150.0  5.902791e+01  1.891309e+01  3.000000e+01   \n",
              "intensity_345nm  2150.0  2.757267e+00  3.017219e+00  6.610553e-03   \n",
              "intensity_374nm  2150.0  3.643770e+00  3.900458e+00  1.019668e-02   \n",
              "intensity_430nm  2150.0  5.556622e+00  5.844760e+00  1.654152e-02   \n",
              "intensity_480nm  2150.0  7.351100e+00  7.689352e+00  2.028251e-02   \n",
              "O4SCD_340nm      2150.0  2.957177e+24  7.583534e+23  1.650000e+24   \n",
              "O4SCD_350nm      2150.0  2.967944e+24  7.828176e+23  1.640000e+24   \n",
              "O4SCD_369nm      2150.0  2.969447e+24  8.201404e+23  1.610000e+24   \n",
              "O4SCD_379nm      2150.0  2.980600e+24  8.474522e+23  1.600000e+24   \n",
              "O4SCD_425nm      2150.0  3.036344e+24  9.813394e+23  1.550000e+24   \n",
              "O4SCD_435nm      2150.0  3.046707e+24  1.008692e+24  1.550000e+24   \n",
              "O4SCD_475nm      2150.0  3.105363e+24  1.129242e+24  1.510000e+24   \n",
              "O4SCD_485nm      2150.0  3.116121e+24  1.156952e+24  1.500000e+24   \n",
              "ci_uv            2150.0  1.356463e+00  7.828137e-02  1.137028e+00   \n",
              "ci_vis           2150.0  1.313270e+00  9.318360e-02  9.109991e-01   \n",
              "pc_uv            2150.0  3.056905e-02  3.126382e-02  1.109060e-04   \n",
              "pc_vis           2150.0  3.588956e-02  3.775426e-02 -6.739230e-04   \n",
              "FSummer_340      2150.0  1.458491e-01  2.526443e-02  8.480406e-02   \n",
              "FWinter_340      2150.0  1.458491e-01  2.526443e-02  8.480406e-02   \n",
              "FSummer_350      2150.0  1.457749e-01  2.533923e-02  8.400711e-02   \n",
              "FWinter_350      2150.0  1.457749e-01  2.533923e-02  8.400711e-02   \n",
              "FSummer_369      2150.0  1.456126e-01  2.540260e-02  8.304180e-02   \n",
              "FWinter_369      2150.0  1.456126e-01  2.540260e-02  8.304180e-02   \n",
              "FSummer_379      2150.0  1.454809e-01  2.547407e-02  8.226374e-02   \n",
              "FWinter_379      2150.0  1.454809e-01  2.547407e-02  8.226374e-02   \n",
              "FSummer_425      2150.0  1.445540e-01  2.604751e-02  8.266173e-02   \n",
              "FWinter_425      2150.0  1.445540e-01  2.604751e-02  8.266173e-02   \n",
              "FSummer_435      2150.0  1.444306e-01  2.610941e-02  8.260815e-02   \n",
              "FWinter_435      2150.0  1.444306e-01  2.610941e-02  8.260815e-02   \n",
              "FSummer_475      2150.0  1.435626e-01  2.662961e-02  7.349614e-02   \n",
              "FWinter_475      2150.0  1.435626e-01  2.662961e-02  7.349614e-02   \n",
              "FSummer_485      2150.0  1.434200e-01  2.673277e-02  7.181787e-02   \n",
              "FWinter_485      2150.0  1.434200e-01  2.673277e-02  7.181787e-02   \n",
              "\n",
              "                          25%           50%           75%           max  \n",
              "albedo           5.000000e-02  3.400000e-01  3.400000e-01  3.400000e-01  \n",
              "sza_deg          4.000000e+01  6.000000e+01  8.000000e+01  8.400000e+01  \n",
              "intensity_345nm  4.935814e-01  1.523821e+00  4.118631e+00  1.481136e+01  \n",
              "intensity_374nm  6.733787e-01  2.131377e+00  5.577072e+00  1.916173e+01  \n",
              "intensity_430nm  1.034177e+00  3.344984e+00  8.686756e+00  2.852181e+01  \n",
              "intensity_480nm  1.336998e+00  4.514697e+00  1.156099e+01  3.725046e+01  \n",
              "O4SCD_340nm      2.410000e+24  2.840000e+24  3.390000e+24  5.960000e+24  \n",
              "O4SCD_350nm      2.400000e+24  2.845000e+24  3.420000e+24  6.060000e+24  \n",
              "O4SCD_369nm      2.350000e+24  2.850000e+24  3.460000e+24  6.240000e+24  \n",
              "O4SCD_379nm      2.330000e+24  2.860000e+24  3.510000e+24  6.350000e+24  \n",
              "O4SCD_425nm      2.240000e+24  2.890000e+24  3.650000e+24  6.880000e+24  \n",
              "O4SCD_435nm      2.220000e+24  2.890000e+24  3.670000e+24  7.010000e+24  \n",
              "O4SCD_475nm      2.170000e+24  2.890000e+24  3.790000e+24  7.400000e+24  \n",
              "O4SCD_485nm      2.160000e+24  2.870000e+24  3.820000e+24  7.480000e+24  \n",
              "ci_uv            1.296289e+00  1.353222e+00  1.419795e+00  2.184775e+00  \n",
              "ci_vis           1.255896e+00  1.304915e+00  1.365632e+00  1.734167e+00  \n",
              "pc_uv            6.238885e-03  1.926697e-02  4.683861e-02  1.508344e-01  \n",
              "pc_vis           5.387103e-03  2.194834e-02  5.729888e-02  1.745728e-01  \n",
              "FSummer_340      1.270868e-01  1.574125e-01  1.671759e-01  1.733277e-01  \n",
              "FWinter_340      1.270868e-01  1.574125e-01  1.671759e-01  1.733277e-01  \n",
              "FSummer_350      1.265916e-01  1.573535e-01  1.672385e-01  1.733623e-01  \n",
              "FWinter_350      1.265916e-01  1.573535e-01  1.672385e-01  1.733623e-01  \n",
              "FSummer_369      1.256413e-01  1.558322e-01  1.673674e-01  1.733758e-01  \n",
              "FWinter_369      1.256413e-01  1.558322e-01  1.673674e-01  1.733758e-01  \n",
              "FSummer_379      1.250607e-01  1.553539e-01  1.673732e-01  1.734056e-01  \n",
              "FWinter_379      1.250607e-01  1.553539e-01  1.673732e-01  1.734056e-01  \n",
              "FSummer_425      1.228564e-01  1.533755e-01  1.673302e-01  1.733767e-01  \n",
              "FWinter_425      1.228564e-01  1.533755e-01  1.673302e-01  1.733767e-01  \n",
              "FSummer_435      1.223505e-01  1.535477e-01  1.673479e-01  1.735778e-01  \n",
              "FWinter_435      1.223505e-01  1.535477e-01  1.673479e-01  1.735778e-01  \n",
              "FSummer_475      1.207808e-01  1.521347e-01  1.672749e-01  1.734506e-01  \n",
              "FWinter_475      1.207808e-01  1.521347e-01  1.672749e-01  1.734506e-01  \n",
              "FSummer_485      1.204943e-01  1.520215e-01  1.673006e-01  1.732619e-01  \n",
              "FWinter_485      1.204943e-01  1.520215e-01  1.673006e-01  1.732619e-01  "
            ]
          },
          "metadata": {
            "tags": []
          },
          "execution_count": 71
        }
      ]
    },
    {
      "metadata": {
        "colab_type": "text",
        "id": "Db7Auq1yXUvh"
      },
      "cell_type": "markdown",
      "source": [
        "### Split features from labels\n",
        "\n",
        "Separate the target value, or \"label\", from the features. This label is the value that you will train the model to predict."
      ]
    },
    {
      "metadata": {
        "id": "6IzWPB-FVbpl",
        "colab_type": "code",
        "colab": {}
      },
      "cell_type": "code",
      "source": [
        "# train_dataset.pop?\n",
        "# train_dataset.loc?"
      ],
      "execution_count": 0,
      "outputs": []
    },
    {
      "metadata": {
        "colab_type": "code",
        "id": "t2sluJdCW7jN",
        "colab": {}
      },
      "cell_type": "code",
      "source": [
        "# train_labels = train_dataset.pop('MPG')\n",
        "# test_labels = test_dataset.pop('MPG')\n",
        "estimated_columns = ['aod', 'cloudOD', \"cloudBaseHeight_km\"]\n",
        "train_labels = train_dataset.loc[:, estimated_columns]\n",
        "test_labels = test_dataset.loc[:, estimated_columns]\n",
        "# Выкинем оцениваемые колонки из наборов данных\n",
        "train_dataset = train_dataset.drop(columns=estimated_columns)\n",
        "test_dataset = test_dataset.drop(columns=estimated_columns)"
      ],
      "execution_count": 0,
      "outputs": []
    },
    {
      "metadata": {
        "id": "uTMlnuisY2hg",
        "colab_type": "code",
        "outputId": "a0b19047-4afe-42cf-cd60-c98aac00ff7f",
        "colab": {
          "base_uri": "https://localhost:8080/",
          "height": 224
        }
      },
      "cell_type": "code",
      "source": [
        "train_dataset.tail()"
      ],
      "execution_count": 74,
      "outputs": [
        {
          "output_type": "execute_result",
          "data": {
            "text/html": [
              "<div>\n",
              "<style scoped>\n",
              "    .dataframe tbody tr th:only-of-type {\n",
              "        vertical-align: middle;\n",
              "    }\n",
              "\n",
              "    .dataframe tbody tr th {\n",
              "        vertical-align: top;\n",
              "    }\n",
              "\n",
              "    .dataframe thead th {\n",
              "        text-align: right;\n",
              "    }\n",
              "</style>\n",
              "<table border=\"1\" class=\"dataframe\">\n",
              "  <thead>\n",
              "    <tr style=\"text-align: right;\">\n",
              "      <th></th>\n",
              "      <th>albedo</th>\n",
              "      <th>sza_deg</th>\n",
              "      <th>intensity_345nm</th>\n",
              "      <th>intensity_374nm</th>\n",
              "      <th>intensity_430nm</th>\n",
              "      <th>intensity_480nm</th>\n",
              "      <th>O4SCD_340nm</th>\n",
              "      <th>O4SCD_350nm</th>\n",
              "      <th>O4SCD_369nm</th>\n",
              "      <th>O4SCD_379nm</th>\n",
              "      <th>O4SCD_425nm</th>\n",
              "      <th>O4SCD_435nm</th>\n",
              "      <th>O4SCD_475nm</th>\n",
              "      <th>O4SCD_485nm</th>\n",
              "      <th>ci_uv</th>\n",
              "      <th>ci_vis</th>\n",
              "      <th>pc_uv</th>\n",
              "      <th>pc_vis</th>\n",
              "      <th>FSummer_340</th>\n",
              "      <th>FWinter_340</th>\n",
              "      <th>FSummer_350</th>\n",
              "      <th>FWinter_350</th>\n",
              "      <th>FSummer_369</th>\n",
              "      <th>FWinter_369</th>\n",
              "      <th>FSummer_379</th>\n",
              "      <th>FWinter_379</th>\n",
              "      <th>FSummer_425</th>\n",
              "      <th>FWinter_425</th>\n",
              "      <th>FSummer_435</th>\n",
              "      <th>FWinter_435</th>\n",
              "      <th>FSummer_475</th>\n",
              "      <th>FWinter_475</th>\n",
              "      <th>FSummer_485</th>\n",
              "      <th>FWinter_485</th>\n",
              "    </tr>\n",
              "  </thead>\n",
              "  <tbody>\n",
              "    <tr>\n",
              "      <th>1200</th>\n",
              "      <td>0.05</td>\n",
              "      <td>60</td>\n",
              "      <td>5.096272</td>\n",
              "      <td>6.577715</td>\n",
              "      <td>9.798815</td>\n",
              "      <td>12.665619</td>\n",
              "      <td>3.070000e+24</td>\n",
              "      <td>3.030000e+24</td>\n",
              "      <td>2.960000e+24</td>\n",
              "      <td>2.920000e+24</td>\n",
              "      <td>2.790000e+24</td>\n",
              "      <td>2.760000e+24</td>\n",
              "      <td>2.670000e+24</td>\n",
              "      <td>2.650000e+24</td>\n",
              "      <td>1.290691</td>\n",
              "      <td>1.292566</td>\n",
              "      <td>0.051084</td>\n",
              "      <td>0.057336</td>\n",
              "      <td>0.164006</td>\n",
              "      <td>0.164006</td>\n",
              "      <td>0.164222</td>\n",
              "      <td>0.164222</td>\n",
              "      <td>0.164569</td>\n",
              "      <td>0.164569</td>\n",
              "      <td>0.164790</td>\n",
              "      <td>0.164790</td>\n",
              "      <td>0.165773</td>\n",
              "      <td>0.165773</td>\n",
              "      <td>0.165910</td>\n",
              "      <td>0.165910</td>\n",
              "      <td>0.166282</td>\n",
              "      <td>0.166282</td>\n",
              "      <td>0.166340</td>\n",
              "      <td>0.166340</td>\n",
              "    </tr>\n",
              "    <tr>\n",
              "      <th>343</th>\n",
              "      <td>0.34</td>\n",
              "      <td>30</td>\n",
              "      <td>3.467531</td>\n",
              "      <td>5.077511</td>\n",
              "      <td>9.051393</td>\n",
              "      <td>13.208447</td>\n",
              "      <td>2.050000e+24</td>\n",
              "      <td>2.040000e+24</td>\n",
              "      <td>2.020000e+24</td>\n",
              "      <td>2.010000e+24</td>\n",
              "      <td>1.980000e+24</td>\n",
              "      <td>1.970000e+24</td>\n",
              "      <td>1.960000e+24</td>\n",
              "      <td>1.960000e+24</td>\n",
              "      <td>1.464301</td>\n",
              "      <td>1.459272</td>\n",
              "      <td>0.055517</td>\n",
              "      <td>0.083141</td>\n",
              "      <td>0.145094</td>\n",
              "      <td>0.145094</td>\n",
              "      <td>0.144569</td>\n",
              "      <td>0.144569</td>\n",
              "      <td>0.143552</td>\n",
              "      <td>0.143552</td>\n",
              "      <td>0.142854</td>\n",
              "      <td>0.142854</td>\n",
              "      <td>0.140775</td>\n",
              "      <td>0.140775</td>\n",
              "      <td>0.140355</td>\n",
              "      <td>0.140355</td>\n",
              "      <td>0.137919</td>\n",
              "      <td>0.137919</td>\n",
              "      <td>0.137459</td>\n",
              "      <td>0.137459</td>\n",
              "    </tr>\n",
              "    <tr>\n",
              "      <th>47</th>\n",
              "      <td>0.05</td>\n",
              "      <td>30</td>\n",
              "      <td>1.280349</td>\n",
              "      <td>1.663104</td>\n",
              "      <td>2.091276</td>\n",
              "      <td>2.352941</td>\n",
              "      <td>3.880000e+24</td>\n",
              "      <td>3.870000e+24</td>\n",
              "      <td>3.840000e+24</td>\n",
              "      <td>3.810000e+24</td>\n",
              "      <td>3.780000e+24</td>\n",
              "      <td>3.770000e+24</td>\n",
              "      <td>3.750000e+24</td>\n",
              "      <td>3.680000e+24</td>\n",
              "      <td>1.298945</td>\n",
              "      <td>1.125122</td>\n",
              "      <td>0.013198</td>\n",
              "      <td>0.005233</td>\n",
              "      <td>0.160092</td>\n",
              "      <td>0.160092</td>\n",
              "      <td>0.160861</td>\n",
              "      <td>0.160861</td>\n",
              "      <td>0.160936</td>\n",
              "      <td>0.160936</td>\n",
              "      <td>0.161117</td>\n",
              "      <td>0.161117</td>\n",
              "      <td>0.161020</td>\n",
              "      <td>0.161020</td>\n",
              "      <td>0.160397</td>\n",
              "      <td>0.160397</td>\n",
              "      <td>0.160575</td>\n",
              "      <td>0.160575</td>\n",
              "      <td>0.159047</td>\n",
              "      <td>0.159047</td>\n",
              "    </tr>\n",
              "    <tr>\n",
              "      <th>759</th>\n",
              "      <td>0.34</td>\n",
              "      <td>40</td>\n",
              "      <td>1.092842</td>\n",
              "      <td>1.481835</td>\n",
              "      <td>2.561870</td>\n",
              "      <td>3.691049</td>\n",
              "      <td>2.730000e+24</td>\n",
              "      <td>2.680000e+24</td>\n",
              "      <td>2.610000e+24</td>\n",
              "      <td>2.580000e+24</td>\n",
              "      <td>2.580000e+24</td>\n",
              "      <td>2.590000e+24</td>\n",
              "      <td>2.630000e+24</td>\n",
              "      <td>2.640000e+24</td>\n",
              "      <td>1.355945</td>\n",
              "      <td>1.440764</td>\n",
              "      <td>0.013414</td>\n",
              "      <td>0.022584</td>\n",
              "      <td>0.154368</td>\n",
              "      <td>0.154368</td>\n",
              "      <td>0.153913</td>\n",
              "      <td>0.153913</td>\n",
              "      <td>0.152212</td>\n",
              "      <td>0.152212</td>\n",
              "      <td>0.151195</td>\n",
              "      <td>0.151195</td>\n",
              "      <td>0.145214</td>\n",
              "      <td>0.145214</td>\n",
              "      <td>0.144581</td>\n",
              "      <td>0.144581</td>\n",
              "      <td>0.140465</td>\n",
              "      <td>0.140465</td>\n",
              "      <td>0.138659</td>\n",
              "      <td>0.138659</td>\n",
              "    </tr>\n",
              "    <tr>\n",
              "      <th>2500</th>\n",
              "      <td>0.05</td>\n",
              "      <td>84</td>\n",
              "      <td>0.209858</td>\n",
              "      <td>0.299924</td>\n",
              "      <td>0.484743</td>\n",
              "      <td>0.637005</td>\n",
              "      <td>2.630000e+24</td>\n",
              "      <td>2.700000e+24</td>\n",
              "      <td>2.800000e+24</td>\n",
              "      <td>2.870000e+24</td>\n",
              "      <td>3.170000e+24</td>\n",
              "      <td>3.240000e+24</td>\n",
              "      <td>3.500000e+24</td>\n",
              "      <td>3.560000e+24</td>\n",
              "      <td>1.429175</td>\n",
              "      <td>1.314108</td>\n",
              "      <td>0.003106</td>\n",
              "      <td>0.003045</td>\n",
              "      <td>0.169182</td>\n",
              "      <td>0.169182</td>\n",
              "      <td>0.169457</td>\n",
              "      <td>0.169457</td>\n",
              "      <td>0.169709</td>\n",
              "      <td>0.169709</td>\n",
              "      <td>0.169805</td>\n",
              "      <td>0.169805</td>\n",
              "      <td>0.169980</td>\n",
              "      <td>0.169980</td>\n",
              "      <td>0.169973</td>\n",
              "      <td>0.169973</td>\n",
              "      <td>0.169808</td>\n",
              "      <td>0.169808</td>\n",
              "      <td>0.169803</td>\n",
              "      <td>0.169803</td>\n",
              "    </tr>\n",
              "  </tbody>\n",
              "</table>\n",
              "</div>"
            ],
            "text/plain": [
              "      albedo  sza_deg  intensity_345nm  intensity_374nm  intensity_430nm  \\\n",
              "1200    0.05       60         5.096272         6.577715         9.798815   \n",
              "343     0.34       30         3.467531         5.077511         9.051393   \n",
              "47      0.05       30         1.280349         1.663104         2.091276   \n",
              "759     0.34       40         1.092842         1.481835         2.561870   \n",
              "2500    0.05       84         0.209858         0.299924         0.484743   \n",
              "\n",
              "      intensity_480nm   O4SCD_340nm   O4SCD_350nm   O4SCD_369nm   O4SCD_379nm  \\\n",
              "1200        12.665619  3.070000e+24  3.030000e+24  2.960000e+24  2.920000e+24   \n",
              "343         13.208447  2.050000e+24  2.040000e+24  2.020000e+24  2.010000e+24   \n",
              "47           2.352941  3.880000e+24  3.870000e+24  3.840000e+24  3.810000e+24   \n",
              "759          3.691049  2.730000e+24  2.680000e+24  2.610000e+24  2.580000e+24   \n",
              "2500         0.637005  2.630000e+24  2.700000e+24  2.800000e+24  2.870000e+24   \n",
              "\n",
              "       O4SCD_425nm   O4SCD_435nm   O4SCD_475nm   O4SCD_485nm     ci_uv  \\\n",
              "1200  2.790000e+24  2.760000e+24  2.670000e+24  2.650000e+24  1.290691   \n",
              "343   1.980000e+24  1.970000e+24  1.960000e+24  1.960000e+24  1.464301   \n",
              "47    3.780000e+24  3.770000e+24  3.750000e+24  3.680000e+24  1.298945   \n",
              "759   2.580000e+24  2.590000e+24  2.630000e+24  2.640000e+24  1.355945   \n",
              "2500  3.170000e+24  3.240000e+24  3.500000e+24  3.560000e+24  1.429175   \n",
              "\n",
              "        ci_vis     pc_uv    pc_vis  FSummer_340  FWinter_340  FSummer_350  \\\n",
              "1200  1.292566  0.051084  0.057336     0.164006     0.164006     0.164222   \n",
              "343   1.459272  0.055517  0.083141     0.145094     0.145094     0.144569   \n",
              "47    1.125122  0.013198  0.005233     0.160092     0.160092     0.160861   \n",
              "759   1.440764  0.013414  0.022584     0.154368     0.154368     0.153913   \n",
              "2500  1.314108  0.003106  0.003045     0.169182     0.169182     0.169457   \n",
              "\n",
              "      FWinter_350  FSummer_369  FWinter_369  FSummer_379  FWinter_379  \\\n",
              "1200     0.164222     0.164569     0.164569     0.164790     0.164790   \n",
              "343      0.144569     0.143552     0.143552     0.142854     0.142854   \n",
              "47       0.160861     0.160936     0.160936     0.161117     0.161117   \n",
              "759      0.153913     0.152212     0.152212     0.151195     0.151195   \n",
              "2500     0.169457     0.169709     0.169709     0.169805     0.169805   \n",
              "\n",
              "      FSummer_425  FWinter_425  FSummer_435  FWinter_435  FSummer_475  \\\n",
              "1200     0.165773     0.165773     0.165910     0.165910     0.166282   \n",
              "343      0.140775     0.140775     0.140355     0.140355     0.137919   \n",
              "47       0.161020     0.161020     0.160397     0.160397     0.160575   \n",
              "759      0.145214     0.145214     0.144581     0.144581     0.140465   \n",
              "2500     0.169980     0.169980     0.169973     0.169973     0.169808   \n",
              "\n",
              "      FWinter_475  FSummer_485  FWinter_485  \n",
              "1200     0.166282     0.166340     0.166340  \n",
              "343      0.137919     0.137459     0.137459  \n",
              "47       0.160575     0.159047     0.159047  \n",
              "759      0.140465     0.138659     0.138659  \n",
              "2500     0.169808     0.169803     0.169803  "
            ]
          },
          "metadata": {
            "tags": []
          },
          "execution_count": 74
        }
      ]
    },
    {
      "metadata": {
        "id": "mbLnV_eOY9Dd",
        "colab_type": "code",
        "outputId": "8594c1c8-94d7-4701-9cd7-8babae67fe51",
        "colab": {
          "base_uri": "https://localhost:8080/",
          "height": 204
        }
      },
      "cell_type": "code",
      "source": [
        "train_labels.tail()"
      ],
      "execution_count": 75,
      "outputs": [
        {
          "output_type": "execute_result",
          "data": {
            "text/html": [
              "<div>\n",
              "<style scoped>\n",
              "    .dataframe tbody tr th:only-of-type {\n",
              "        vertical-align: middle;\n",
              "    }\n",
              "\n",
              "    .dataframe tbody tr th {\n",
              "        vertical-align: top;\n",
              "    }\n",
              "\n",
              "    .dataframe thead th {\n",
              "        text-align: right;\n",
              "    }\n",
              "</style>\n",
              "<table border=\"1\" class=\"dataframe\">\n",
              "  <thead>\n",
              "    <tr style=\"text-align: right;\">\n",
              "      <th></th>\n",
              "      <th>aod</th>\n",
              "      <th>cloudOD</th>\n",
              "      <th>cloudBaseHeight_km</th>\n",
              "    </tr>\n",
              "  </thead>\n",
              "  <tbody>\n",
              "    <tr>\n",
              "      <th>1200</th>\n",
              "      <td>0.12</td>\n",
              "      <td>3.2</td>\n",
              "      <td>0.8</td>\n",
              "    </tr>\n",
              "    <tr>\n",
              "      <th>343</th>\n",
              "      <td>1.07</td>\n",
              "      <td>6.4</td>\n",
              "      <td>0.8</td>\n",
              "    </tr>\n",
              "    <tr>\n",
              "      <th>47</th>\n",
              "      <td>0.12</td>\n",
              "      <td>51.2</td>\n",
              "      <td>1.6</td>\n",
              "    </tr>\n",
              "    <tr>\n",
              "      <th>759</th>\n",
              "      <td>1.07</td>\n",
              "      <td>25.6</td>\n",
              "      <td>3.2</td>\n",
              "    </tr>\n",
              "    <tr>\n",
              "      <th>2500</th>\n",
              "      <td>1.07</td>\n",
              "      <td>3.2</td>\n",
              "      <td>0.8</td>\n",
              "    </tr>\n",
              "  </tbody>\n",
              "</table>\n",
              "</div>"
            ],
            "text/plain": [
              "       aod  cloudOD  cloudBaseHeight_km\n",
              "1200  0.12      3.2                 0.8\n",
              "343   1.07      6.4                 0.8\n",
              "47    0.12     51.2                 1.6\n",
              "759   1.07     25.6                 3.2\n",
              "2500  1.07      3.2                 0.8"
            ]
          },
          "metadata": {
            "tags": []
          },
          "execution_count": 75
        }
      ]
    },
    {
      "metadata": {
        "id": "nwXbQTmzY_xj",
        "colab_type": "code",
        "outputId": "1fa41d92-5804-4490-b680-6011ef5e0b95",
        "colab": {
          "base_uri": "https://localhost:8080/",
          "height": 224
        }
      },
      "cell_type": "code",
      "source": [
        "test_dataset.tail()"
      ],
      "execution_count": 76,
      "outputs": [
        {
          "output_type": "execute_result",
          "data": {
            "text/html": [
              "<div>\n",
              "<style scoped>\n",
              "    .dataframe tbody tr th:only-of-type {\n",
              "        vertical-align: middle;\n",
              "    }\n",
              "\n",
              "    .dataframe tbody tr th {\n",
              "        vertical-align: top;\n",
              "    }\n",
              "\n",
              "    .dataframe thead th {\n",
              "        text-align: right;\n",
              "    }\n",
              "</style>\n",
              "<table border=\"1\" class=\"dataframe\">\n",
              "  <thead>\n",
              "    <tr style=\"text-align: right;\">\n",
              "      <th></th>\n",
              "      <th>albedo</th>\n",
              "      <th>sza_deg</th>\n",
              "      <th>intensity_345nm</th>\n",
              "      <th>intensity_374nm</th>\n",
              "      <th>intensity_430nm</th>\n",
              "      <th>intensity_480nm</th>\n",
              "      <th>O4SCD_340nm</th>\n",
              "      <th>O4SCD_350nm</th>\n",
              "      <th>O4SCD_369nm</th>\n",
              "      <th>O4SCD_379nm</th>\n",
              "      <th>O4SCD_425nm</th>\n",
              "      <th>O4SCD_435nm</th>\n",
              "      <th>O4SCD_475nm</th>\n",
              "      <th>O4SCD_485nm</th>\n",
              "      <th>ci_uv</th>\n",
              "      <th>ci_vis</th>\n",
              "      <th>pc_uv</th>\n",
              "      <th>pc_vis</th>\n",
              "      <th>FSummer_340</th>\n",
              "      <th>FWinter_340</th>\n",
              "      <th>FSummer_350</th>\n",
              "      <th>FWinter_350</th>\n",
              "      <th>FSummer_369</th>\n",
              "      <th>FWinter_369</th>\n",
              "      <th>FSummer_379</th>\n",
              "      <th>FWinter_379</th>\n",
              "      <th>FSummer_425</th>\n",
              "      <th>FWinter_425</th>\n",
              "      <th>FSummer_435</th>\n",
              "      <th>FWinter_435</th>\n",
              "      <th>FSummer_475</th>\n",
              "      <th>FWinter_475</th>\n",
              "      <th>FSummer_485</th>\n",
              "      <th>FWinter_485</th>\n",
              "    </tr>\n",
              "  </thead>\n",
              "  <tbody>\n",
              "    <tr>\n",
              "      <th>2707</th>\n",
              "      <td>0.34</td>\n",
              "      <td>84</td>\n",
              "      <td>0.043127</td>\n",
              "      <td>0.063405</td>\n",
              "      <td>0.099365</td>\n",
              "      <td>0.131197</td>\n",
              "      <td>3.670000e+24</td>\n",
              "      <td>3.740000e+24</td>\n",
              "      <td>3.830000e+24</td>\n",
              "      <td>3.900000e+24</td>\n",
              "      <td>4.310000e+24</td>\n",
              "      <td>4.370000e+24</td>\n",
              "      <td>4.670000e+24</td>\n",
              "      <td>4.750000e+24</td>\n",
              "      <td>1.470191</td>\n",
              "      <td>1.320357</td>\n",
              "      <td>0.000699</td>\n",
              "      <td>0.000637</td>\n",
              "      <td>0.136175</td>\n",
              "      <td>0.136175</td>\n",
              "      <td>0.134413</td>\n",
              "      <td>0.134413</td>\n",
              "      <td>0.132489</td>\n",
              "      <td>0.132489</td>\n",
              "      <td>0.131223</td>\n",
              "      <td>0.131223</td>\n",
              "      <td>0.129516</td>\n",
              "      <td>0.129516</td>\n",
              "      <td>0.128882</td>\n",
              "      <td>0.128882</td>\n",
              "      <td>0.124986</td>\n",
              "      <td>0.124986</td>\n",
              "      <td>0.124069</td>\n",
              "      <td>0.124069</td>\n",
              "    </tr>\n",
              "    <tr>\n",
              "      <th>2711</th>\n",
              "      <td>0.34</td>\n",
              "      <td>84</td>\n",
              "      <td>0.009043</td>\n",
              "      <td>0.013368</td>\n",
              "      <td>0.023987</td>\n",
              "      <td>0.036958</td>\n",
              "      <td>4.570000e+24</td>\n",
              "      <td>4.700000e+24</td>\n",
              "      <td>4.820000e+24</td>\n",
              "      <td>4.930000e+24</td>\n",
              "      <td>5.180000e+24</td>\n",
              "      <td>5.210000e+24</td>\n",
              "      <td>6.010000e+24</td>\n",
              "      <td>6.290000e+24</td>\n",
              "      <td>1.478335</td>\n",
              "      <td>1.540756</td>\n",
              "      <td>0.000149</td>\n",
              "      <td>0.000259</td>\n",
              "      <td>0.133540</td>\n",
              "      <td>0.133540</td>\n",
              "      <td>0.132578</td>\n",
              "      <td>0.132578</td>\n",
              "      <td>0.132633</td>\n",
              "      <td>0.132633</td>\n",
              "      <td>0.130780</td>\n",
              "      <td>0.130780</td>\n",
              "      <td>0.133134</td>\n",
              "      <td>0.133134</td>\n",
              "      <td>0.133587</td>\n",
              "      <td>0.133587</td>\n",
              "      <td>0.133051</td>\n",
              "      <td>0.133051</td>\n",
              "      <td>0.135302</td>\n",
              "      <td>0.135302</td>\n",
              "    </tr>\n",
              "    <tr>\n",
              "      <th>2713</th>\n",
              "      <td>0.34</td>\n",
              "      <td>84</td>\n",
              "      <td>0.017183</td>\n",
              "      <td>0.024383</td>\n",
              "      <td>0.029902</td>\n",
              "      <td>0.030611</td>\n",
              "      <td>3.700000e+24</td>\n",
              "      <td>3.700000e+24</td>\n",
              "      <td>3.750000e+24</td>\n",
              "      <td>3.810000e+24</td>\n",
              "      <td>3.980000e+24</td>\n",
              "      <td>3.990000e+24</td>\n",
              "      <td>4.150000e+24</td>\n",
              "      <td>4.170000e+24</td>\n",
              "      <td>1.418967</td>\n",
              "      <td>1.023734</td>\n",
              "      <td>0.000248</td>\n",
              "      <td>0.000014</td>\n",
              "      <td>0.154283</td>\n",
              "      <td>0.154283</td>\n",
              "      <td>0.156901</td>\n",
              "      <td>0.156901</td>\n",
              "      <td>0.154005</td>\n",
              "      <td>0.154005</td>\n",
              "      <td>0.151646</td>\n",
              "      <td>0.151646</td>\n",
              "      <td>0.144218</td>\n",
              "      <td>0.144218</td>\n",
              "      <td>0.139950</td>\n",
              "      <td>0.139950</td>\n",
              "      <td>0.123104</td>\n",
              "      <td>0.123104</td>\n",
              "      <td>0.123863</td>\n",
              "      <td>0.123863</td>\n",
              "    </tr>\n",
              "    <tr>\n",
              "      <th>2716</th>\n",
              "      <td>0.34</td>\n",
              "      <td>84</td>\n",
              "      <td>0.178325</td>\n",
              "      <td>0.256527</td>\n",
              "      <td>0.416128</td>\n",
              "      <td>0.548548</td>\n",
              "      <td>2.770000e+24</td>\n",
              "      <td>2.840000e+24</td>\n",
              "      <td>2.950000e+24</td>\n",
              "      <td>3.010000e+24</td>\n",
              "      <td>3.300000e+24</td>\n",
              "      <td>3.370000e+24</td>\n",
              "      <td>3.630000e+24</td>\n",
              "      <td>3.690000e+24</td>\n",
              "      <td>1.438531</td>\n",
              "      <td>1.318219</td>\n",
              "      <td>0.002697</td>\n",
              "      <td>0.002648</td>\n",
              "      <td>0.146212</td>\n",
              "      <td>0.146212</td>\n",
              "      <td>0.145782</td>\n",
              "      <td>0.145782</td>\n",
              "      <td>0.144972</td>\n",
              "      <td>0.144972</td>\n",
              "      <td>0.144392</td>\n",
              "      <td>0.144392</td>\n",
              "      <td>0.141718</td>\n",
              "      <td>0.141718</td>\n",
              "      <td>0.141172</td>\n",
              "      <td>0.141172</td>\n",
              "      <td>0.138838</td>\n",
              "      <td>0.138838</td>\n",
              "      <td>0.138346</td>\n",
              "      <td>0.138346</td>\n",
              "    </tr>\n",
              "    <tr>\n",
              "      <th>2725</th>\n",
              "      <td>0.34</td>\n",
              "      <td>84</td>\n",
              "      <td>0.076304</td>\n",
              "      <td>0.105087</td>\n",
              "      <td>0.170608</td>\n",
              "      <td>0.231962</td>\n",
              "      <td>2.960000e+24</td>\n",
              "      <td>3.030000e+24</td>\n",
              "      <td>3.130000e+24</td>\n",
              "      <td>3.180000e+24</td>\n",
              "      <td>3.500000e+24</td>\n",
              "      <td>3.560000e+24</td>\n",
              "      <td>3.910000e+24</td>\n",
              "      <td>3.940000e+24</td>\n",
              "      <td>1.377205</td>\n",
              "      <td>1.359621</td>\n",
              "      <td>0.000992</td>\n",
              "      <td>0.001227</td>\n",
              "      <td>0.150491</td>\n",
              "      <td>0.150491</td>\n",
              "      <td>0.151428</td>\n",
              "      <td>0.151428</td>\n",
              "      <td>0.150126</td>\n",
              "      <td>0.150126</td>\n",
              "      <td>0.150930</td>\n",
              "      <td>0.150930</td>\n",
              "      <td>0.142893</td>\n",
              "      <td>0.142893</td>\n",
              "      <td>0.142300</td>\n",
              "      <td>0.142300</td>\n",
              "      <td>0.133084</td>\n",
              "      <td>0.133084</td>\n",
              "      <td>0.133534</td>\n",
              "      <td>0.133534</td>\n",
              "    </tr>\n",
              "  </tbody>\n",
              "</table>\n",
              "</div>"
            ],
            "text/plain": [
              "      albedo  sza_deg  intensity_345nm  intensity_374nm  intensity_430nm  \\\n",
              "2707    0.34       84         0.043127         0.063405         0.099365   \n",
              "2711    0.34       84         0.009043         0.013368         0.023987   \n",
              "2713    0.34       84         0.017183         0.024383         0.029902   \n",
              "2716    0.34       84         0.178325         0.256527         0.416128   \n",
              "2725    0.34       84         0.076304         0.105087         0.170608   \n",
              "\n",
              "      intensity_480nm   O4SCD_340nm   O4SCD_350nm   O4SCD_369nm   O4SCD_379nm  \\\n",
              "2707         0.131197  3.670000e+24  3.740000e+24  3.830000e+24  3.900000e+24   \n",
              "2711         0.036958  4.570000e+24  4.700000e+24  4.820000e+24  4.930000e+24   \n",
              "2713         0.030611  3.700000e+24  3.700000e+24  3.750000e+24  3.810000e+24   \n",
              "2716         0.548548  2.770000e+24  2.840000e+24  2.950000e+24  3.010000e+24   \n",
              "2725         0.231962  2.960000e+24  3.030000e+24  3.130000e+24  3.180000e+24   \n",
              "\n",
              "       O4SCD_425nm   O4SCD_435nm   O4SCD_475nm   O4SCD_485nm     ci_uv  \\\n",
              "2707  4.310000e+24  4.370000e+24  4.670000e+24  4.750000e+24  1.470191   \n",
              "2711  5.180000e+24  5.210000e+24  6.010000e+24  6.290000e+24  1.478335   \n",
              "2713  3.980000e+24  3.990000e+24  4.150000e+24  4.170000e+24  1.418967   \n",
              "2716  3.300000e+24  3.370000e+24  3.630000e+24  3.690000e+24  1.438531   \n",
              "2725  3.500000e+24  3.560000e+24  3.910000e+24  3.940000e+24  1.377205   \n",
              "\n",
              "        ci_vis     pc_uv    pc_vis  FSummer_340  FWinter_340  FSummer_350  \\\n",
              "2707  1.320357  0.000699  0.000637     0.136175     0.136175     0.134413   \n",
              "2711  1.540756  0.000149  0.000259     0.133540     0.133540     0.132578   \n",
              "2713  1.023734  0.000248  0.000014     0.154283     0.154283     0.156901   \n",
              "2716  1.318219  0.002697  0.002648     0.146212     0.146212     0.145782   \n",
              "2725  1.359621  0.000992  0.001227     0.150491     0.150491     0.151428   \n",
              "\n",
              "      FWinter_350  FSummer_369  FWinter_369  FSummer_379  FWinter_379  \\\n",
              "2707     0.134413     0.132489     0.132489     0.131223     0.131223   \n",
              "2711     0.132578     0.132633     0.132633     0.130780     0.130780   \n",
              "2713     0.156901     0.154005     0.154005     0.151646     0.151646   \n",
              "2716     0.145782     0.144972     0.144972     0.144392     0.144392   \n",
              "2725     0.151428     0.150126     0.150126     0.150930     0.150930   \n",
              "\n",
              "      FSummer_425  FWinter_425  FSummer_435  FWinter_435  FSummer_475  \\\n",
              "2707     0.129516     0.129516     0.128882     0.128882     0.124986   \n",
              "2711     0.133134     0.133134     0.133587     0.133587     0.133051   \n",
              "2713     0.144218     0.144218     0.139950     0.139950     0.123104   \n",
              "2716     0.141718     0.141718     0.141172     0.141172     0.138838   \n",
              "2725     0.142893     0.142893     0.142300     0.142300     0.133084   \n",
              "\n",
              "      FWinter_475  FSummer_485  FWinter_485  \n",
              "2707     0.124986     0.124069     0.124069  \n",
              "2711     0.133051     0.135302     0.135302  \n",
              "2713     0.123104     0.123863     0.123863  \n",
              "2716     0.138838     0.138346     0.138346  \n",
              "2725     0.133084     0.133534     0.133534  "
            ]
          },
          "metadata": {
            "tags": []
          },
          "execution_count": 76
        }
      ]
    },
    {
      "metadata": {
        "id": "evihhM2IY_hZ",
        "colab_type": "code",
        "outputId": "ffb233c0-c20c-480e-867b-945108ec19d1",
        "colab": {
          "base_uri": "https://localhost:8080/",
          "height": 204
        }
      },
      "cell_type": "code",
      "source": [
        "test_labels.tail()"
      ],
      "execution_count": 77,
      "outputs": [
        {
          "output_type": "execute_result",
          "data": {
            "text/html": [
              "<div>\n",
              "<style scoped>\n",
              "    .dataframe tbody tr th:only-of-type {\n",
              "        vertical-align: middle;\n",
              "    }\n",
              "\n",
              "    .dataframe tbody tr th {\n",
              "        vertical-align: top;\n",
              "    }\n",
              "\n",
              "    .dataframe thead th {\n",
              "        text-align: right;\n",
              "    }\n",
              "</style>\n",
              "<table border=\"1\" class=\"dataframe\">\n",
              "  <thead>\n",
              "    <tr style=\"text-align: right;\">\n",
              "      <th></th>\n",
              "      <th>aod</th>\n",
              "      <th>cloudOD</th>\n",
              "      <th>cloudBaseHeight_km</th>\n",
              "    </tr>\n",
              "  </thead>\n",
              "  <tbody>\n",
              "    <tr>\n",
              "      <th>2707</th>\n",
              "      <td>1.07</td>\n",
              "      <td>25.6</td>\n",
              "      <td>0.8</td>\n",
              "    </tr>\n",
              "    <tr>\n",
              "      <th>2711</th>\n",
              "      <td>1.07</td>\n",
              "      <td>51.2</td>\n",
              "      <td>0.8</td>\n",
              "    </tr>\n",
              "    <tr>\n",
              "      <th>2713</th>\n",
              "      <td>1.07</td>\n",
              "      <td>51.2</td>\n",
              "      <td>3.2</td>\n",
              "    </tr>\n",
              "    <tr>\n",
              "      <th>2716</th>\n",
              "      <td>1.07</td>\n",
              "      <td>6.4</td>\n",
              "      <td>1.6</td>\n",
              "    </tr>\n",
              "    <tr>\n",
              "      <th>2725</th>\n",
              "      <td>1.07</td>\n",
              "      <td>25.6</td>\n",
              "      <td>3.2</td>\n",
              "    </tr>\n",
              "  </tbody>\n",
              "</table>\n",
              "</div>"
            ],
            "text/plain": [
              "       aod  cloudOD  cloudBaseHeight_km\n",
              "2707  1.07     25.6                 0.8\n",
              "2711  1.07     51.2                 0.8\n",
              "2713  1.07     51.2                 3.2\n",
              "2716  1.07      6.4                 1.6\n",
              "2725  1.07     25.6                 3.2"
            ]
          },
          "metadata": {
            "tags": []
          },
          "execution_count": 77
        }
      ]
    },
    {
      "metadata": {
        "colab_type": "text",
        "id": "mRklxK5s388r"
      },
      "cell_type": "markdown",
      "source": [
        "### Normalize the data\n",
        "\n",
        "Look again at the `train_stats` block above and note how different the ranges of each feature are."
      ]
    },
    {
      "metadata": {
        "colab_type": "text",
        "id": "-ywmerQ6dSox"
      },
      "cell_type": "markdown",
      "source": [
        "It is good practice to normalize features that use different scales and ranges. Although the model *might* converge without feature normalization, it makes training more difficult, and it makes the resulting model dependent on the choice of units used in the input. \n",
        "\n",
        "Note: Although we intentionally generate these statistics from only the training dataset, these statistics will also be used to normalize the test dataset. We need to do that to project the test dataset into the same distribution that the model has been trained on."
      ]
    },
    {
      "metadata": {
        "colab_type": "code",
        "id": "JlC5ooJrgjQF",
        "colab": {}
      },
      "cell_type": "code",
      "source": [
        "def norm(x):\n",
        "  return (x - train_stats['mean']) / train_stats['std']\n",
        "normed_train_data = norm(train_dataset)\n",
        "normed_test_data = norm(test_dataset)"
      ],
      "execution_count": 0,
      "outputs": []
    },
    {
      "metadata": {
        "id": "yTeWN4VZZbpk",
        "colab_type": "code",
        "outputId": "225abed1-934f-4953-faa1-bc0771d11cd3",
        "colab": {
          "base_uri": "https://localhost:8080/",
          "height": 224
        }
      },
      "cell_type": "code",
      "source": [
        "normed_train_data.tail()"
      ],
      "execution_count": 79,
      "outputs": [
        {
          "output_type": "execute_result",
          "data": {
            "text/html": [
              "<div>\n",
              "<style scoped>\n",
              "    .dataframe tbody tr th:only-of-type {\n",
              "        vertical-align: middle;\n",
              "    }\n",
              "\n",
              "    .dataframe tbody tr th {\n",
              "        vertical-align: top;\n",
              "    }\n",
              "\n",
              "    .dataframe thead th {\n",
              "        text-align: right;\n",
              "    }\n",
              "</style>\n",
              "<table border=\"1\" class=\"dataframe\">\n",
              "  <thead>\n",
              "    <tr style=\"text-align: right;\">\n",
              "      <th></th>\n",
              "      <th>albedo</th>\n",
              "      <th>sza_deg</th>\n",
              "      <th>intensity_345nm</th>\n",
              "      <th>intensity_374nm</th>\n",
              "      <th>intensity_430nm</th>\n",
              "      <th>intensity_480nm</th>\n",
              "      <th>O4SCD_340nm</th>\n",
              "      <th>O4SCD_350nm</th>\n",
              "      <th>O4SCD_369nm</th>\n",
              "      <th>O4SCD_379nm</th>\n",
              "      <th>O4SCD_425nm</th>\n",
              "      <th>O4SCD_435nm</th>\n",
              "      <th>O4SCD_475nm</th>\n",
              "      <th>O4SCD_485nm</th>\n",
              "      <th>ci_uv</th>\n",
              "      <th>ci_vis</th>\n",
              "      <th>pc_uv</th>\n",
              "      <th>pc_vis</th>\n",
              "      <th>FSummer_340</th>\n",
              "      <th>FWinter_340</th>\n",
              "      <th>FSummer_350</th>\n",
              "      <th>FWinter_350</th>\n",
              "      <th>FSummer_369</th>\n",
              "      <th>FWinter_369</th>\n",
              "      <th>FSummer_379</th>\n",
              "      <th>FWinter_379</th>\n",
              "      <th>FSummer_425</th>\n",
              "      <th>FWinter_425</th>\n",
              "      <th>FSummer_435</th>\n",
              "      <th>FWinter_435</th>\n",
              "      <th>FSummer_475</th>\n",
              "      <th>FWinter_475</th>\n",
              "      <th>FSummer_485</th>\n",
              "      <th>FWinter_485</th>\n",
              "    </tr>\n",
              "  </thead>\n",
              "  <tbody>\n",
              "    <tr>\n",
              "      <th>1200</th>\n",
              "      <td>-1.004428</td>\n",
              "      <td>0.051398</td>\n",
              "      <td>0.775219</td>\n",
              "      <td>0.752205</td>\n",
              "      <td>0.725811</td>\n",
              "      <td>0.691153</td>\n",
              "      <td>0.148774</td>\n",
              "      <td>0.079272</td>\n",
              "      <td>-0.011518</td>\n",
              "      <td>-0.071508</td>\n",
              "      <td>-0.251029</td>\n",
              "      <td>-0.284236</td>\n",
              "      <td>-0.385535</td>\n",
              "      <td>-0.402887</td>\n",
              "      <td>-0.840192</td>\n",
              "      <td>-0.222185</td>\n",
              "      <td>0.656195</td>\n",
              "      <td>0.568056</td>\n",
              "      <td>0.718662</td>\n",
              "      <td>0.718662</td>\n",
              "      <td>0.728006</td>\n",
              "      <td>0.728006</td>\n",
              "      <td>0.746226</td>\n",
              "      <td>0.746226</td>\n",
              "      <td>0.758001</td>\n",
              "      <td>0.758001</td>\n",
              "      <td>0.814630</td>\n",
              "      <td>0.814630</td>\n",
              "      <td>0.822686</td>\n",
              "      <td>0.822686</td>\n",
              "      <td>0.853172</td>\n",
              "      <td>0.853172</td>\n",
              "      <td>0.857392</td>\n",
              "      <td>0.857392</td>\n",
              "    </tr>\n",
              "    <tr>\n",
              "      <th>343</th>\n",
              "      <td>0.995128</td>\n",
              "      <td>-1.534805</td>\n",
              "      <td>0.235404</td>\n",
              "      <td>0.367583</td>\n",
              "      <td>0.597932</td>\n",
              "      <td>0.761748</td>\n",
              "      <td>-1.196245</td>\n",
              "      <td>-1.185390</td>\n",
              "      <td>-1.157663</td>\n",
              "      <td>-1.145315</td>\n",
              "      <td>-1.076431</td>\n",
              "      <td>-1.067429</td>\n",
              "      <td>-1.014276</td>\n",
              "      <td>-0.999281</td>\n",
              "      <td>1.377576</td>\n",
              "      <td>1.566819</td>\n",
              "      <td>0.797966</td>\n",
              "      <td>1.251555</td>\n",
              "      <td>-0.029883</td>\n",
              "      <td>-0.029883</td>\n",
              "      <td>-0.047593</td>\n",
              "      <td>-0.047593</td>\n",
              "      <td>-0.081105</td>\n",
              "      <td>-0.081105</td>\n",
              "      <td>-0.103122</td>\n",
              "      <td>-0.103122</td>\n",
              "      <td>-0.145074</td>\n",
              "      <td>-0.145074</td>\n",
              "      <td>-0.156102</td>\n",
              "      <td>-0.156102</td>\n",
              "      <td>-0.211919</td>\n",
              "      <td>-0.211919</td>\n",
              "      <td>-0.222995</td>\n",
              "      <td>-0.222995</td>\n",
              "    </tr>\n",
              "    <tr>\n",
              "      <th>47</th>\n",
              "      <td>-1.004428</td>\n",
              "      <td>-1.534805</td>\n",
              "      <td>-0.489496</td>\n",
              "      <td>-0.507803</td>\n",
              "      <td>-0.592898</td>\n",
              "      <td>-0.650011</td>\n",
              "      <td>1.216878</td>\n",
              "      <td>1.152319</td>\n",
              "      <td>1.061469</td>\n",
              "      <td>0.978698</td>\n",
              "      <td>0.757797</td>\n",
              "      <td>0.717060</td>\n",
              "      <td>0.570858</td>\n",
              "      <td>0.487383</td>\n",
              "      <td>-0.734753</td>\n",
              "      <td>-2.019115</td>\n",
              "      <td>-0.555614</td>\n",
              "      <td>-0.811995</td>\n",
              "      <td>0.563760</td>\n",
              "      <td>0.563760</td>\n",
              "      <td>0.595374</td>\n",
              "      <td>0.595374</td>\n",
              "      <td>0.603239</td>\n",
              "      <td>0.603239</td>\n",
              "      <td>0.613822</td>\n",
              "      <td>0.613822</td>\n",
              "      <td>0.632144</td>\n",
              "      <td>0.632144</td>\n",
              "      <td>0.611521</td>\n",
              "      <td>0.611521</td>\n",
              "      <td>0.638836</td>\n",
              "      <td>0.638836</td>\n",
              "      <td>0.584578</td>\n",
              "      <td>0.584578</td>\n",
              "    </tr>\n",
              "    <tr>\n",
              "      <th>759</th>\n",
              "      <td>0.995128</td>\n",
              "      <td>-1.006071</td>\n",
              "      <td>-0.551642</td>\n",
              "      <td>-0.554277</td>\n",
              "      <td>-0.512382</td>\n",
              "      <td>-0.475990</td>\n",
              "      <td>-0.299566</td>\n",
              "      <td>-0.367830</td>\n",
              "      <td>-0.438274</td>\n",
              "      <td>-0.472711</td>\n",
              "      <td>-0.465022</td>\n",
              "      <td>-0.452771</td>\n",
              "      <td>-0.420957</td>\n",
              "      <td>-0.411530</td>\n",
              "      <td>-0.006609</td>\n",
              "      <td>1.368193</td>\n",
              "      <td>-0.548734</td>\n",
              "      <td>-0.352437</td>\n",
              "      <td>0.337195</td>\n",
              "      <td>0.337195</td>\n",
              "      <td>0.321165</td>\n",
              "      <td>0.321165</td>\n",
              "      <td>0.259774</td>\n",
              "      <td>0.259774</td>\n",
              "      <td>0.224311</td>\n",
              "      <td>0.224311</td>\n",
              "      <td>0.025336</td>\n",
              "      <td>0.025336</td>\n",
              "      <td>0.005751</td>\n",
              "      <td>0.005751</td>\n",
              "      <td>-0.116330</td>\n",
              "      <td>-0.116330</td>\n",
              "      <td>-0.178083</td>\n",
              "      <td>-0.178083</td>\n",
              "    </tr>\n",
              "    <tr>\n",
              "      <th>2500</th>\n",
              "      <td>-1.004428</td>\n",
              "      <td>1.320360</td>\n",
              "      <td>-0.844290</td>\n",
              "      <td>-0.857296</td>\n",
              "      <td>-0.867765</td>\n",
              "      <td>-0.873168</td>\n",
              "      <td>-0.431430</td>\n",
              "      <td>-0.342282</td>\n",
              "      <td>-0.206607</td>\n",
              "      <td>-0.130509</td>\n",
              "      <td>0.136197</td>\n",
              "      <td>0.191627</td>\n",
              "      <td>0.349471</td>\n",
              "      <td>0.383662</td>\n",
              "      <td>0.928858</td>\n",
              "      <td>0.008992</td>\n",
              "      <td>-0.878438</td>\n",
              "      <td>-0.869950</td>\n",
              "      <td>0.923536</td>\n",
              "      <td>0.923536</td>\n",
              "      <td>0.934599</td>\n",
              "      <td>0.934599</td>\n",
              "      <td>0.948569</td>\n",
              "      <td>0.948569</td>\n",
              "      <td>0.954878</td>\n",
              "      <td>0.954878</td>\n",
              "      <td>0.976156</td>\n",
              "      <td>0.976156</td>\n",
              "      <td>0.978283</td>\n",
              "      <td>0.978283</td>\n",
              "      <td>0.985557</td>\n",
              "      <td>0.985557</td>\n",
              "      <td>0.986901</td>\n",
              "      <td>0.986901</td>\n",
              "    </tr>\n",
              "  </tbody>\n",
              "</table>\n",
              "</div>"
            ],
            "text/plain": [
              "        albedo   sza_deg  intensity_345nm  intensity_374nm  intensity_430nm  \\\n",
              "1200 -1.004428  0.051398         0.775219         0.752205         0.725811   \n",
              "343   0.995128 -1.534805         0.235404         0.367583         0.597932   \n",
              "47   -1.004428 -1.534805        -0.489496        -0.507803        -0.592898   \n",
              "759   0.995128 -1.006071        -0.551642        -0.554277        -0.512382   \n",
              "2500 -1.004428  1.320360        -0.844290        -0.857296        -0.867765   \n",
              "\n",
              "      intensity_480nm  O4SCD_340nm  O4SCD_350nm  O4SCD_369nm  O4SCD_379nm  \\\n",
              "1200         0.691153     0.148774     0.079272    -0.011518    -0.071508   \n",
              "343          0.761748    -1.196245    -1.185390    -1.157663    -1.145315   \n",
              "47          -0.650011     1.216878     1.152319     1.061469     0.978698   \n",
              "759         -0.475990    -0.299566    -0.367830    -0.438274    -0.472711   \n",
              "2500        -0.873168    -0.431430    -0.342282    -0.206607    -0.130509   \n",
              "\n",
              "      O4SCD_425nm  O4SCD_435nm  O4SCD_475nm  O4SCD_485nm     ci_uv    ci_vis  \\\n",
              "1200    -0.251029    -0.284236    -0.385535    -0.402887 -0.840192 -0.222185   \n",
              "343     -1.076431    -1.067429    -1.014276    -0.999281  1.377576  1.566819   \n",
              "47       0.757797     0.717060     0.570858     0.487383 -0.734753 -2.019115   \n",
              "759     -0.465022    -0.452771    -0.420957    -0.411530 -0.006609  1.368193   \n",
              "2500     0.136197     0.191627     0.349471     0.383662  0.928858  0.008992   \n",
              "\n",
              "         pc_uv    pc_vis  FSummer_340  FWinter_340  FSummer_350  FWinter_350  \\\n",
              "1200  0.656195  0.568056     0.718662     0.718662     0.728006     0.728006   \n",
              "343   0.797966  1.251555    -0.029883    -0.029883    -0.047593    -0.047593   \n",
              "47   -0.555614 -0.811995     0.563760     0.563760     0.595374     0.595374   \n",
              "759  -0.548734 -0.352437     0.337195     0.337195     0.321165     0.321165   \n",
              "2500 -0.878438 -0.869950     0.923536     0.923536     0.934599     0.934599   \n",
              "\n",
              "      FSummer_369  FWinter_369  FSummer_379  FWinter_379  FSummer_425  \\\n",
              "1200     0.746226     0.746226     0.758001     0.758001     0.814630   \n",
              "343     -0.081105    -0.081105    -0.103122    -0.103122    -0.145074   \n",
              "47       0.603239     0.603239     0.613822     0.613822     0.632144   \n",
              "759      0.259774     0.259774     0.224311     0.224311     0.025336   \n",
              "2500     0.948569     0.948569     0.954878     0.954878     0.976156   \n",
              "\n",
              "      FWinter_425  FSummer_435  FWinter_435  FSummer_475  FWinter_475  \\\n",
              "1200     0.814630     0.822686     0.822686     0.853172     0.853172   \n",
              "343     -0.145074    -0.156102    -0.156102    -0.211919    -0.211919   \n",
              "47       0.632144     0.611521     0.611521     0.638836     0.638836   \n",
              "759      0.025336     0.005751     0.005751    -0.116330    -0.116330   \n",
              "2500     0.976156     0.978283     0.978283     0.985557     0.985557   \n",
              "\n",
              "      FSummer_485  FWinter_485  \n",
              "1200     0.857392     0.857392  \n",
              "343     -0.222995    -0.222995  \n",
              "47       0.584578     0.584578  \n",
              "759     -0.178083    -0.178083  \n",
              "2500     0.986901     0.986901  "
            ]
          },
          "metadata": {
            "tags": []
          },
          "execution_count": 79
        }
      ]
    },
    {
      "metadata": {
        "id": "-JiTYoGma8Ck",
        "colab_type": "code",
        "outputId": "c7c7effa-baaa-46be-a58f-e2996f4c4bd6",
        "colab": {
          "base_uri": "https://localhost:8080/",
          "height": 224
        }
      },
      "cell_type": "code",
      "source": [
        "normed_test_data.tail()"
      ],
      "execution_count": 80,
      "outputs": [
        {
          "output_type": "execute_result",
          "data": {
            "text/html": [
              "<div>\n",
              "<style scoped>\n",
              "    .dataframe tbody tr th:only-of-type {\n",
              "        vertical-align: middle;\n",
              "    }\n",
              "\n",
              "    .dataframe tbody tr th {\n",
              "        vertical-align: top;\n",
              "    }\n",
              "\n",
              "    .dataframe thead th {\n",
              "        text-align: right;\n",
              "    }\n",
              "</style>\n",
              "<table border=\"1\" class=\"dataframe\">\n",
              "  <thead>\n",
              "    <tr style=\"text-align: right;\">\n",
              "      <th></th>\n",
              "      <th>albedo</th>\n",
              "      <th>sza_deg</th>\n",
              "      <th>intensity_345nm</th>\n",
              "      <th>intensity_374nm</th>\n",
              "      <th>intensity_430nm</th>\n",
              "      <th>intensity_480nm</th>\n",
              "      <th>O4SCD_340nm</th>\n",
              "      <th>O4SCD_350nm</th>\n",
              "      <th>O4SCD_369nm</th>\n",
              "      <th>O4SCD_379nm</th>\n",
              "      <th>O4SCD_425nm</th>\n",
              "      <th>O4SCD_435nm</th>\n",
              "      <th>O4SCD_475nm</th>\n",
              "      <th>O4SCD_485nm</th>\n",
              "      <th>ci_uv</th>\n",
              "      <th>ci_vis</th>\n",
              "      <th>pc_uv</th>\n",
              "      <th>pc_vis</th>\n",
              "      <th>FSummer_340</th>\n",
              "      <th>FWinter_340</th>\n",
              "      <th>FSummer_350</th>\n",
              "      <th>FWinter_350</th>\n",
              "      <th>FSummer_369</th>\n",
              "      <th>FWinter_369</th>\n",
              "      <th>FSummer_379</th>\n",
              "      <th>FWinter_379</th>\n",
              "      <th>FSummer_425</th>\n",
              "      <th>FWinter_425</th>\n",
              "      <th>FSummer_435</th>\n",
              "      <th>FWinter_435</th>\n",
              "      <th>FSummer_475</th>\n",
              "      <th>FWinter_475</th>\n",
              "      <th>FSummer_485</th>\n",
              "      <th>FWinter_485</th>\n",
              "    </tr>\n",
              "  </thead>\n",
              "  <tbody>\n",
              "    <tr>\n",
              "      <th>2707</th>\n",
              "      <td>0.995128</td>\n",
              "      <td>1.32036</td>\n",
              "      <td>-0.899550</td>\n",
              "      <td>-0.917935</td>\n",
              "      <td>-0.933701</td>\n",
              "      <td>-0.938948</td>\n",
              "      <td>0.939962</td>\n",
              "      <td>0.986252</td>\n",
              "      <td>1.049276</td>\n",
              "      <td>1.084899</td>\n",
              "      <td>1.297875</td>\n",
              "      <td>1.311890</td>\n",
              "      <td>1.385564</td>\n",
              "      <td>1.412227</td>\n",
              "      <td>1.452811</td>\n",
              "      <td>0.076046</td>\n",
              "      <td>-0.955411</td>\n",
              "      <td>-0.933747</td>\n",
              "      <td>-0.382922</td>\n",
              "      <td>-0.382922</td>\n",
              "      <td>-0.448403</td>\n",
              "      <td>-0.448403</td>\n",
              "      <td>-0.516640</td>\n",
              "      <td>-0.516640</td>\n",
              "      <td>-0.559685</td>\n",
              "      <td>-0.559685</td>\n",
              "      <td>-0.577312</td>\n",
              "      <td>-0.577312</td>\n",
              "      <td>-0.595529</td>\n",
              "      <td>-0.595529</td>\n",
              "      <td>-0.697606</td>\n",
              "      <td>-0.697606</td>\n",
              "      <td>-0.723853</td>\n",
              "      <td>-0.723853</td>\n",
              "    </tr>\n",
              "    <tr>\n",
              "      <th>2711</th>\n",
              "      <td>0.995128</td>\n",
              "      <td>1.32036</td>\n",
              "      <td>-0.910847</td>\n",
              "      <td>-0.930763</td>\n",
              "      <td>-0.946597</td>\n",
              "      <td>-0.951204</td>\n",
              "      <td>2.126744</td>\n",
              "      <td>2.212592</td>\n",
              "      <td>2.256386</td>\n",
              "      <td>2.300307</td>\n",
              "      <td>2.184418</td>\n",
              "      <td>2.144652</td>\n",
              "      <td>2.572201</td>\n",
              "      <td>2.743310</td>\n",
              "      <td>1.556846</td>\n",
              "      <td>2.441263</td>\n",
              "      <td>-0.973006</td>\n",
              "      <td>-0.943738</td>\n",
              "      <td>-0.487225</td>\n",
              "      <td>-0.487225</td>\n",
              "      <td>-0.520809</td>\n",
              "      <td>-0.520809</td>\n",
              "      <td>-0.510956</td>\n",
              "      <td>-0.510956</td>\n",
              "      <td>-0.577096</td>\n",
              "      <td>-0.577096</td>\n",
              "      <td>-0.438417</td>\n",
              "      <td>-0.438417</td>\n",
              "      <td>-0.415332</td>\n",
              "      <td>-0.415332</td>\n",
              "      <td>-0.394733</td>\n",
              "      <td>-0.394733</td>\n",
              "      <td>-0.303663</td>\n",
              "      <td>-0.303663</td>\n",
              "    </tr>\n",
              "    <tr>\n",
              "      <th>2713</th>\n",
              "      <td>0.995128</td>\n",
              "      <td>1.32036</td>\n",
              "      <td>-0.908149</td>\n",
              "      <td>-0.927939</td>\n",
              "      <td>-0.945586</td>\n",
              "      <td>-0.952029</td>\n",
              "      <td>0.979521</td>\n",
              "      <td>0.935155</td>\n",
              "      <td>0.951732</td>\n",
              "      <td>0.978698</td>\n",
              "      <td>0.961600</td>\n",
              "      <td>0.935165</td>\n",
              "      <td>0.925078</td>\n",
              "      <td>0.910910</td>\n",
              "      <td>0.798459</td>\n",
              "      <td>-3.107156</td>\n",
              "      <td>-0.969837</td>\n",
              "      <td>-0.950234</td>\n",
              "      <td>0.333837</td>\n",
              "      <td>0.333837</td>\n",
              "      <td>0.439092</td>\n",
              "      <td>0.439092</td>\n",
              "      <td>0.330367</td>\n",
              "      <td>0.330367</td>\n",
              "      <td>0.242035</td>\n",
              "      <td>0.242035</td>\n",
              "      <td>-0.012897</td>\n",
              "      <td>-0.012897</td>\n",
              "      <td>-0.171618</td>\n",
              "      <td>-0.171618</td>\n",
              "      <td>-0.768248</td>\n",
              "      <td>-0.768248</td>\n",
              "      <td>-0.731574</td>\n",
              "      <td>-0.731574</td>\n",
              "    </tr>\n",
              "    <tr>\n",
              "      <th>2716</th>\n",
              "      <td>0.995128</td>\n",
              "      <td>1.32036</td>\n",
              "      <td>-0.854741</td>\n",
              "      <td>-0.868422</td>\n",
              "      <td>-0.879505</td>\n",
              "      <td>-0.884672</td>\n",
              "      <td>-0.246820</td>\n",
              "      <td>-0.163441</td>\n",
              "      <td>-0.023711</td>\n",
              "      <td>0.034692</td>\n",
              "      <td>0.268669</td>\n",
              "      <td>0.320507</td>\n",
              "      <td>0.464592</td>\n",
              "      <td>0.496027</td>\n",
              "      <td>1.048381</td>\n",
              "      <td>0.053109</td>\n",
              "      <td>-0.891524</td>\n",
              "      <td>-0.880461</td>\n",
              "      <td>0.014372</td>\n",
              "      <td>0.014372</td>\n",
              "      <td>0.000291</td>\n",
              "      <td>0.000291</td>\n",
              "      <td>-0.025236</td>\n",
              "      <td>-0.025236</td>\n",
              "      <td>-0.042732</td>\n",
              "      <td>-0.042732</td>\n",
              "      <td>-0.108861</td>\n",
              "      <td>-0.108861</td>\n",
              "      <td>-0.124803</td>\n",
              "      <td>-0.124803</td>\n",
              "      <td>-0.177429</td>\n",
              "      <td>-0.177429</td>\n",
              "      <td>-0.189819</td>\n",
              "      <td>-0.189819</td>\n",
              "    </tr>\n",
              "    <tr>\n",
              "      <th>2725</th>\n",
              "      <td>0.995128</td>\n",
              "      <td>1.32036</td>\n",
              "      <td>-0.888554</td>\n",
              "      <td>-0.907248</td>\n",
              "      <td>-0.921512</td>\n",
              "      <td>-0.925844</td>\n",
              "      <td>0.003723</td>\n",
              "      <td>0.079272</td>\n",
              "      <td>0.195763</td>\n",
              "      <td>0.235294</td>\n",
              "      <td>0.472472</td>\n",
              "      <td>0.508870</td>\n",
              "      <td>0.712546</td>\n",
              "      <td>0.712112</td>\n",
              "      <td>0.264969</td>\n",
              "      <td>0.497406</td>\n",
              "      <td>-0.946031</td>\n",
              "      <td>-0.918108</td>\n",
              "      <td>0.183744</td>\n",
              "      <td>0.183744</td>\n",
              "      <td>0.223087</td>\n",
              "      <td>0.223087</td>\n",
              "      <td>0.177659</td>\n",
              "      <td>0.177659</td>\n",
              "      <td>0.213919</td>\n",
              "      <td>0.213919</td>\n",
              "      <td>-0.063768</td>\n",
              "      <td>-0.063768</td>\n",
              "      <td>-0.081608</td>\n",
              "      <td>-0.081608</td>\n",
              "      <td>-0.393500</td>\n",
              "      <td>-0.393500</td>\n",
              "      <td>-0.369809</td>\n",
              "      <td>-0.369809</td>\n",
              "    </tr>\n",
              "  </tbody>\n",
              "</table>\n",
              "</div>"
            ],
            "text/plain": [
              "        albedo  sza_deg  intensity_345nm  intensity_374nm  intensity_430nm  \\\n",
              "2707  0.995128  1.32036        -0.899550        -0.917935        -0.933701   \n",
              "2711  0.995128  1.32036        -0.910847        -0.930763        -0.946597   \n",
              "2713  0.995128  1.32036        -0.908149        -0.927939        -0.945586   \n",
              "2716  0.995128  1.32036        -0.854741        -0.868422        -0.879505   \n",
              "2725  0.995128  1.32036        -0.888554        -0.907248        -0.921512   \n",
              "\n",
              "      intensity_480nm  O4SCD_340nm  O4SCD_350nm  O4SCD_369nm  O4SCD_379nm  \\\n",
              "2707        -0.938948     0.939962     0.986252     1.049276     1.084899   \n",
              "2711        -0.951204     2.126744     2.212592     2.256386     2.300307   \n",
              "2713        -0.952029     0.979521     0.935155     0.951732     0.978698   \n",
              "2716        -0.884672    -0.246820    -0.163441    -0.023711     0.034692   \n",
              "2725        -0.925844     0.003723     0.079272     0.195763     0.235294   \n",
              "\n",
              "      O4SCD_425nm  O4SCD_435nm  O4SCD_475nm  O4SCD_485nm     ci_uv    ci_vis  \\\n",
              "2707     1.297875     1.311890     1.385564     1.412227  1.452811  0.076046   \n",
              "2711     2.184418     2.144652     2.572201     2.743310  1.556846  2.441263   \n",
              "2713     0.961600     0.935165     0.925078     0.910910  0.798459 -3.107156   \n",
              "2716     0.268669     0.320507     0.464592     0.496027  1.048381  0.053109   \n",
              "2725     0.472472     0.508870     0.712546     0.712112  0.264969  0.497406   \n",
              "\n",
              "         pc_uv    pc_vis  FSummer_340  FWinter_340  FSummer_350  FWinter_350  \\\n",
              "2707 -0.955411 -0.933747    -0.382922    -0.382922    -0.448403    -0.448403   \n",
              "2711 -0.973006 -0.943738    -0.487225    -0.487225    -0.520809    -0.520809   \n",
              "2713 -0.969837 -0.950234     0.333837     0.333837     0.439092     0.439092   \n",
              "2716 -0.891524 -0.880461     0.014372     0.014372     0.000291     0.000291   \n",
              "2725 -0.946031 -0.918108     0.183744     0.183744     0.223087     0.223087   \n",
              "\n",
              "      FSummer_369  FWinter_369  FSummer_379  FWinter_379  FSummer_425  \\\n",
              "2707    -0.516640    -0.516640    -0.559685    -0.559685    -0.577312   \n",
              "2711    -0.510956    -0.510956    -0.577096    -0.577096    -0.438417   \n",
              "2713     0.330367     0.330367     0.242035     0.242035    -0.012897   \n",
              "2716    -0.025236    -0.025236    -0.042732    -0.042732    -0.108861   \n",
              "2725     0.177659     0.177659     0.213919     0.213919    -0.063768   \n",
              "\n",
              "      FWinter_425  FSummer_435  FWinter_435  FSummer_475  FWinter_475  \\\n",
              "2707    -0.577312    -0.595529    -0.595529    -0.697606    -0.697606   \n",
              "2711    -0.438417    -0.415332    -0.415332    -0.394733    -0.394733   \n",
              "2713    -0.012897    -0.171618    -0.171618    -0.768248    -0.768248   \n",
              "2716    -0.108861    -0.124803    -0.124803    -0.177429    -0.177429   \n",
              "2725    -0.063768    -0.081608    -0.081608    -0.393500    -0.393500   \n",
              "\n",
              "      FSummer_485  FWinter_485  \n",
              "2707    -0.723853    -0.723853  \n",
              "2711    -0.303663    -0.303663  \n",
              "2713    -0.731574    -0.731574  \n",
              "2716    -0.189819    -0.189819  \n",
              "2725    -0.369809    -0.369809  "
            ]
          },
          "metadata": {
            "tags": []
          },
          "execution_count": 80
        }
      ]
    },
    {
      "metadata": {
        "colab_type": "text",
        "id": "BuiClDk45eS4"
      },
      "cell_type": "markdown",
      "source": [
        "This normalized data is what we will use to train the model.\n",
        "\n",
        "Caution: The statistics used to normalize the inputs here (mean and standard deviation) need to be applied to any other data that is fed to the model, along with the one-hot encoding that we did earlier.  That includes the test set as well as live data when the model is used in production."
      ]
    },
    {
      "metadata": {
        "colab_type": "text",
        "id": "SmjdzxKzEu1-"
      },
      "cell_type": "markdown",
      "source": [
        "## The model"
      ]
    },
    {
      "metadata": {
        "colab_type": "text",
        "id": "6SWtkIjhrZwa"
      },
      "cell_type": "markdown",
      "source": [
        "### Build the model\n",
        "\n",
        "Let's build our model. Here, we'll use a `Sequential` model with two densely connected hidden layers, and an output layer that returns a single, continuous value. The model building steps are wrapped in a function, `build_model`, since we'll create a second model, later on."
      ]
    },
    {
      "metadata": {
        "id": "PNs4DjYMWXPF",
        "colab_type": "code",
        "colab": {}
      },
      "cell_type": "code",
      "source": [
        "# tf.train.RMSPropOptimizer?"
      ],
      "execution_count": 0,
      "outputs": []
    },
    {
      "metadata": {
        "id": "9fhh7rgnbjO1",
        "colab_type": "code",
        "outputId": "16bda374-4602-45a6-f66e-4efc5d28abf0",
        "colab": {
          "base_uri": "https://localhost:8080/",
          "height": 170
        }
      },
      "cell_type": "code",
      "source": [
        "train_dataset.keys()"
      ],
      "execution_count": 82,
      "outputs": [
        {
          "output_type": "execute_result",
          "data": {
            "text/plain": [
              "Index(['albedo', 'sza_deg', 'intensity_345nm', 'intensity_374nm',\n",
              "       'intensity_430nm', 'intensity_480nm', 'O4SCD_340nm', 'O4SCD_350nm',\n",
              "       'O4SCD_369nm', 'O4SCD_379nm', 'O4SCD_425nm', 'O4SCD_435nm',\n",
              "       'O4SCD_475nm', 'O4SCD_485nm', 'ci_uv', 'ci_vis', 'pc_uv', 'pc_vis',\n",
              "       'FSummer_340', 'FWinter_340', 'FSummer_350', 'FWinter_350',\n",
              "       'FSummer_369', 'FWinter_369', 'FSummer_379', 'FWinter_379',\n",
              "       'FSummer_425', 'FWinter_425', 'FSummer_435', 'FWinter_435',\n",
              "       'FSummer_475', 'FWinter_475', 'FSummer_485', 'FWinter_485'],\n",
              "      dtype='object')"
            ]
          },
          "metadata": {
            "tags": []
          },
          "execution_count": 82
        }
      ]
    },
    {
      "metadata": {
        "id": "HaUryuxJzTRw",
        "colab_type": "code",
        "colab": {}
      },
      "cell_type": "code",
      "source": [
        "# tf.train.AdamOptimizer?"
      ],
      "execution_count": 0,
      "outputs": []
    },
    {
      "metadata": {
        "colab_type": "code",
        "id": "UMTZ_EnPWWR3",
        "colab": {}
      },
      "cell_type": "code",
      "source": [
        "def build_model():\n",
        "  model = keras.Sequential([\n",
        "    layers.Dense(64, activation=tf.nn.relu, input_shape=[len(train_dataset.keys())]),\n",
        "    layers.Dense(3)\n",
        "  ])\n",
        "\n",
        "#   optimizer = tf.train.RMSPropOptimizer(0.001)\n",
        "  optimizer = tf.train.AdamOptimizer()\n",
        "\n",
        "  model.compile(loss='mse',\n",
        "                optimizer=optimizer,\n",
        "                metrics=['mae', 'mse'])\n",
        "  return model"
      ],
      "execution_count": 0,
      "outputs": []
    },
    {
      "metadata": {
        "colab_type": "code",
        "id": "cGbPb-PHGbhs",
        "colab": {}
      },
      "cell_type": "code",
      "source": [
        "model = build_model()"
      ],
      "execution_count": 0,
      "outputs": []
    },
    {
      "metadata": {
        "colab_type": "text",
        "id": "Sj49Og4YGULr"
      },
      "cell_type": "markdown",
      "source": [
        "### Inspect the model\n",
        "\n",
        "Use the `.summary` method to print a simple description of the model"
      ]
    },
    {
      "metadata": {
        "id": "Azwc2-L3Dl7d",
        "colab_type": "code",
        "colab": {}
      },
      "cell_type": "code",
      "source": [
        "# model.summary?\n",
        "# model.compile?"
      ],
      "execution_count": 0,
      "outputs": []
    },
    {
      "metadata": {
        "colab_type": "code",
        "id": "ReAD0n6MsFK-",
        "outputId": "aff60f4f-5861-4889-ea2f-6007675f74be",
        "colab": {
          "base_uri": "https://localhost:8080/",
          "height": 204
        }
      },
      "cell_type": "code",
      "source": [
        "model.summary()"
      ],
      "execution_count": 87,
      "outputs": [
        {
          "output_type": "stream",
          "text": [
            "_________________________________________________________________\n",
            "Layer (type)                 Output Shape              Param #   \n",
            "=================================================================\n",
            "dense_2 (Dense)              (None, 64)                2240      \n",
            "_________________________________________________________________\n",
            "dense_3 (Dense)              (None, 3)                 195       \n",
            "=================================================================\n",
            "Total params: 2,435\n",
            "Trainable params: 2,435\n",
            "Non-trainable params: 0\n",
            "_________________________________________________________________\n"
          ],
          "name": "stdout"
        }
      ]
    },
    {
      "metadata": {
        "colab_type": "text",
        "id": "Vt6W50qGsJAL"
      },
      "cell_type": "markdown",
      "source": [
        "\n",
        "Now try out the model. Take a batch of `10` examples from the training data and call `model.predict` on it."
      ]
    },
    {
      "metadata": {
        "colab_type": "code",
        "id": "-d-gBaVtGTSC",
        "outputId": "aa7c6e71-ae08-4233-b645-b969db9555d2",
        "colab": {
          "base_uri": "https://localhost:8080/",
          "height": 187
        }
      },
      "cell_type": "code",
      "source": [
        "example_batch = normed_train_data[:10]\n",
        "example_result = model.predict(example_batch)\n",
        "example_result"
      ],
      "execution_count": 88,
      "outputs": [
        {
          "output_type": "execute_result",
          "data": {
            "text/plain": [
              "array([[ 0.99894845, -0.47154167, -0.53168815],\n",
              "       [ 0.7222414 , -0.49090126,  0.05172303],\n",
              "       [-0.91466415, -0.09028845, -0.47246638],\n",
              "       [ 0.669688  , -0.53995514, -0.84501207],\n",
              "       [-2.8677232 , -1.1035914 ,  1.3941722 ],\n",
              "       [-1.6649426 , -0.5551046 ,  0.84304285],\n",
              "       [ 0.7047049 , -0.5262278 , -1.0106446 ],\n",
              "       [-0.52447426, -0.3890143 , -0.23823625],\n",
              "       [-0.231803  , -2.693459  ,  0.37855926],\n",
              "       [-1.7268625 , -0.08589429,  0.1188398 ]], dtype=float32)"
            ]
          },
          "metadata": {
            "tags": []
          },
          "execution_count": 88
        }
      ]
    },
    {
      "metadata": {
        "colab_type": "text",
        "id": "QlM8KrSOsaYo"
      },
      "cell_type": "markdown",
      "source": [
        "It seems to be working, and it produces a result of the expected shape and type."
      ]
    },
    {
      "metadata": {
        "colab_type": "text",
        "id": "0-qWCsh6DlyH"
      },
      "cell_type": "markdown",
      "source": [
        "### Train the model\n",
        "\n",
        "Train the model for 1000 epochs, and record the training and validation accuracy in the `history` object."
      ]
    },
    {
      "metadata": {
        "id": "sWDolioPEhFq",
        "colab_type": "code",
        "colab": {}
      },
      "cell_type": "code",
      "source": [
        "# model.fit?"
      ],
      "execution_count": 0,
      "outputs": []
    },
    {
      "metadata": {
        "colab_type": "code",
        "id": "sD7qHCmNIOY0",
        "outputId": "ce057167-cee6-4b3a-821f-eebb0327d8c9",
        "colab": {
          "base_uri": "https://localhost:8080/",
          "height": 204
        }
      },
      "cell_type": "code",
      "source": [
        "# Display training progress by printing a single dot for each completed epoch\n",
        "class PrintDot(keras.callbacks.Callback):\n",
        "  def on_epoch_end(self, epoch, logs):\n",
        "    if epoch % 100 == 0: print('')\n",
        "    print('.', end='')\n",
        "\n",
        "EPOCHS = 1000\n",
        "\n",
        "history = model.fit(\n",
        "  normed_train_data, train_labels,\n",
        "  epochs=EPOCHS, validation_split = 0.2, verbose=0,\n",
        "  callbacks=[PrintDot()], shuffle=False)"
      ],
      "execution_count": 90,
      "outputs": [
        {
          "output_type": "stream",
          "text": [
            "\n",
            "....................................................................................................\n",
            "....................................................................................................\n",
            "....................................................................................................\n",
            "....................................................................................................\n",
            "....................................................................................................\n",
            "....................................................................................................\n",
            "....................................................................................................\n",
            "....................................................................................................\n",
            "....................................................................................................\n",
            "...................................................................................................."
          ],
          "name": "stdout"
        }
      ]
    },
    {
      "metadata": {
        "colab_type": "text",
        "id": "tQm3pc0FYPQB"
      },
      "cell_type": "markdown",
      "source": [
        "Visualize the model's training progress using the stats stored in the `history` object."
      ]
    },
    {
      "metadata": {
        "id": "W2ZVhVGaFn_B",
        "colab_type": "code",
        "colab": {}
      },
      "cell_type": "code",
      "source": [
        "# history.history.keys()"
      ],
      "execution_count": 0,
      "outputs": []
    },
    {
      "metadata": {
        "colab_type": "code",
        "id": "4Xj91b-dymEy",
        "outputId": "7130c2b9-b048-4d7c-b365-dc536cbb249b",
        "colab": {
          "base_uri": "https://localhost:8080/",
          "height": 204
        }
      },
      "cell_type": "code",
      "source": [
        "hist = pd.DataFrame(history.history)\n",
        "hist['epoch'] = history.epoch\n",
        "hist.tail()"
      ],
      "execution_count": 92,
      "outputs": [
        {
          "output_type": "execute_result",
          "data": {
            "text/html": [
              "<div>\n",
              "<style scoped>\n",
              "    .dataframe tbody tr th:only-of-type {\n",
              "        vertical-align: middle;\n",
              "    }\n",
              "\n",
              "    .dataframe tbody tr th {\n",
              "        vertical-align: top;\n",
              "    }\n",
              "\n",
              "    .dataframe thead th {\n",
              "        text-align: right;\n",
              "    }\n",
              "</style>\n",
              "<table border=\"1\" class=\"dataframe\">\n",
              "  <thead>\n",
              "    <tr style=\"text-align: right;\">\n",
              "      <th></th>\n",
              "      <th>loss</th>\n",
              "      <th>mean_absolute_error</th>\n",
              "      <th>mean_squared_error</th>\n",
              "      <th>val_loss</th>\n",
              "      <th>val_mean_absolute_error</th>\n",
              "      <th>val_mean_squared_error</th>\n",
              "      <th>epoch</th>\n",
              "    </tr>\n",
              "  </thead>\n",
              "  <tbody>\n",
              "    <tr>\n",
              "      <th>995</th>\n",
              "      <td>1.462856</td>\n",
              "      <td>0.616180</td>\n",
              "      <td>1.462856</td>\n",
              "      <td>2.934572</td>\n",
              "      <td>0.745985</td>\n",
              "      <td>2.934572</td>\n",
              "      <td>995</td>\n",
              "    </tr>\n",
              "    <tr>\n",
              "      <th>996</th>\n",
              "      <td>1.459627</td>\n",
              "      <td>0.615543</td>\n",
              "      <td>1.459627</td>\n",
              "      <td>2.941709</td>\n",
              "      <td>0.745755</td>\n",
              "      <td>2.941710</td>\n",
              "      <td>996</td>\n",
              "    </tr>\n",
              "    <tr>\n",
              "      <th>997</th>\n",
              "      <td>1.459781</td>\n",
              "      <td>0.615003</td>\n",
              "      <td>1.459781</td>\n",
              "      <td>2.927598</td>\n",
              "      <td>0.744972</td>\n",
              "      <td>2.927598</td>\n",
              "      <td>997</td>\n",
              "    </tr>\n",
              "    <tr>\n",
              "      <th>998</th>\n",
              "      <td>1.459154</td>\n",
              "      <td>0.615245</td>\n",
              "      <td>1.459154</td>\n",
              "      <td>2.928771</td>\n",
              "      <td>0.744168</td>\n",
              "      <td>2.928771</td>\n",
              "      <td>998</td>\n",
              "    </tr>\n",
              "    <tr>\n",
              "      <th>999</th>\n",
              "      <td>1.457622</td>\n",
              "      <td>0.615055</td>\n",
              "      <td>1.457622</td>\n",
              "      <td>2.917911</td>\n",
              "      <td>0.744356</td>\n",
              "      <td>2.917911</td>\n",
              "      <td>999</td>\n",
              "    </tr>\n",
              "  </tbody>\n",
              "</table>\n",
              "</div>"
            ],
            "text/plain": [
              "         loss  mean_absolute_error  mean_squared_error  val_loss  \\\n",
              "995  1.462856             0.616180            1.462856  2.934572   \n",
              "996  1.459627             0.615543            1.459627  2.941709   \n",
              "997  1.459781             0.615003            1.459781  2.927598   \n",
              "998  1.459154             0.615245            1.459154  2.928771   \n",
              "999  1.457622             0.615055            1.457622  2.917911   \n",
              "\n",
              "     val_mean_absolute_error  val_mean_squared_error  epoch  \n",
              "995                 0.745985                2.934572    995  \n",
              "996                 0.745755                2.941710    996  \n",
              "997                 0.744972                2.927598    997  \n",
              "998                 0.744168                2.928771    998  \n",
              "999                 0.744356                2.917911    999  "
            ]
          },
          "metadata": {
            "tags": []
          },
          "execution_count": 92
        }
      ]
    },
    {
      "metadata": {
        "id": "Ibluf6A_hgUv",
        "colab_type": "code",
        "colab": {}
      },
      "cell_type": "code",
      "source": [
        "# Save history to file\n",
        "hist.to_csv(index=False, path_or_buf='history.csv', header=hist.columns)"
      ],
      "execution_count": 0,
      "outputs": []
    },
    {
      "metadata": {
        "colab_type": "code",
        "id": "B6XriGbVPh2t",
        "outputId": "11549fd1-1487-485e-8d89-9974a60478b5",
        "colab": {
          "base_uri": "https://localhost:8080/",
          "height": 713
        }
      },
      "cell_type": "code",
      "source": [
        "import matplotlib.pyplot as plt\n",
        "\n",
        "def plot_history(history):\n",
        "  hist = pd.DataFrame(history.history)\n",
        "  hist['epoch'] = history.epoch\n",
        "  \n",
        "  plt.figure()\n",
        "  plt.xlabel('Epoch')\n",
        "  plt.ylabel('Mean Abs Error')\n",
        "  plt.plot(hist['epoch'], hist['mean_absolute_error'],\n",
        "           label='Train Error')\n",
        "  plt.plot(hist['epoch'], hist['val_mean_absolute_error'],\n",
        "           label = 'Val Error')\n",
        "  plt.legend()\n",
        "  plt.ylim([0,5])\n",
        "  \n",
        "  plt.figure()\n",
        "  plt.xlabel('Epoch')\n",
        "  plt.ylabel('Mean Square Error')\n",
        "  plt.plot(hist['epoch'], hist['mean_squared_error'],\n",
        "           label='Train Error')\n",
        "  plt.plot(hist['epoch'], hist['val_mean_squared_error'],\n",
        "           label = 'Val Error')\n",
        "  plt.legend()\n",
        "  plt.ylim([0,20])\n",
        "\n",
        "plot_history(history)"
      ],
      "execution_count": 94,
      "outputs": [
        {
          "output_type": "display_data",
          "data": {
            "image/png": "[encoded data removed]",
            "text/plain": [
              "<Figure size 576x396 with 1 Axes>"
            ]
          },
          "metadata": {
            "tags": []
          }
        },
        {
          "output_type": "display_data",
          "data": {
            "image/png": "[encoded data removed]",
            "text/plain": [
              "<Figure size 576x396 with 1 Axes>"
            ]
          },
          "metadata": {
            "tags": []
          }
        }
      ]
    },
    {
      "metadata": {
        "colab_type": "text",
        "id": "AqsuANc11FYv"
      },
      "cell_type": "markdown",
      "source": [
        "This graph shows little improvement, or even degradation in the validation error after about 100 epochs. Let's update the `model.fit` call to automatically stop training when the validation score doesn't improve. We'll use an *EarlyStopping callback* that tests a training condition for  every epoch. If a set amount of epochs elapses without showing improvement, then automatically stop the training.\n",
        "\n",
        "You can learn more about this callback [here](https://www.tensorflow.org/versions/master/api_docs/python/tf/keras/callbacks/EarlyStopping)."
      ]
    },
    {
      "metadata": {
        "id": "3P4Kd0BFG_XQ",
        "colab_type": "code",
        "colab": {}
      },
      "cell_type": "code",
      "source": [
        "# keras.callbacks.EarlyStopping?"
      ],
      "execution_count": 0,
      "outputs": []
    },
    {
      "metadata": {
        "colab_type": "code",
        "id": "fdMZuhUgzMZ4",
        "colab": {}
      },
      "cell_type": "code",
      "source": [
        "# model = build_model()\n",
        "\n",
        "# # The patience parameter is the amount of epochs to check for improvement\n",
        "# early_stop = keras.callbacks.EarlyStopping(monitor='val_loss', patience=50)\n",
        "\n",
        "# history = model.fit(normed_train_data, train_labels, epochs=EPOCHS,\n",
        "#                     validation_split = 0.2, verbose=0, callbacks=[early_stop, PrintDot()])\n",
        "\n",
        "# plot_history(history)"
      ],
      "execution_count": 0,
      "outputs": []
    },
    {
      "metadata": {
        "colab_type": "text",
        "id": "3St8-DmrX8P4"
      },
      "cell_type": "markdown",
      "source": [
        "The graph shows that on the validation set, the average error usually around +/- 2 MPG. Is this good? We'll leave that decision up to you.\n",
        "\n",
        "Let's see how well the model generalizes by using the **test** set, which we did not use when training the model.  This tells us how well we can expect the model to predict when we use it in the real world."
      ]
    },
    {
      "metadata": {
        "colab_type": "code",
        "id": "jl_yNr5n1kms",
        "outputId": "b24858ba-9d0a-483d-d4e4-75cec22473f6",
        "colab": {
          "base_uri": "https://localhost:8080/",
          "height": 51
        }
      },
      "cell_type": "code",
      "source": [
        "loss, mae, mse = model.evaluate(normed_test_data, test_labels, verbose=0)\n",
        "\n",
        "print(\"Testing set Mean Abs Error: {:5.2f} \".format(mae))\n",
        "print(\"Testing set Mean Squared Error: {:5.2f} \".format(mse))"
      ],
      "execution_count": 97,
      "outputs": [
        {
          "output_type": "stream",
          "text": [
            "Testing set Mean Abs Error:  0.81 \n",
            "Testing set Mean Squared Error:  2.92 \n"
          ],
          "name": "stdout"
        }
      ]
    },
    {
      "metadata": {
        "colab_type": "text",
        "id": "ft603OzXuEZC"
      },
      "cell_type": "markdown",
      "source": [
        "### Make predictions\n",
        "\n",
        "Finally, predict MPG values using data in the testing set:"
      ]
    },
    {
      "metadata": {
        "id": "qJKwaEggdVFu",
        "colab_type": "code",
        "outputId": "40470631-272b-4b65-d093-1cec5d2d9ce9",
        "colab": {
          "base_uri": "https://localhost:8080/"
        }
      },
      "cell_type": "code",
      "source": [
        "# test_predictions = model.predict(normed_test_data).flatten()\n",
        "test_predictions = model.predict(normed_test_data)\n",
        "test_predictions[-5:]"
      ],
      "execution_count": 98,
      "outputs": [
        {
          "output_type": "execute_result",
          "data": {
            "text/plain": [
              "array([[ 1.0439712 , 31.019756  ,  1.0199004 ],\n",
              "       [ 1.05808   , 44.598763  ,  1.2368113 ],\n",
              "       [ 0.68892086, 50.801086  ,  3.4349916 ],\n",
              "       [ 1.0895084 ,  6.0657406 ,  1.139623  ],\n",
              "       [ 1.1378353 , 23.900026  ,  2.4456787 ]], dtype=float32)"
            ]
          },
          "metadata": {
            "tags": []
          },
          "execution_count": 98
        }
      ]
    },
    {
      "metadata": {
        "colab_type": "code",
        "id": "Xe7RXH3N3CWU",
        "outputId": "ad96b4c1-d5ce-44d5-c0a7-726e147584df",
        "colab": {
          "base_uri": "https://localhost:8080/"
        }
      },
      "cell_type": "code",
      "source": [
        "plt.scatter(test_labels['aod'], test_predictions[:, 0])\n",
        "plt.xlabel('True Values [aod]')\n",
        "plt.ylabel('Predictions [aod]')\n",
        "plt.axis('equal')\n",
        "plt.axis('square')\n",
        "plt.xlim([0,plt.xlim()[1]])\n",
        "plt.ylim([0,plt.ylim()[1]])\n",
        "_ = plt.plot([-100, 100], [-100, 100])\n"
      ],
      "execution_count": 99,
      "outputs": [
        {
          "output_type": "display_data",
          "data": {
            "image/png": "[encoded data removed]",
            "text/plain": [
              "<Figure size 576x396 with 1 Axes>"
            ]
          },
          "metadata": {
            "tags": []
          }
        }
      ]
    },
    {
      "metadata": {
        "id": "xhWyuaTRfC8h",
        "colab_type": "code",
        "outputId": "98908275-3333-484d-9dba-1c50be564d73",
        "colab": {
          "base_uri": "https://localhost:8080/"
        }
      },
      "cell_type": "code",
      "source": [
        "mse_aod = sum((test_labels['aod'] - test_predictions[:, 0])**2) / len(test_labels['aod'])\n",
        "print('mse_aod:', mse_aod)"
      ],
      "execution_count": 100,
      "outputs": [
        {
          "output_type": "stream",
          "text": [
            "mse_aod: 0.009558089635164184\n"
          ],
          "name": "stdout"
        }
      ]
    },
    {
      "metadata": {
        "id": "_a3l785DeVkt",
        "colab_type": "code",
        "outputId": "c4225118-bc26-401d-ba75-eac34eec9b4b",
        "colab": {
          "base_uri": "https://localhost:8080/"
        }
      },
      "cell_type": "code",
      "source": [
        "plt.scatter(test_labels['cloudOD'], test_predictions[:, 1])\n",
        "plt.xlabel('True Values [cloudOD]')\n",
        "plt.ylabel('Predictions [cloudOD]')\n",
        "plt.axis('equal')\n",
        "plt.axis('square')\n",
        "plt.xlim([0,plt.xlim()[1]])\n",
        "plt.ylim([0,plt.ylim()[1]])\n",
        "_ = plt.plot([-100, 100], [-100, 100])\n"
      ],
      "execution_count": 101,
      "outputs": [
        {
          "output_type": "display_data",
          "data": {
            "image/png": "[encoded data removed]",
            "text/plain": [
              "<Figure size 576x396 with 1 Axes>"
            ]
          },
          "metadata": {
            "tags": []
          }
        }
      ]
    },
    {
      "metadata": {
        "id": "H60On4b3fBrR",
        "colab_type": "code",
        "outputId": "6f360b78-28af-4c2b-ab40-1a23b9b86b99",
        "colab": {
          "base_uri": "https://localhost:8080/",
          "height": 34
        }
      },
      "cell_type": "code",
      "source": [
        "mse_cloudOD = sum((test_labels['cloudOD'] - test_predictions[:, 1])**2) / len(test_labels['aod'])\n",
        "print('mse_cloudOD:', mse_cloudOD)"
      ],
      "execution_count": 102,
      "outputs": [
        {
          "output_type": "stream",
          "text": [
            "mse_cloudOD: 8.13779964188862\n"
          ],
          "name": "stdout"
        }
      ]
    },
    {
      "metadata": {
        "id": "bxpB8X5ypO4W",
        "colab_type": "code",
        "outputId": "aed53ee4-fd43-4b2b-b3be-67a0538efde0",
        "colab": {
          "base_uri": "https://localhost:8080/",
          "height": 361
        }
      },
      "cell_type": "code",
      "source": [
        "plt.scatter(test_labels['cloudBaseHeight_km'], test_predictions[:, 2])\n",
        "plt.xlabel('True Values [cloudBaseHeight_km]')\n",
        "plt.ylabel('Predictions [cloudBaseHeight_km]')\n",
        "plt.axis('equal')\n",
        "plt.axis('square')\n",
        "plt.xlim([0,plt.xlim()[1]])\n",
        "plt.ylim([0,plt.ylim()[1]])\n",
        "_ = plt.plot([-100, 100], [-100, 100])"
      ],
      "execution_count": 103,
      "outputs": [
        {
          "output_type": "display_data",
          "data": {
            "image/png": "[encoded data removed]",
            "text/plain": [
              "<Figure size 576x396 with 1 Axes>"
            ]
          },
          "metadata": {
            "tags": []
          }
        }
      ]
    },
    {
      "metadata": {
        "id": "59uuFny9e_Iy",
        "colab_type": "code",
        "outputId": "d14e6970-5a58-4e82-bc4c-ebbd92af9180",
        "colab": {
          "base_uri": "https://localhost:8080/",
          "height": 34
        }
      },
      "cell_type": "code",
      "source": [
        "mse_cloudBaseHeight_km = sum((test_labels['cloudBaseHeight_km'] - test_predictions[:, 2])**2) / len(test_labels['cloudBaseHeight_km'])\n",
        "print('mse_cloudBaseHeight_km:', mse_cloudBaseHeight_km)"
      ],
      "execution_count": 104,
      "outputs": [
        {
          "output_type": "stream",
          "text": [
            "mse_cloudBaseHeight_km: 0.6260871756568249\n"
          ],
          "name": "stdout"
        }
      ]
    },
    {
      "metadata": {
        "colab_type": "text",
        "id": "OrkHGKZcusUo"
      },
      "cell_type": "markdown",
      "source": [
        "It looks like our model predicts reasonably well. Let's take a look at the error distribution."
      ]
    },
    {
      "metadata": {
        "id": "cfq8AQlresSN",
        "colab_type": "code",
        "outputId": "f0d26f9c-c317-4bf9-c2ba-90f8c3fc626b",
        "colab": {
          "base_uri": "https://localhost:8080/"
        }
      },
      "cell_type": "code",
      "source": [
        "test_labels.tail()"
      ],
      "execution_count": 105,
      "outputs": [
        {
          "output_type": "execute_result",
          "data": {
            "text/html": [
              "<div>\n",
              "<style scoped>\n",
              "    .dataframe tbody tr th:only-of-type {\n",
              "        vertical-align: middle;\n",
              "    }\n",
              "\n",
              "    .dataframe tbody tr th {\n",
              "        vertical-align: top;\n",
              "    }\n",
              "\n",
              "    .dataframe thead th {\n",
              "        text-align: right;\n",
              "    }\n",
              "</style>\n",
              "<table border=\"1\" class=\"dataframe\">\n",
              "  <thead>\n",
              "    <tr style=\"text-align: right;\">\n",
              "      <th></th>\n",
              "      <th>aod</th>\n",
              "      <th>cloudOD</th>\n",
              "      <th>cloudBaseHeight_km</th>\n",
              "    </tr>\n",
              "  </thead>\n",
              "  <tbody>\n",
              "    <tr>\n",
              "      <th>2707</th>\n",
              "      <td>1.07</td>\n",
              "      <td>25.6</td>\n",
              "      <td>0.8</td>\n",
              "    </tr>\n",
              "    <tr>\n",
              "      <th>2711</th>\n",
              "      <td>1.07</td>\n",
              "      <td>51.2</td>\n",
              "      <td>0.8</td>\n",
              "    </tr>\n",
              "    <tr>\n",
              "      <th>2713</th>\n",
              "      <td>1.07</td>\n",
              "      <td>51.2</td>\n",
              "      <td>3.2</td>\n",
              "    </tr>\n",
              "    <tr>\n",
              "      <th>2716</th>\n",
              "      <td>1.07</td>\n",
              "      <td>6.4</td>\n",
              "      <td>1.6</td>\n",
              "    </tr>\n",
              "    <tr>\n",
              "      <th>2725</th>\n",
              "      <td>1.07</td>\n",
              "      <td>25.6</td>\n",
              "      <td>3.2</td>\n",
              "    </tr>\n",
              "  </tbody>\n",
              "</table>\n",
              "</div>"
            ],
            "text/plain": [
              "       aod  cloudOD  cloudBaseHeight_km\n",
              "2707  1.07     25.6                 0.8\n",
              "2711  1.07     51.2                 0.8\n",
              "2713  1.07     51.2                 3.2\n",
              "2716  1.07      6.4                 1.6\n",
              "2725  1.07     25.6                 3.2"
            ]
          },
          "metadata": {
            "tags": []
          },
          "execution_count": 105
        }
      ]
    },
    {
      "metadata": {
        "id": "au03hBNCpsDd",
        "colab_type": "code",
        "outputId": "ed83a624-9345-4271-d378-9c4041fb21bf",
        "colab": {
          "base_uri": "https://localhost:8080/",
          "height": 361
        }
      },
      "cell_type": "code",
      "source": [
        "error_aod = test_predictions[:, 0] - test_labels['aod']\n",
        "plt.hist(error_aod, bins = 25)\n",
        "plt.xlabel(\"Prediction Error [aod]\")\n",
        "_ = plt.ylabel(\"Count\")"
      ],
      "execution_count": 106,
      "outputs": [
        {
          "output_type": "display_data",
          "data": {
            "image/png": "[encoded data removed]",
            "text/plain": [
              "<Figure size 576x396 with 1 Axes>"
            ]
          },
          "metadata": {
            "tags": []
          }
        }
      ]
    },
    {
      "metadata": {
        "colab_type": "code",
        "id": "f-OHX4DiXd8x",
        "outputId": "ec86d4ad-899c-4002-f177-94c10254b1ea",
        "colab": {
          "base_uri": "https://localhost:8080/",
          "height": 361
        }
      },
      "cell_type": "code",
      "source": [
        "error_cloudOD = test_predictions[:, 1] - test_labels['cloudOD']\n",
        "plt.hist(error_cloudOD, bins = 25)\n",
        "plt.xlabel(\"Prediction Error [cloudOD]\")\n",
        "_ = plt.ylabel(\"Count\")"
      ],
      "execution_count": 107,
      "outputs": [
        {
          "output_type": "display_data",
          "data": {
            "image/png": "[encoded data removed]",
            "text/plain": [
              "<Figure size 576x396 with 1 Axes>"
            ]
          },
          "metadata": {
            "tags": []
          }
        }
      ]
    },
    {
      "metadata": {
        "id": "UCf5PGfDfMIF",
        "colab_type": "code",
        "outputId": "a9fb4a6f-edae-4587-87f2-1f55484b0183",
        "colab": {
          "base_uri": "https://localhost:8080/",
          "height": 361
        }
      },
      "cell_type": "code",
      "source": [
        "error_cloudOD = test_predictions[:, 2] - test_labels['cloudBaseHeight_km']\n",
        "plt.hist(error_cloudOD, bins = 25)\n",
        "plt.xlabel(\"Prediction Error [cloudBaseHeight_km]\")\n",
        "_ = plt.ylabel(\"Count\")"
      ],
      "execution_count": 108,
      "outputs": [
        {
          "output_type": "display_data",
          "data": {
            "image/png": "[encoded data removed]",
            "text/plain": [
              "<Figure size 576x396 with 1 Axes>"
            ]
          },
          "metadata": {
            "tags": []
          }
        }
      ]
    },
    {
      "metadata": {
        "colab_type": "text",
        "id": "r9_kI6MHu1UU"
      },
      "cell_type": "markdown",
      "source": [
        "It's not quite gaussian, but we might expect that because the number of samples is very small."
      ]
    },
    {
      "metadata": {
        "colab_type": "text",
        "id": "vgGQuV-yqYZH"
      },
      "cell_type": "markdown",
      "source": [
        "## Conclusion\n",
        "\n",
        "This notebook introduced a few techniques to handle a regression problem.\n",
        "\n",
        "* Mean Squared Error (MSE) is a common loss function used for regression problems (different loss functions are used for classification problems).\n",
        "* Similarly, evaluation metrics used for regression differ from classification. A common regression metric is Mean Absolute Error (MAE).\n",
        "* When numeric input data features have values with different ranges, each feature should be scaled independently to the same range.\n",
        "* If there is not much training data, one technique is to prefer a small network with few hidden layers to avoid overfitting.\n",
        "* Early stopping is a useful technique to prevent overfitting."
      ]
    }
  ]
}