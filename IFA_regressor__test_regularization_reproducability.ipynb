{
  "nbformat": 4,
  "nbformat_minor": 0,
  "metadata": {
    "colab": {
      "name": "IFA-regressor__test-regularization_reproducability.ipynb",
      "version": "0.3.2",
      "provenance": [],
      "collapsed_sections": [],
      "include_colab_link": true
    },
    "kernelspec": {
      "name": "python3",
      "display_name": "Python 3"
    }
  },
  "cells": [
    {
      "cell_type": "markdown",
      "metadata": {
        "id": "view-in-github",
        "colab_type": "text"
      },
      "source": [
        "<a href=\"https://colab.research.google.com/github/haalogen/IFA-cloud-nnregressor/blob/master/IFA_regressor__test_regularization_reproducability.ipynb\" target=\"_parent\"><img src=\"https://colab.research.google.com/assets/colab-badge.svg\" alt=\"Open In Colab\"/></a>"
      ]
    },
    {
      "metadata": {
        "colab_type": "code",
        "id": "moB4tpEHxKB3",
        "outputId": "a036b9ae-cf13-4fc2-a5cc-5bc46106baac",
        "colab": {
          "base_uri": "https://localhost:8080/",
          "height": 34
        }
      },
      "cell_type": "code",
      "source": [
        "# Use seaborn for pairplot\n",
        "!pip install seaborn"
      ],
      "execution_count": 1,
      "outputs": [
        {
          "output_type": "stream",
          "text": [
            "Requirement already satisfied: seaborn in /usr/local/lib/python3.6/dist-packages (0.7.1)\n"
          ],
          "name": "stdout"
        }
      ]
    },
    {
      "metadata": {
        "colab_type": "code",
        "id": "1rRo8oNqZ-Rj",
        "outputId": "c1cf7428-d772-4ad1-b848-195d8f8fc74e",
        "colab": {
          "base_uri": "https://localhost:8080/",
          "height": 34
        }
      },
      "cell_type": "code",
      "source": [
        "from __future__ import absolute_import, division, print_function\n",
        "\n",
        "import pathlib\n",
        "\n",
        "import pandas as pd\n",
        "import seaborn as sns\n",
        "\n",
        "import tensorflow as tf\n",
        "from tensorflow import keras\n",
        "from tensorflow.keras import layers\n",
        "\n",
        "pd.set_option('display.max_columns', 500)\n",
        "tf.random.set_random_seed(12345678)\n",
        "print(tf.__version__)"
      ],
      "execution_count": 2,
      "outputs": [
        {
          "output_type": "stream",
          "text": [
            "1.13.1\n"
          ],
          "name": "stdout"
        }
      ]
    },
    {
      "metadata": {
        "colab_type": "code",
        "id": "p9kxxgzvzlyz",
        "colab": {}
      },
      "cell_type": "code",
      "source": [
        "# Скачиваем данные\n",
        "data_url_v180221 = 'https://gist.githubusercontent.com/haalogen/0ec5e1b7ae515391484d7883ecb9313c/raw/2fafa96369d496214f2b231966bcd2f82f691658/180221_lutData.tsv'\n",
        "data_url_v190212 = 'https://gist.githubusercontent.com/haalogen/c53f1a2ea432bbe251dbe50c73437d00/raw/32976b13283b5b2f9b68e96c3c766781b5f8b355/190212_lutData.tsv'\n",
        "raw_dataset = pd.read_csv(data_url_v190212, sep='\\t')"
      ],
      "execution_count": 0,
      "outputs": []
    },
    {
      "metadata": {
        "colab_type": "code",
        "id": "CiX2FI4gZtTt",
        "outputId": "82547e95-a43a-4e86-8c0a-6f9566bbe065",
        "colab": {
          "base_uri": "https://localhost:8080/",
          "height": 448
        }
      },
      "cell_type": "code",
      "source": [
        "column_names = raw_dataset.columns\n",
        "print(column_names)\n",
        "\n",
        "dataset = raw_dataset.copy()\n",
        "\n",
        "# Выкинем ненужные данные\n",
        "dropped_columns = [\n",
        "  'cloudThick_km', \n",
        "  'relativeCloudConc', \n",
        "  'intensityError_340nm',\n",
        "  'intensityError_350nm',\n",
        "  'intensityError_369nm',\n",
        "  'intensityError_379nm',\n",
        "  'intensityError_425nm',\n",
        "  'intensityError_435nm',\n",
        "  'intensityError_475nm',\n",
        "  'intensityError_485nm'\n",
        "]\n",
        "dataset = dataset.drop(columns=dropped_columns)\n",
        "dataset.tail()"
      ],
      "execution_count": 4,
      "outputs": [
        {
          "output_type": "stream",
          "text": [
            "Index(['albedo', 'sza_deg', 'intensity_345nm', 'intensity_374nm',\n",
            "       'intensity_430nm', 'intensity_480nm', 'intensityError_340nm',\n",
            "       'intensityError_350nm', 'intensityError_369nm', 'intensityError_379nm',\n",
            "       'intensityError_425nm', 'intensityError_435nm', 'intensityError_475nm',\n",
            "       'intensityError_485nm', 'O4SCD_340nm', 'O4SCD_350nm', 'O4SCD_369nm',\n",
            "       'O4SCD_379nm', 'O4SCD_425nm', 'O4SCD_435nm', 'O4SCD_475nm',\n",
            "       'O4SCD_485nm', 'ci_uv', 'ci_vis', 'pc_uv', 'pc_vis', 'aod', 'cloudOD',\n",
            "       'cloudBaseHeight_km', 'cloudThick_km', 'relativeCloudConc',\n",
            "       'FSummer_340', 'FWinter_340', 'FSummer_350', 'FWinter_350',\n",
            "       'FSummer_369', 'FWinter_369', 'FSummer_379', 'FWinter_379',\n",
            "       'FSummer_425', 'FWinter_425', 'FSummer_435', 'FWinter_435',\n",
            "       'FSummer_475', 'FWinter_475', 'FSummer_485', 'FWinter_485'],\n",
            "      dtype='object')\n"
          ],
          "name": "stdout"
        },
        {
          "output_type": "execute_result",
          "data": {
            "text/html": [
              "<div>\n",
              "<style scoped>\n",
              "    .dataframe tbody tr th:only-of-type {\n",
              "        vertical-align: middle;\n",
              "    }\n",
              "\n",
              "    .dataframe tbody tr th {\n",
              "        vertical-align: top;\n",
              "    }\n",
              "\n",
              "    .dataframe thead th {\n",
              "        text-align: right;\n",
              "    }\n",
              "</style>\n",
              "<table border=\"1\" class=\"dataframe\">\n",
              "  <thead>\n",
              "    <tr style=\"text-align: right;\">\n",
              "      <th></th>\n",
              "      <th>albedo</th>\n",
              "      <th>sza_deg</th>\n",
              "      <th>intensity_345nm</th>\n",
              "      <th>intensity_374nm</th>\n",
              "      <th>intensity_430nm</th>\n",
              "      <th>intensity_480nm</th>\n",
              "      <th>O4SCD_340nm</th>\n",
              "      <th>O4SCD_350nm</th>\n",
              "      <th>O4SCD_369nm</th>\n",
              "      <th>O4SCD_379nm</th>\n",
              "      <th>O4SCD_425nm</th>\n",
              "      <th>O4SCD_435nm</th>\n",
              "      <th>O4SCD_475nm</th>\n",
              "      <th>O4SCD_485nm</th>\n",
              "      <th>ci_uv</th>\n",
              "      <th>ci_vis</th>\n",
              "      <th>pc_uv</th>\n",
              "      <th>pc_vis</th>\n",
              "      <th>aod</th>\n",
              "      <th>cloudOD</th>\n",
              "      <th>cloudBaseHeight_km</th>\n",
              "      <th>FSummer_340</th>\n",
              "      <th>FWinter_340</th>\n",
              "      <th>FSummer_350</th>\n",
              "      <th>FWinter_350</th>\n",
              "      <th>FSummer_369</th>\n",
              "      <th>FWinter_369</th>\n",
              "      <th>FSummer_379</th>\n",
              "      <th>FWinter_379</th>\n",
              "      <th>FSummer_425</th>\n",
              "      <th>FWinter_425</th>\n",
              "      <th>FSummer_435</th>\n",
              "      <th>FWinter_435</th>\n",
              "      <th>FSummer_475</th>\n",
              "      <th>FWinter_475</th>\n",
              "      <th>FSummer_485</th>\n",
              "      <th>FWinter_485</th>\n",
              "    </tr>\n",
              "  </thead>\n",
              "  <tbody>\n",
              "    <tr>\n",
              "      <th>2725</th>\n",
              "      <td>0.34</td>\n",
              "      <td>84</td>\n",
              "      <td>0.076304</td>\n",
              "      <td>0.105087</td>\n",
              "      <td>0.170608</td>\n",
              "      <td>0.231962</td>\n",
              "      <td>2.960000e+24</td>\n",
              "      <td>3.030000e+24</td>\n",
              "      <td>3.130000e+24</td>\n",
              "      <td>3.180000e+24</td>\n",
              "      <td>3.500000e+24</td>\n",
              "      <td>3.560000e+24</td>\n",
              "      <td>3.910000e+24</td>\n",
              "      <td>3.940000e+24</td>\n",
              "      <td>1.377205</td>\n",
              "      <td>1.359621</td>\n",
              "      <td>0.000992</td>\n",
              "      <td>0.001227</td>\n",
              "      <td>1.07</td>\n",
              "      <td>25.6</td>\n",
              "      <td>3.2</td>\n",
              "      <td>0.150491</td>\n",
              "      <td>0.150491</td>\n",
              "      <td>0.151428</td>\n",
              "      <td>0.151428</td>\n",
              "      <td>0.150126</td>\n",
              "      <td>0.150126</td>\n",
              "      <td>0.150930</td>\n",
              "      <td>0.150930</td>\n",
              "      <td>0.142893</td>\n",
              "      <td>0.142893</td>\n",
              "      <td>0.142300</td>\n",
              "      <td>0.142300</td>\n",
              "      <td>0.133084</td>\n",
              "      <td>0.133084</td>\n",
              "      <td>0.133534</td>\n",
              "      <td>0.133534</td>\n",
              "    </tr>\n",
              "    <tr>\n",
              "      <th>2726</th>\n",
              "      <td>0.34</td>\n",
              "      <td>84</td>\n",
              "      <td>0.011126</td>\n",
              "      <td>0.018397</td>\n",
              "      <td>0.035423</td>\n",
              "      <td>0.046985</td>\n",
              "      <td>3.770000e+24</td>\n",
              "      <td>4.000000e+24</td>\n",
              "      <td>4.080000e+24</td>\n",
              "      <td>4.130000e+24</td>\n",
              "      <td>4.060000e+24</td>\n",
              "      <td>4.180000e+24</td>\n",
              "      <td>4.470000e+24</td>\n",
              "      <td>4.490000e+24</td>\n",
              "      <td>1.653473</td>\n",
              "      <td>1.326414</td>\n",
              "      <td>0.000251</td>\n",
              "      <td>0.000231</td>\n",
              "      <td>1.07</td>\n",
              "      <td>51.2</td>\n",
              "      <td>0.4</td>\n",
              "      <td>0.107817</td>\n",
              "      <td>0.107817</td>\n",
              "      <td>0.110748</td>\n",
              "      <td>0.110748</td>\n",
              "      <td>0.113075</td>\n",
              "      <td>0.113075</td>\n",
              "      <td>0.116472</td>\n",
              "      <td>0.116472</td>\n",
              "      <td>0.115144</td>\n",
              "      <td>0.115144</td>\n",
              "      <td>0.112117</td>\n",
              "      <td>0.112117</td>\n",
              "      <td>0.106114</td>\n",
              "      <td>0.106114</td>\n",
              "      <td>0.104316</td>\n",
              "      <td>0.104316</td>\n",
              "    </tr>\n",
              "    <tr>\n",
              "      <th>2727</th>\n",
              "      <td>0.34</td>\n",
              "      <td>84</td>\n",
              "      <td>0.015148</td>\n",
              "      <td>0.023393</td>\n",
              "      <td>0.034444</td>\n",
              "      <td>0.042046</td>\n",
              "      <td>3.560000e+24</td>\n",
              "      <td>3.650000e+24</td>\n",
              "      <td>3.680000e+24</td>\n",
              "      <td>3.730000e+24</td>\n",
              "      <td>4.200000e+24</td>\n",
              "      <td>4.270000e+24</td>\n",
              "      <td>4.570000e+24</td>\n",
              "      <td>4.620000e+24</td>\n",
              "      <td>1.544299</td>\n",
              "      <td>1.220702</td>\n",
              "      <td>0.000284</td>\n",
              "      <td>0.000152</td>\n",
              "      <td>1.07</td>\n",
              "      <td>51.2</td>\n",
              "      <td>0.8</td>\n",
              "      <td>0.132382</td>\n",
              "      <td>0.132382</td>\n",
              "      <td>0.135068</td>\n",
              "      <td>0.135068</td>\n",
              "      <td>0.131413</td>\n",
              "      <td>0.131413</td>\n",
              "      <td>0.133111</td>\n",
              "      <td>0.133111</td>\n",
              "      <td>0.120569</td>\n",
              "      <td>0.120569</td>\n",
              "      <td>0.118135</td>\n",
              "      <td>0.118135</td>\n",
              "      <td>0.112108</td>\n",
              "      <td>0.112108</td>\n",
              "      <td>0.112628</td>\n",
              "      <td>0.112628</td>\n",
              "    </tr>\n",
              "    <tr>\n",
              "      <th>2728</th>\n",
              "      <td>0.34</td>\n",
              "      <td>84</td>\n",
              "      <td>0.020639</td>\n",
              "      <td>0.025644</td>\n",
              "      <td>0.034916</td>\n",
              "      <td>0.041120</td>\n",
              "      <td>3.480000e+24</td>\n",
              "      <td>3.530000e+24</td>\n",
              "      <td>3.550000e+24</td>\n",
              "      <td>3.590000e+24</td>\n",
              "      <td>4.080000e+24</td>\n",
              "      <td>4.120000e+24</td>\n",
              "      <td>4.370000e+24</td>\n",
              "      <td>4.400000e+24</td>\n",
              "      <td>1.242480</td>\n",
              "      <td>1.177680</td>\n",
              "      <td>0.000173</td>\n",
              "      <td>0.000124</td>\n",
              "      <td>1.07</td>\n",
              "      <td>51.2</td>\n",
              "      <td>1.6</td>\n",
              "      <td>0.152002</td>\n",
              "      <td>0.152002</td>\n",
              "      <td>0.151934</td>\n",
              "      <td>0.151934</td>\n",
              "      <td>0.149699</td>\n",
              "      <td>0.149699</td>\n",
              "      <td>0.147884</td>\n",
              "      <td>0.147884</td>\n",
              "      <td>0.123310</td>\n",
              "      <td>0.123310</td>\n",
              "      <td>0.124783</td>\n",
              "      <td>0.124783</td>\n",
              "      <td>0.124182</td>\n",
              "      <td>0.124182</td>\n",
              "      <td>0.122586</td>\n",
              "      <td>0.122586</td>\n",
              "    </tr>\n",
              "    <tr>\n",
              "      <th>2729</th>\n",
              "      <td>0.34</td>\n",
              "      <td>84</td>\n",
              "      <td>0.023082</td>\n",
              "      <td>0.033262</td>\n",
              "      <td>0.051372</td>\n",
              "      <td>0.066525</td>\n",
              "      <td>3.240000e+24</td>\n",
              "      <td>3.280000e+24</td>\n",
              "      <td>3.290000e+24</td>\n",
              "      <td>3.290000e+24</td>\n",
              "      <td>3.540000e+24</td>\n",
              "      <td>3.590000e+24</td>\n",
              "      <td>3.790000e+24</td>\n",
              "      <td>3.860000e+24</td>\n",
              "      <td>1.441040</td>\n",
              "      <td>1.294958</td>\n",
              "      <td>0.000351</td>\n",
              "      <td>0.000303</td>\n",
              "      <td>1.07</td>\n",
              "      <td>51.2</td>\n",
              "      <td>3.2</td>\n",
              "      <td>0.157644</td>\n",
              "      <td>0.157644</td>\n",
              "      <td>0.158217</td>\n",
              "      <td>0.158217</td>\n",
              "      <td>0.157332</td>\n",
              "      <td>0.157332</td>\n",
              "      <td>0.156157</td>\n",
              "      <td>0.156157</td>\n",
              "      <td>0.148914</td>\n",
              "      <td>0.148914</td>\n",
              "      <td>0.148285</td>\n",
              "      <td>0.148285</td>\n",
              "      <td>0.144840</td>\n",
              "      <td>0.144840</td>\n",
              "      <td>0.143726</td>\n",
              "      <td>0.143726</td>\n",
              "    </tr>\n",
              "  </tbody>\n",
              "</table>\n",
              "</div>"
            ],
            "text/plain": [
              "      albedo  sza_deg  intensity_345nm  intensity_374nm  intensity_430nm  \\\n",
              "2725    0.34       84         0.076304         0.105087         0.170608   \n",
              "2726    0.34       84         0.011126         0.018397         0.035423   \n",
              "2727    0.34       84         0.015148         0.023393         0.034444   \n",
              "2728    0.34       84         0.020639         0.025644         0.034916   \n",
              "2729    0.34       84         0.023082         0.033262         0.051372   \n",
              "\n",
              "      intensity_480nm   O4SCD_340nm   O4SCD_350nm   O4SCD_369nm   O4SCD_379nm  \\\n",
              "2725         0.231962  2.960000e+24  3.030000e+24  3.130000e+24  3.180000e+24   \n",
              "2726         0.046985  3.770000e+24  4.000000e+24  4.080000e+24  4.130000e+24   \n",
              "2727         0.042046  3.560000e+24  3.650000e+24  3.680000e+24  3.730000e+24   \n",
              "2728         0.041120  3.480000e+24  3.530000e+24  3.550000e+24  3.590000e+24   \n",
              "2729         0.066525  3.240000e+24  3.280000e+24  3.290000e+24  3.290000e+24   \n",
              "\n",
              "       O4SCD_425nm   O4SCD_435nm   O4SCD_475nm   O4SCD_485nm     ci_uv  \\\n",
              "2725  3.500000e+24  3.560000e+24  3.910000e+24  3.940000e+24  1.377205   \n",
              "2726  4.060000e+24  4.180000e+24  4.470000e+24  4.490000e+24  1.653473   \n",
              "2727  4.200000e+24  4.270000e+24  4.570000e+24  4.620000e+24  1.544299   \n",
              "2728  4.080000e+24  4.120000e+24  4.370000e+24  4.400000e+24  1.242480   \n",
              "2729  3.540000e+24  3.590000e+24  3.790000e+24  3.860000e+24  1.441040   \n",
              "\n",
              "        ci_vis     pc_uv    pc_vis   aod  cloudOD  cloudBaseHeight_km  \\\n",
              "2725  1.359621  0.000992  0.001227  1.07     25.6                 3.2   \n",
              "2726  1.326414  0.000251  0.000231  1.07     51.2                 0.4   \n",
              "2727  1.220702  0.000284  0.000152  1.07     51.2                 0.8   \n",
              "2728  1.177680  0.000173  0.000124  1.07     51.2                 1.6   \n",
              "2729  1.294958  0.000351  0.000303  1.07     51.2                 3.2   \n",
              "\n",
              "      FSummer_340  FWinter_340  FSummer_350  FWinter_350  FSummer_369  \\\n",
              "2725     0.150491     0.150491     0.151428     0.151428     0.150126   \n",
              "2726     0.107817     0.107817     0.110748     0.110748     0.113075   \n",
              "2727     0.132382     0.132382     0.135068     0.135068     0.131413   \n",
              "2728     0.152002     0.152002     0.151934     0.151934     0.149699   \n",
              "2729     0.157644     0.157644     0.158217     0.158217     0.157332   \n",
              "\n",
              "      FWinter_369  FSummer_379  FWinter_379  FSummer_425  FWinter_425  \\\n",
              "2725     0.150126     0.150930     0.150930     0.142893     0.142893   \n",
              "2726     0.113075     0.116472     0.116472     0.115144     0.115144   \n",
              "2727     0.131413     0.133111     0.133111     0.120569     0.120569   \n",
              "2728     0.149699     0.147884     0.147884     0.123310     0.123310   \n",
              "2729     0.157332     0.156157     0.156157     0.148914     0.148914   \n",
              "\n",
              "      FSummer_435  FWinter_435  FSummer_475  FWinter_475  FSummer_485  \\\n",
              "2725     0.142300     0.142300     0.133084     0.133084     0.133534   \n",
              "2726     0.112117     0.112117     0.106114     0.106114     0.104316   \n",
              "2727     0.118135     0.118135     0.112108     0.112108     0.112628   \n",
              "2728     0.124783     0.124783     0.124182     0.124182     0.122586   \n",
              "2729     0.148285     0.148285     0.144840     0.144840     0.143726   \n",
              "\n",
              "      FWinter_485  \n",
              "2725     0.133534  \n",
              "2726     0.104316  \n",
              "2727     0.112628  \n",
              "2728     0.122586  \n",
              "2729     0.143726  "
            ]
          },
          "metadata": {
            "tags": []
          },
          "execution_count": 4
        }
      ]
    },
    {
      "metadata": {
        "colab_type": "text",
        "id": "3MWuJTKEDM-f"
      },
      "cell_type": "markdown",
      "source": [
        "### Clean the data\n",
        "\n",
        "The dataset contains a few unknown values. "
      ]
    },
    {
      "metadata": {
        "colab_type": "code",
        "id": "4ZUDosChC1UN",
        "colab": {}
      },
      "cell_type": "code",
      "source": [
        "dataset = dataset.dropna()"
      ],
      "execution_count": 0,
      "outputs": []
    },
    {
      "metadata": {
        "id": "EwUNkWrbTGYv",
        "colab_type": "code",
        "colab": {}
      },
      "cell_type": "code",
      "source": [
        "train_dataset = dataset.sample(frac=0.8,random_state=0)\n",
        "test_dataset = dataset.drop(train_dataset.index)"
      ],
      "execution_count": 0,
      "outputs": []
    },
    {
      "metadata": {
        "id": "woAkv4HJrZbu",
        "colab_type": "code",
        "colab": {}
      },
      "cell_type": "code",
      "source": [
        "train_stats = train_dataset.describe()\n",
        "train_stats.pop(\"aod\")\n",
        "train_stats.pop(\"cloudOD\")\n",
        "train_stats.pop(\"cloudBaseHeight_km\")\n",
        "train_stats = train_stats.transpose()\n",
        "# train_stats"
      ],
      "execution_count": 0,
      "outputs": []
    },
    {
      "metadata": {
        "colab_type": "text",
        "id": "Db7Auq1yXUvh"
      },
      "cell_type": "markdown",
      "source": [
        "### Split features from labels\n",
        "\n",
        "Separate the target value, or \"label\", from the features. This label is the value that you will train the model to predict."
      ]
    },
    {
      "metadata": {
        "colab_type": "code",
        "id": "t2sluJdCW7jN",
        "colab": {}
      },
      "cell_type": "code",
      "source": [
        "estimated_columns = ['aod', 'cloudOD', \"cloudBaseHeight_km\"]\n",
        "train_labels = train_dataset.loc[:, estimated_columns]\n",
        "test_labels = test_dataset.loc[:, estimated_columns]\n",
        "# Выкинем оцениваемые колонки из наборов данных\n",
        "train_dataset = train_dataset.drop(columns=estimated_columns)\n",
        "test_dataset = test_dataset.drop(columns=estimated_columns)"
      ],
      "execution_count": 0,
      "outputs": []
    },
    {
      "metadata": {
        "id": "Er9dSQC0rH1-",
        "colab_type": "code",
        "colab": {}
      },
      "cell_type": "code",
      "source": [
        ""
      ],
      "execution_count": 0,
      "outputs": []
    },
    {
      "metadata": {
        "colab_type": "text",
        "id": "mRklxK5s388r"
      },
      "cell_type": "markdown",
      "source": [
        "### Normalize the data\n",
        "\n",
        "Look again at the `train_stats` block above and note how different the ranges of each feature are."
      ]
    },
    {
      "metadata": {
        "colab_type": "code",
        "id": "JlC5ooJrgjQF",
        "colab": {}
      },
      "cell_type": "code",
      "source": [
        "def norm(x):\n",
        "  return (x - train_stats['mean']) / train_stats['std']\n",
        "normed_train_data = norm(train_dataset)\n",
        "normed_test_data = norm(test_dataset)"
      ],
      "execution_count": 0,
      "outputs": []
    },
    {
      "metadata": {
        "colab_type": "text",
        "id": "BuiClDk45eS4"
      },
      "cell_type": "markdown",
      "source": [
        "This normalized data is what we will use to train the model.\n",
        "\n",
        "Caution: The statistics used to normalize the inputs here (mean and standard deviation) need to be applied to any other data that is fed to the model, along with the one-hot encoding that we did earlier.  That includes the test set as well as live data when the model is used in production."
      ]
    },
    {
      "metadata": {
        "id": "qGRpUZwcvbcl",
        "colab_type": "code",
        "colab": {}
      },
      "cell_type": "code",
      "source": [
        "# layers.Dense?"
      ],
      "execution_count": 0,
      "outputs": []
    },
    {
      "metadata": {
        "colab_type": "text",
        "id": "SmjdzxKzEu1-"
      },
      "cell_type": "markdown",
      "source": [
        "## The model"
      ]
    },
    {
      "metadata": {
        "colab_type": "text",
        "id": "6SWtkIjhrZwa"
      },
      "cell_type": "markdown",
      "source": [
        "### Build the model\n",
        "\n",
        "Let's build our model. Here, we'll use a `Sequential` model with two densely connected hidden layers, and an output layer that returns a single, continuous value. The model building steps are wrapped in a function, `build_model`, since we'll create a second model, later on."
      ]
    },
    {
      "metadata": {
        "colab_type": "code",
        "id": "UMTZ_EnPWWR3",
        "colab": {}
      },
      "cell_type": "code",
      "source": [
        "def build_model():\n",
        "  model = keras.Sequential([\n",
        "  layers.Dense(64, activation=tf.nn.relu, \n",
        "                 kernel_regularizer=keras.regularizers.l1_l2(l1=1e-2, l2=1e-3), \n",
        "                 kernel_initializer=keras.initializers.glorot_uniform(seed=12345678),\n",
        "                 input_shape=[len(train_dataset.keys())]),\n",
        "    layers.Dense(3)\n",
        "  ])\n",
        "\n",
        "#   optimizer = tf.train.RMSPropOptimizer(0.001)\n",
        "  optimizer = tf.train.AdamOptimizer()\n",
        "\n",
        "  model.compile(loss='mse',\n",
        "                optimizer=optimizer,\n",
        "                metrics=['mae', 'mse'])\n",
        "  return model"
      ],
      "execution_count": 0,
      "outputs": []
    },
    {
      "metadata": {
        "colab_type": "code",
        "id": "cGbPb-PHGbhs",
        "outputId": "b1b1ce5c-4d3a-4caa-9cff-870cb6064719",
        "colab": {
          "base_uri": "https://localhost:8080/",
          "height": 143
        }
      },
      "cell_type": "code",
      "source": [
        "model = build_model()"
      ],
      "execution_count": 12,
      "outputs": [
        {
          "output_type": "stream",
          "text": [
            "WARNING:tensorflow:From /usr/local/lib/python3.6/dist-packages/tensorflow/python/ops/resource_variable_ops.py:435: colocate_with (from tensorflow.python.framework.ops) is deprecated and will be removed in a future version.\n",
            "Instructions for updating:\n",
            "Colocations handled automatically by placer.\n",
            "WARNING:tensorflow:From /usr/local/lib/python3.6/dist-packages/tensorflow/python/keras/utils/losses_utils.py:170: to_float (from tensorflow.python.ops.math_ops) is deprecated and will be removed in a future version.\n",
            "Instructions for updating:\n",
            "Use tf.cast instead.\n"
          ],
          "name": "stdout"
        }
      ]
    },
    {
      "metadata": {
        "colab_type": "text",
        "id": "Sj49Og4YGULr"
      },
      "cell_type": "markdown",
      "source": [
        "### Inspect the model\n",
        "\n",
        "Use the `.summary` method to print a simple description of the model"
      ]
    },
    {
      "metadata": {
        "colab_type": "code",
        "id": "ReAD0n6MsFK-",
        "outputId": "2e7aec27-0f71-4e3b-87ef-39322285329f",
        "colab": {
          "base_uri": "https://localhost:8080/",
          "height": 212
        }
      },
      "cell_type": "code",
      "source": [
        "model.summary()"
      ],
      "execution_count": 13,
      "outputs": [
        {
          "output_type": "stream",
          "text": [
            "_________________________________________________________________\n",
            "Layer (type)                 Output Shape              Param #   \n",
            "=================================================================\n",
            "dense (Dense)                (None, 64)                2240      \n",
            "_________________________________________________________________\n",
            "dense_1 (Dense)              (None, 3)                 195       \n",
            "=================================================================\n",
            "Total params: 2,435\n",
            "Trainable params: 2,435\n",
            "Non-trainable params: 0\n",
            "_________________________________________________________________\n"
          ],
          "name": "stdout"
        }
      ]
    },
    {
      "metadata": {
        "colab_type": "text",
        "id": "0-qWCsh6DlyH"
      },
      "cell_type": "markdown",
      "source": [
        "### Train the model\n",
        "\n",
        "Train the model for 1000 epochs, and record the training and validation accuracy in the `history` object."
      ]
    },
    {
      "metadata": {
        "colab_type": "code",
        "id": "sD7qHCmNIOY0",
        "outputId": "e26b5792-c8b4-4454-8d37-d4d4ad8294fd",
        "colab": {
          "base_uri": "https://localhost:8080/",
          "height": 285
        }
      },
      "cell_type": "code",
      "source": [
        "# Display training progress by printing a single dot for each completed epoch\n",
        "class PrintDot(keras.callbacks.Callback):\n",
        "  def on_epoch_end(self, epoch, logs):\n",
        "    if epoch % 100 == 0: print('')\n",
        "    print('.', end='')\n",
        "\n",
        "EPOCHS = 1000\n",
        "\n",
        "history = model.fit(\n",
        "  normed_train_data, train_labels,\n",
        "  epochs=EPOCHS, validation_split = 0.2, verbose=0,\n",
        "  callbacks=[PrintDot()], shuffle=False)"
      ],
      "execution_count": 14,
      "outputs": [
        {
          "output_type": "stream",
          "text": [
            "WARNING:tensorflow:From /usr/local/lib/python3.6/dist-packages/tensorflow/python/ops/math_ops.py:3066: to_int32 (from tensorflow.python.ops.math_ops) is deprecated and will be removed in a future version.\n",
            "Instructions for updating:\n",
            "Use tf.cast instead.\n",
            "\n",
            "....................................................................................................\n",
            "....................................................................................................\n",
            "....................................................................................................\n",
            "....................................................................................................\n",
            "....................................................................................................\n",
            "....................................................................................................\n",
            "....................................................................................................\n",
            "....................................................................................................\n",
            "....................................................................................................\n",
            "...................................................................................................."
          ],
          "name": "stdout"
        }
      ]
    },
    {
      "metadata": {
        "colab_type": "text",
        "id": "tQm3pc0FYPQB"
      },
      "cell_type": "markdown",
      "source": [
        "Visualize the model's training progress using the stats stored in the `history` object."
      ]
    },
    {
      "metadata": {
        "colab_type": "code",
        "id": "4Xj91b-dymEy",
        "outputId": "80b1345c-86fd-4e08-9a5d-d3b38f3890a0",
        "colab": {
          "base_uri": "https://localhost:8080/",
          "height": 197
        }
      },
      "cell_type": "code",
      "source": [
        "hist = pd.DataFrame(history.history)\n",
        "hist['epoch'] = history.epoch\n",
        "hist.tail()"
      ],
      "execution_count": 15,
      "outputs": [
        {
          "output_type": "execute_result",
          "data": {
            "text/html": [
              "<div>\n",
              "<style scoped>\n",
              "    .dataframe tbody tr th:only-of-type {\n",
              "        vertical-align: middle;\n",
              "    }\n",
              "\n",
              "    .dataframe tbody tr th {\n",
              "        vertical-align: top;\n",
              "    }\n",
              "\n",
              "    .dataframe thead th {\n",
              "        text-align: right;\n",
              "    }\n",
              "</style>\n",
              "<table border=\"1\" class=\"dataframe\">\n",
              "  <thead>\n",
              "    <tr style=\"text-align: right;\">\n",
              "      <th></th>\n",
              "      <th>loss</th>\n",
              "      <th>mean_absolute_error</th>\n",
              "      <th>mean_squared_error</th>\n",
              "      <th>val_loss</th>\n",
              "      <th>val_mean_absolute_error</th>\n",
              "      <th>val_mean_squared_error</th>\n",
              "      <th>epoch</th>\n",
              "    </tr>\n",
              "  </thead>\n",
              "  <tbody>\n",
              "    <tr>\n",
              "      <th>995</th>\n",
              "      <td>1.971103</td>\n",
              "      <td>0.632930</td>\n",
              "      <td>1.538437</td>\n",
              "      <td>4.026803</td>\n",
              "      <td>0.821969</td>\n",
              "      <td>3.594195</td>\n",
              "      <td>995</td>\n",
              "    </tr>\n",
              "    <tr>\n",
              "      <th>996</th>\n",
              "      <td>1.966302</td>\n",
              "      <td>0.631959</td>\n",
              "      <td>1.533675</td>\n",
              "      <td>4.043639</td>\n",
              "      <td>0.822126</td>\n",
              "      <td>3.611079</td>\n",
              "      <td>996</td>\n",
              "    </tr>\n",
              "    <tr>\n",
              "      <th>997</th>\n",
              "      <td>1.969935</td>\n",
              "      <td>0.632747</td>\n",
              "      <td>1.537353</td>\n",
              "      <td>4.033738</td>\n",
              "      <td>0.821497</td>\n",
              "      <td>3.601240</td>\n",
              "      <td>997</td>\n",
              "    </tr>\n",
              "    <tr>\n",
              "      <th>998</th>\n",
              "      <td>1.965825</td>\n",
              "      <td>0.631817</td>\n",
              "      <td>1.533306</td>\n",
              "      <td>4.050440</td>\n",
              "      <td>0.822675</td>\n",
              "      <td>3.618015</td>\n",
              "      <td>998</td>\n",
              "    </tr>\n",
              "    <tr>\n",
              "      <th>999</th>\n",
              "      <td>1.965185</td>\n",
              "      <td>0.632002</td>\n",
              "      <td>1.532719</td>\n",
              "      <td>4.034997</td>\n",
              "      <td>0.822536</td>\n",
              "      <td>3.602565</td>\n",
              "      <td>999</td>\n",
              "    </tr>\n",
              "  </tbody>\n",
              "</table>\n",
              "</div>"
            ],
            "text/plain": [
              "         loss  mean_absolute_error  mean_squared_error  val_loss  \\\n",
              "995  1.971103             0.632930            1.538437  4.026803   \n",
              "996  1.966302             0.631959            1.533675  4.043639   \n",
              "997  1.969935             0.632747            1.537353  4.033738   \n",
              "998  1.965825             0.631817            1.533306  4.050440   \n",
              "999  1.965185             0.632002            1.532719  4.034997   \n",
              "\n",
              "     val_mean_absolute_error  val_mean_squared_error  epoch  \n",
              "995                 0.821969                3.594195    995  \n",
              "996                 0.822126                3.611079    996  \n",
              "997                 0.821497                3.601240    997  \n",
              "998                 0.822675                3.618015    998  \n",
              "999                 0.822536                3.602565    999  "
            ]
          },
          "metadata": {
            "tags": []
          },
          "execution_count": 15
        }
      ]
    },
    {
      "metadata": {
        "id": "Ibluf6A_hgUv",
        "colab_type": "code",
        "colab": {}
      },
      "cell_type": "code",
      "source": [
        "# Save history to file\n",
        "# hist.to_csv(index=False, path_or_buf='history.csv', header=hist.columns)"
      ],
      "execution_count": 0,
      "outputs": []
    },
    {
      "metadata": {
        "colab_type": "code",
        "id": "B6XriGbVPh2t",
        "outputId": "301b7c12-01f3-4a9d-ebcd-fa022651ae3b",
        "colab": {
          "base_uri": "https://localhost:8080/",
          "height": 712
        }
      },
      "cell_type": "code",
      "source": [
        "import matplotlib.pyplot as plt\n",
        "\n",
        "def plot_history(history):\n",
        "  hist = pd.DataFrame(history.history)\n",
        "  hist['epoch'] = history.epoch\n",
        "  \n",
        "  plt.figure()\n",
        "  plt.xlabel('Epoch')\n",
        "  plt.ylabel('Mean Abs Error')\n",
        "  plt.plot(hist['epoch'], hist['mean_absolute_error'],\n",
        "           label='Train Error')\n",
        "  plt.plot(hist['epoch'], hist['val_mean_absolute_error'],\n",
        "           label = 'Val Error')\n",
        "  plt.legend()\n",
        "  plt.ylim([0,5])\n",
        "  \n",
        "  plt.figure()\n",
        "  plt.xlabel('Epoch')\n",
        "  plt.ylabel('Mean Square Error')\n",
        "  plt.plot(hist['epoch'], hist['mean_squared_error'],\n",
        "           label='Train Error')\n",
        "  plt.plot(hist['epoch'], hist['val_mean_squared_error'],\n",
        "           label = 'Val Error')\n",
        "  plt.legend()\n",
        "  plt.ylim([0,20])\n",
        "\n",
        "plot_history(history)"
      ],
      "execution_count": 17,
      "outputs": [
        {
          "output_type": "display_data",
          "data": {
            "image/png": "[encoded data removed]",
            "text/plain": [
              "<Figure size 576x396 with 1 Axes>"
            ]
          },
          "metadata": {
            "tags": []
          }
        },
        {
          "output_type": "display_data",
          "data": {
            "image/png": "[encoded data removed]",
            "text/plain": [
              "<Figure size 576x396 with 1 Axes>"
            ]
          },
          "metadata": {
            "tags": []
          }
        }
      ]
    },
    {
      "metadata": {
        "colab_type": "text",
        "id": "AqsuANc11FYv"
      },
      "cell_type": "markdown",
      "source": [
        "This graph shows little improvement, or even degradation in the validation error after about 100 epochs. Let's update the `model.fit` call to automatically stop training when the validation score doesn't improve. We'll use an *EarlyStopping callback* that tests a training condition for  every epoch. If a set amount of epochs elapses without showing improvement, then automatically stop the training.\n",
        "\n",
        "You can learn more about this callback [here](https://www.tensorflow.org/versions/master/api_docs/python/tf/keras/callbacks/EarlyStopping)."
      ]
    },
    {
      "metadata": {
        "id": "3P4Kd0BFG_XQ",
        "colab_type": "code",
        "colab": {}
      },
      "cell_type": "code",
      "source": [
        "# keras.callbacks.EarlyStopping?"
      ],
      "execution_count": 0,
      "outputs": []
    },
    {
      "metadata": {
        "colab_type": "code",
        "id": "fdMZuhUgzMZ4",
        "colab": {}
      },
      "cell_type": "code",
      "source": [
        "# model = build_model()\n",
        "\n",
        "# # The patience parameter is the amount of epochs to check for improvement\n",
        "# early_stop = keras.callbacks.EarlyStopping(monitor='val_loss', patience=50)\n",
        "\n",
        "# history = model.fit(normed_train_data, train_labels, epochs=EPOCHS,\n",
        "#                     validation_split = 0.2, verbose=0, callbacks=[early_stop, PrintDot()])\n",
        "\n",
        "# plot_history(history)"
      ],
      "execution_count": 0,
      "outputs": []
    },
    {
      "metadata": {
        "colab_type": "text",
        "id": "3St8-DmrX8P4"
      },
      "cell_type": "markdown",
      "source": [
        "The graph shows that on the validation set, the average error usually around +/- 2 MPG. Is this good? We'll leave that decision up to you.\n",
        "\n",
        "Let's see how well the model generalizes by using the **test** set, which we did not use when training the model.  This tells us how well we can expect the model to predict when we use it in the real world."
      ]
    },
    {
      "metadata": {
        "colab_type": "code",
        "id": "jl_yNr5n1kms",
        "outputId": "826318b4-02c0-4537-fd15-ab3114363689",
        "colab": {
          "base_uri": "https://localhost:8080/",
          "height": 52
        }
      },
      "cell_type": "code",
      "source": [
        "loss, mae, mse = model.evaluate(normed_test_data, test_labels, verbose=0)\n",
        "\n",
        "print(\"Testing set Mean Abs Error: {:5.2f} \".format(mae))\n",
        "print(\"Testing set Mean Squared Error: {:5.2f} \".format(mse))"
      ],
      "execution_count": 20,
      "outputs": [
        {
          "output_type": "stream",
          "text": [
            "Testing set Mean Abs Error:  0.87 \n",
            "Testing set Mean Squared Error:  3.47 \n"
          ],
          "name": "stdout"
        }
      ]
    },
    {
      "metadata": {
        "colab_type": "text",
        "id": "ft603OzXuEZC"
      },
      "cell_type": "markdown",
      "source": [
        "### Make predictions\n",
        "\n",
        "Finally, predict MPG values using data in the testing set:"
      ]
    },
    {
      "metadata": {
        "id": "qJKwaEggdVFu",
        "colab_type": "code",
        "outputId": "7f58d761-7f34-47e7-8d55-448908bfa1a1",
        "colab": {
          "base_uri": "https://localhost:8080/",
          "height": 105
        }
      },
      "cell_type": "code",
      "source": [
        "# test_predictions = model.predict(normed_test_data).flatten()\n",
        "test_predictions = model.predict(normed_test_data)\n",
        "test_predictions[-5:]"
      ],
      "execution_count": 21,
      "outputs": [
        {
          "output_type": "execute_result",
          "data": {
            "text/plain": [
              "array([[ 0.98268807, 30.026094  ,  0.9945495 ],\n",
              "       [ 1.0273447 , 40.59034   ,  0.90974283],\n",
              "       [ 0.6862683 , 48.88192   ,  4.066671  ],\n",
              "       [ 1.0931904 ,  6.176873  ,  1.5582433 ],\n",
              "       [ 1.1553512 , 23.830406  ,  2.1548593 ]], dtype=float32)"
            ]
          },
          "metadata": {
            "tags": []
          },
          "execution_count": 21
        }
      ]
    },
    {
      "metadata": {
        "colab_type": "code",
        "id": "Xe7RXH3N3CWU",
        "outputId": "488ad779-6056-4169-a27b-8eb474d90ae1",
        "colab": {
          "base_uri": "https://localhost:8080/",
          "height": 361
        }
      },
      "cell_type": "code",
      "source": [
        "plt.scatter(test_labels['aod'], test_predictions[:, 0])\n",
        "plt.xlabel('True Values [aod]')\n",
        "plt.ylabel('Predictions [aod]')\n",
        "plt.axis('equal')\n",
        "plt.axis('square')\n",
        "plt.xlim([0,plt.xlim()[1]])\n",
        "plt.ylim([0,plt.ylim()[1]])\n",
        "_ = plt.plot([-100, 100], [-100, 100])\n"
      ],
      "execution_count": 22,
      "outputs": [
        {
          "output_type": "display_data",
          "data": {
            "image/png": "[encoded data removed]",
            "text/plain": [
              "<Figure size 576x396 with 1 Axes>"
            ]
          },
          "metadata": {
            "tags": []
          }
        }
      ]
    },
    {
      "metadata": {
        "id": "xhWyuaTRfC8h",
        "colab_type": "code",
        "outputId": "6751cf97-3e0e-4116-918d-a496b9d5ab31",
        "colab": {
          "base_uri": "https://localhost:8080/",
          "height": 34
        }
      },
      "cell_type": "code",
      "source": [
        "mse_aod = sum((test_labels['aod'] - test_predictions[:, 0])**2) / len(test_labels['aod'])\n",
        "print('mse_aod:', mse_aod)"
      ],
      "execution_count": 23,
      "outputs": [
        {
          "output_type": "stream",
          "text": [
            "mse_aod: 0.008651590521613987\n"
          ],
          "name": "stdout"
        }
      ]
    },
    {
      "metadata": {
        "id": "_a3l785DeVkt",
        "colab_type": "code",
        "outputId": "bbb50e0f-d675-4875-9f58-35baef3ea3a0",
        "colab": {
          "base_uri": "https://localhost:8080/",
          "height": 361
        }
      },
      "cell_type": "code",
      "source": [
        "plt.scatter(test_labels['cloudOD'], test_predictions[:, 1])\n",
        "plt.xlabel('True Values [cloudOD]')\n",
        "plt.ylabel('Predictions [cloudOD]')\n",
        "plt.axis('equal')\n",
        "plt.axis('square')\n",
        "plt.xlim([0,plt.xlim()[1]])\n",
        "plt.ylim([0,plt.ylim()[1]])\n",
        "_ = plt.plot([-100, 100], [-100, 100])\n"
      ],
      "execution_count": 24,
      "outputs": [
        {
          "output_type": "display_data",
          "data": {
            "image/png": "[encoded data removed]",
            "text/plain": [
              "<Figure size 576x396 with 1 Axes>"
            ]
          },
          "metadata": {
            "tags": []
          }
        }
      ]
    },
    {
      "metadata": {
        "id": "H60On4b3fBrR",
        "colab_type": "code",
        "outputId": "9d3b5b22-37a7-46d2-e931-670da016d9d8",
        "colab": {
          "base_uri": "https://localhost:8080/",
          "height": 34
        }
      },
      "cell_type": "code",
      "source": [
        "mse_cloudOD = sum((test_labels['cloudOD'] - test_predictions[:, 1])**2) / len(test_labels['aod'])\n",
        "print('mse_cloudOD:', mse_cloudOD)"
      ],
      "execution_count": 25,
      "outputs": [
        {
          "output_type": "stream",
          "text": [
            "mse_cloudOD: 9.787035361001305\n"
          ],
          "name": "stdout"
        }
      ]
    },
    {
      "metadata": {
        "id": "bxpB8X5ypO4W",
        "colab_type": "code",
        "outputId": "c50a9e5d-2c16-403f-b12b-06b597deb627",
        "colab": {
          "base_uri": "https://localhost:8080/",
          "height": 361
        }
      },
      "cell_type": "code",
      "source": [
        "plt.scatter(test_labels['cloudBaseHeight_km'], test_predictions[:, 2])\n",
        "plt.xlabel('True Values [cloudBaseHeight_km]')\n",
        "plt.ylabel('Predictions [cloudBaseHeight_km]')\n",
        "plt.axis('equal')\n",
        "plt.axis('square')\n",
        "plt.xlim([0,plt.xlim()[1]])\n",
        "plt.ylim([0,plt.ylim()[1]])\n",
        "_ = plt.plot([-100, 100], [-100, 100])"
      ],
      "execution_count": 26,
      "outputs": [
        {
          "output_type": "display_data",
          "data": {
            "image/png": "[encoded data removed]",
            "text/plain": [
              "<Figure size 576x396 with 1 Axes>"
            ]
          },
          "metadata": {
            "tags": []
          }
        }
      ]
    },
    {
      "metadata": {
        "id": "59uuFny9e_Iy",
        "colab_type": "code",
        "outputId": "8a5e882b-d6c7-45ca-d01e-ad7bc083c6bd",
        "colab": {
          "base_uri": "https://localhost:8080/",
          "height": 34
        }
      },
      "cell_type": "code",
      "source": [
        "mse_cloudBaseHeight_km = sum((test_labels['cloudBaseHeight_km'] - test_predictions[:, 2])**2) / len(test_labels['cloudBaseHeight_km'])\n",
        "print('mse_cloudBaseHeight_km:', mse_cloudBaseHeight_km)"
      ],
      "execution_count": 27,
      "outputs": [
        {
          "output_type": "stream",
          "text": [
            "mse_cloudBaseHeight_km: 0.6100437465965122\n"
          ],
          "name": "stdout"
        }
      ]
    },
    {
      "metadata": {
        "colab_type": "text",
        "id": "OrkHGKZcusUo"
      },
      "cell_type": "markdown",
      "source": [
        "It looks like our model predicts reasonably well. Let's take a look at the error distribution."
      ]
    },
    {
      "metadata": {
        "id": "cfq8AQlresSN",
        "colab_type": "code",
        "outputId": "f4bb9237-f4c7-439c-da80-d540f3b678fb",
        "colab": {
          "base_uri": "https://localhost:8080/",
          "height": 197
        }
      },
      "cell_type": "code",
      "source": [
        "test_labels.tail()"
      ],
      "execution_count": 28,
      "outputs": [
        {
          "output_type": "execute_result",
          "data": {
            "text/html": [
              "<div>\n",
              "<style scoped>\n",
              "    .dataframe tbody tr th:only-of-type {\n",
              "        vertical-align: middle;\n",
              "    }\n",
              "\n",
              "    .dataframe tbody tr th {\n",
              "        vertical-align: top;\n",
              "    }\n",
              "\n",
              "    .dataframe thead th {\n",
              "        text-align: right;\n",
              "    }\n",
              "</style>\n",
              "<table border=\"1\" class=\"dataframe\">\n",
              "  <thead>\n",
              "    <tr style=\"text-align: right;\">\n",
              "      <th></th>\n",
              "      <th>aod</th>\n",
              "      <th>cloudOD</th>\n",
              "      <th>cloudBaseHeight_km</th>\n",
              "    </tr>\n",
              "  </thead>\n",
              "  <tbody>\n",
              "    <tr>\n",
              "      <th>2707</th>\n",
              "      <td>1.07</td>\n",
              "      <td>25.6</td>\n",
              "      <td>0.8</td>\n",
              "    </tr>\n",
              "    <tr>\n",
              "      <th>2711</th>\n",
              "      <td>1.07</td>\n",
              "      <td>51.2</td>\n",
              "      <td>0.8</td>\n",
              "    </tr>\n",
              "    <tr>\n",
              "      <th>2713</th>\n",
              "      <td>1.07</td>\n",
              "      <td>51.2</td>\n",
              "      <td>3.2</td>\n",
              "    </tr>\n",
              "    <tr>\n",
              "      <th>2716</th>\n",
              "      <td>1.07</td>\n",
              "      <td>6.4</td>\n",
              "      <td>1.6</td>\n",
              "    </tr>\n",
              "    <tr>\n",
              "      <th>2725</th>\n",
              "      <td>1.07</td>\n",
              "      <td>25.6</td>\n",
              "      <td>3.2</td>\n",
              "    </tr>\n",
              "  </tbody>\n",
              "</table>\n",
              "</div>"
            ],
            "text/plain": [
              "       aod  cloudOD  cloudBaseHeight_km\n",
              "2707  1.07     25.6                 0.8\n",
              "2711  1.07     51.2                 0.8\n",
              "2713  1.07     51.2                 3.2\n",
              "2716  1.07      6.4                 1.6\n",
              "2725  1.07     25.6                 3.2"
            ]
          },
          "metadata": {
            "tags": []
          },
          "execution_count": 28
        }
      ]
    },
    {
      "metadata": {
        "id": "au03hBNCpsDd",
        "colab_type": "code",
        "outputId": "ac35d03c-be1a-4bd3-9542-00f516ed971c",
        "colab": {
          "base_uri": "https://localhost:8080/",
          "height": 361
        }
      },
      "cell_type": "code",
      "source": [
        "error_aod = test_predictions[:, 0] - test_labels['aod']\n",
        "plt.hist(error_aod, bins = 25)\n",
        "plt.xlabel(\"Prediction Error [aod]\")\n",
        "_ = plt.ylabel(\"Count\")"
      ],
      "execution_count": 29,
      "outputs": [
        {
          "output_type": "display_data",
          "data": {
            "image/png": "[encoded data removed]",
            "text/plain": [
              "<Figure size 576x396 with 1 Axes>"
            ]
          },
          "metadata": {
            "tags": []
          }
        }
      ]
    },
    {
      "metadata": {
        "colab_type": "code",
        "id": "f-OHX4DiXd8x",
        "outputId": "d4eae9c5-b592-4a25-90de-8729438a8189",
        "colab": {
          "base_uri": "https://localhost:8080/",
          "height": 361
        }
      },
      "cell_type": "code",
      "source": [
        "error_cloudOD = test_predictions[:, 1] - test_labels['cloudOD']\n",
        "plt.hist(error_cloudOD, bins = 25)\n",
        "plt.xlabel(\"Prediction Error [cloudOD]\")\n",
        "_ = plt.ylabel(\"Count\")"
      ],
      "execution_count": 30,
      "outputs": [
        {
          "output_type": "display_data",
          "data": {
            "image/png": "[encoded data removed]",
            "text/plain": [
              "<Figure size 576x396 with 1 Axes>"
            ]
          },
          "metadata": {
            "tags": []
          }
        }
      ]
    },
    {
      "metadata": {
        "id": "UCf5PGfDfMIF",
        "colab_type": "code",
        "outputId": "394841cd-6dfb-495b-a090-5936baa47c40",
        "colab": {
          "base_uri": "https://localhost:8080/",
          "height": 361
        }
      },
      "cell_type": "code",
      "source": [
        "error_cloudOD = test_predictions[:, 2] - test_labels['cloudBaseHeight_km']\n",
        "plt.hist(error_cloudOD, bins = 25)\n",
        "plt.xlabel(\"Prediction Error [cloudBaseHeight_km]\")\n",
        "_ = plt.ylabel(\"Count\")"
      ],
      "execution_count": 31,
      "outputs": [
        {
          "output_type": "display_data",
          "data": {
            "image/png": "[encoded data removed]",
            "text/plain": [
              "<Figure size 576x396 with 1 Axes>"
            ]
          },
          "metadata": {
            "tags": []
          }
        }
      ]
    },
    {
      "metadata": {
        "colab_type": "text",
        "id": "r9_kI6MHu1UU"
      },
      "cell_type": "markdown",
      "source": [
        "It's not quite gaussian, but we might expect that because the number of samples is very small."
      ]
    },
    {
      "metadata": {
        "colab_type": "text",
        "id": "vgGQuV-yqYZH"
      },
      "cell_type": "markdown",
      "source": [
        "## Conclusion\n",
        "\n",
        "This notebook introduced a few techniques to handle a regression problem.\n",
        "\n",
        "* Mean Squared Error (MSE) is a common loss function used for regression problems (different loss functions are used for classification problems).\n",
        "* Similarly, evaluation metrics used for regression differ from classification. A common regression metric is Mean Absolute Error (MAE).\n",
        "* When numeric input data features have values with different ranges, each feature should be scaled independently to the same range.\n",
        "* If there is not much training data, one technique is to prefer a small network with few hidden layers to avoid overfitting.\n",
        "* Early stopping is a useful technique to prevent overfitting."
      ]
    }
  ]
}